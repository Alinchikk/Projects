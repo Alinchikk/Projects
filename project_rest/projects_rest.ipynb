{
 "cells": [
  {
   "cell_type": "markdown",
   "metadata": {},
   "source": [
    "# Рынок заведений общественного питания Москвы\n",
    "\n",
    "Проведем исследование рынка заведений общественного питания Москвы.\n",
    "\n",
    "# Описание данных\n",
    "**Таблица rest_data:**\n",
    "\n",
    "id — *идентификатор объекта;*\n",
    "\n",
    "object_name — *название объекта общественного питания;*\n",
    "\n",
    "chain — *сетевой ресторан;*\n",
    "\n",
    "object_type — *тип объекта общественного питания;*\n",
    "\n",
    "address — *адрес;*\n",
    "\n",
    "number — *количество посадочных мест.*"
   ]
  },
  {
   "cell_type": "markdown",
   "metadata": {},
   "source": [
    "## Загрузка данных и подготовка к анализу"
   ]
  },
  {
   "cell_type": "code",
   "execution_count": 1,
   "metadata": {},
   "outputs": [],
   "source": [
    "import pandas as pd\n",
    "import numpy as np\n",
    "from datetime import datetime, timedelta\n",
    "from matplotlib import pyplot as plt\n",
    "import seaborn as sns\n",
    "from IPython.display import display\n",
    "import re\n",
    "import requests\n",
    "from io import BytesIO"
   ]
  },
  {
   "cell_type": "code",
   "execution_count": 168,
   "metadata": {},
   "outputs": [],
   "source": [
    "rest_data=pd.read_csv('/datasets/rest_data.csv')"
   ]
  },
  {
   "cell_type": "code",
   "execution_count": 169,
   "metadata": {},
   "outputs": [
    {
     "name": "stdout",
     "output_type": "stream",
     "text": [
      "<class 'pandas.core.frame.DataFrame'>\n",
      "RangeIndex: 15366 entries, 0 to 15365\n",
      "Data columns (total 6 columns):\n",
      "id             15366 non-null int64\n",
      "object_name    15366 non-null object\n",
      "chain          15366 non-null object\n",
      "object_type    15366 non-null object\n",
      "address        15366 non-null object\n",
      "number         15366 non-null int64\n",
      "dtypes: int64(2), object(4)\n",
      "memory usage: 720.4+ KB\n"
     ]
    }
   ],
   "source": [
    "rest_data.info()"
   ]
  },
  {
   "cell_type": "code",
   "execution_count": 170,
   "metadata": {},
   "outputs": [
    {
     "data": {
      "text/html": [
       "<div>\n",
       "<style scoped>\n",
       "    .dataframe tbody tr th:only-of-type {\n",
       "        vertical-align: middle;\n",
       "    }\n",
       "\n",
       "    .dataframe tbody tr th {\n",
       "        vertical-align: top;\n",
       "    }\n",
       "\n",
       "    .dataframe thead th {\n",
       "        text-align: right;\n",
       "    }\n",
       "</style>\n",
       "<table border=\"1\" class=\"dataframe\">\n",
       "  <thead>\n",
       "    <tr style=\"text-align: right;\">\n",
       "      <th></th>\n",
       "      <th>id</th>\n",
       "      <th>object_name</th>\n",
       "      <th>chain</th>\n",
       "      <th>object_type</th>\n",
       "      <th>address</th>\n",
       "      <th>number</th>\n",
       "    </tr>\n",
       "  </thead>\n",
       "  <tbody>\n",
       "    <tr>\n",
       "      <td>0</td>\n",
       "      <td>151635</td>\n",
       "      <td>СМЕТАНА</td>\n",
       "      <td>нет</td>\n",
       "      <td>кафе</td>\n",
       "      <td>город Москва, улица Егора Абакумова, дом 9</td>\n",
       "      <td>48</td>\n",
       "    </tr>\n",
       "    <tr>\n",
       "      <td>1</td>\n",
       "      <td>77874</td>\n",
       "      <td>Родник</td>\n",
       "      <td>нет</td>\n",
       "      <td>кафе</td>\n",
       "      <td>город Москва, улица Талалихина, дом 2/1, корпус 1</td>\n",
       "      <td>35</td>\n",
       "    </tr>\n",
       "    <tr>\n",
       "      <td>2</td>\n",
       "      <td>24309</td>\n",
       "      <td>Кафе «Академия»</td>\n",
       "      <td>нет</td>\n",
       "      <td>кафе</td>\n",
       "      <td>город Москва, Абельмановская улица, дом 6</td>\n",
       "      <td>95</td>\n",
       "    </tr>\n",
       "    <tr>\n",
       "      <td>3</td>\n",
       "      <td>21894</td>\n",
       "      <td>ПИЦЦЕТОРИЯ</td>\n",
       "      <td>да</td>\n",
       "      <td>кафе</td>\n",
       "      <td>город Москва, Абрамцевская улица, дом 1</td>\n",
       "      <td>40</td>\n",
       "    </tr>\n",
       "    <tr>\n",
       "      <td>4</td>\n",
       "      <td>119365</td>\n",
       "      <td>Кафе «Вишневая метель»</td>\n",
       "      <td>нет</td>\n",
       "      <td>кафе</td>\n",
       "      <td>город Москва, Абрамцевская улица, дом 9, корпус 1</td>\n",
       "      <td>50</td>\n",
       "    </tr>\n",
       "  </tbody>\n",
       "</table>\n",
       "</div>"
      ],
      "text/plain": [
       "       id             object_name chain object_type  \\\n",
       "0  151635                 СМЕТАНА   нет        кафе   \n",
       "1   77874                  Родник   нет        кафе   \n",
       "2   24309         Кафе «Академия»   нет        кафе   \n",
       "3   21894              ПИЦЦЕТОРИЯ    да        кафе   \n",
       "4  119365  Кафе «Вишневая метель»   нет        кафе   \n",
       "\n",
       "                                             address  number  \n",
       "0         город Москва, улица Егора Абакумова, дом 9      48  \n",
       "1  город Москва, улица Талалихина, дом 2/1, корпус 1      35  \n",
       "2          город Москва, Абельмановская улица, дом 6      95  \n",
       "3            город Москва, Абрамцевская улица, дом 1      40  \n",
       "4  город Москва, Абрамцевская улица, дом 9, корпус 1      50  "
      ]
     },
     "execution_count": 170,
     "metadata": {},
     "output_type": "execute_result"
    }
   ],
   "source": [
    "rest_data.head()"
   ]
  },
  {
   "cell_type": "code",
   "execution_count": 171,
   "metadata": {},
   "outputs": [
    {
     "data": {
      "text/html": [
       "<div>\n",
       "<style scoped>\n",
       "    .dataframe tbody tr th:only-of-type {\n",
       "        vertical-align: middle;\n",
       "    }\n",
       "\n",
       "    .dataframe tbody tr th {\n",
       "        vertical-align: top;\n",
       "    }\n",
       "\n",
       "    .dataframe thead th {\n",
       "        text-align: right;\n",
       "    }\n",
       "</style>\n",
       "<table border=\"1\" class=\"dataframe\">\n",
       "  <thead>\n",
       "    <tr style=\"text-align: right;\">\n",
       "      <th></th>\n",
       "      <th>id</th>\n",
       "      <th>object_name</th>\n",
       "      <th>chain</th>\n",
       "      <th>object_type</th>\n",
       "      <th>address</th>\n",
       "      <th>number</th>\n",
       "    </tr>\n",
       "  </thead>\n",
       "  <tbody>\n",
       "    <tr>\n",
       "      <td>0</td>\n",
       "      <td>151635</td>\n",
       "      <td>сметана</td>\n",
       "      <td>нет</td>\n",
       "      <td>кафе</td>\n",
       "      <td>город Москва, улица Егора Абакумова, дом 9</td>\n",
       "      <td>48</td>\n",
       "    </tr>\n",
       "    <tr>\n",
       "      <td>1</td>\n",
       "      <td>77874</td>\n",
       "      <td>родник</td>\n",
       "      <td>нет</td>\n",
       "      <td>кафе</td>\n",
       "      <td>город Москва, улица Талалихина, дом 2/1, корпус 1</td>\n",
       "      <td>35</td>\n",
       "    </tr>\n",
       "    <tr>\n",
       "      <td>2</td>\n",
       "      <td>24309</td>\n",
       "      <td>кафе «академия»</td>\n",
       "      <td>нет</td>\n",
       "      <td>кафе</td>\n",
       "      <td>город Москва, Абельмановская улица, дом 6</td>\n",
       "      <td>95</td>\n",
       "    </tr>\n",
       "    <tr>\n",
       "      <td>3</td>\n",
       "      <td>21894</td>\n",
       "      <td>пиццетория</td>\n",
       "      <td>да</td>\n",
       "      <td>кафе</td>\n",
       "      <td>город Москва, Абрамцевская улица, дом 1</td>\n",
       "      <td>40</td>\n",
       "    </tr>\n",
       "    <tr>\n",
       "      <td>4</td>\n",
       "      <td>119365</td>\n",
       "      <td>кафе «вишневая метель»</td>\n",
       "      <td>нет</td>\n",
       "      <td>кафе</td>\n",
       "      <td>город Москва, Абрамцевская улица, дом 9, корпус 1</td>\n",
       "      <td>50</td>\n",
       "    </tr>\n",
       "    <tr>\n",
       "      <td>...</td>\n",
       "      <td>...</td>\n",
       "      <td>...</td>\n",
       "      <td>...</td>\n",
       "      <td>...</td>\n",
       "      <td>...</td>\n",
       "      <td>...</td>\n",
       "    </tr>\n",
       "    <tr>\n",
       "      <td>15361</td>\n",
       "      <td>208537</td>\n",
       "      <td>шоколадница</td>\n",
       "      <td>да</td>\n",
       "      <td>кафе</td>\n",
       "      <td>город Москва, 3-й Крутицкий переулок, дом 18</td>\n",
       "      <td>50</td>\n",
       "    </tr>\n",
       "    <tr>\n",
       "      <td>15362</td>\n",
       "      <td>209264</td>\n",
       "      <td>шоколадница</td>\n",
       "      <td>да</td>\n",
       "      <td>кафе</td>\n",
       "      <td>город Москва, улица Земляной Вал, дом 33</td>\n",
       "      <td>10</td>\n",
       "    </tr>\n",
       "    <tr>\n",
       "      <td>15363</td>\n",
       "      <td>209186</td>\n",
       "      <td>шоколадница</td>\n",
       "      <td>да</td>\n",
       "      <td>кафе</td>\n",
       "      <td>город Москва, улица Земляной Вал, дом 33</td>\n",
       "      <td>20</td>\n",
       "    </tr>\n",
       "    <tr>\n",
       "      <td>15364</td>\n",
       "      <td>221900</td>\n",
       "      <td>шоколадница</td>\n",
       "      <td>да</td>\n",
       "      <td>кафе</td>\n",
       "      <td>город Москва, поселение Московский, Киевское ш...</td>\n",
       "      <td>36</td>\n",
       "    </tr>\n",
       "    <tr>\n",
       "      <td>15365</td>\n",
       "      <td>222535</td>\n",
       "      <td>шоколадница</td>\n",
       "      <td>да</td>\n",
       "      <td>кафе</td>\n",
       "      <td>город Москва, Ходынский бульвар, дом 4</td>\n",
       "      <td>10</td>\n",
       "    </tr>\n",
       "  </tbody>\n",
       "</table>\n",
       "<p>15366 rows × 6 columns</p>\n",
       "</div>"
      ],
      "text/plain": [
       "           id             object_name chain object_type  \\\n",
       "0      151635                 сметана   нет        кафе   \n",
       "1       77874                  родник   нет        кафе   \n",
       "2       24309         кафе «академия»   нет        кафе   \n",
       "3       21894              пиццетория    да        кафе   \n",
       "4      119365  кафе «вишневая метель»   нет        кафе   \n",
       "...       ...                     ...   ...         ...   \n",
       "15361  208537             шоколадница    да        кафе   \n",
       "15362  209264             шоколадница    да        кафе   \n",
       "15363  209186             шоколадница    да        кафе   \n",
       "15364  221900             шоколадница    да        кафе   \n",
       "15365  222535             шоколадница    да        кафе   \n",
       "\n",
       "                                                 address  number  \n",
       "0             город Москва, улица Егора Абакумова, дом 9      48  \n",
       "1      город Москва, улица Талалихина, дом 2/1, корпус 1      35  \n",
       "2              город Москва, Абельмановская улица, дом 6      95  \n",
       "3                город Москва, Абрамцевская улица, дом 1      40  \n",
       "4      город Москва, Абрамцевская улица, дом 9, корпус 1      50  \n",
       "...                                                  ...     ...  \n",
       "15361       город Москва, 3-й Крутицкий переулок, дом 18      50  \n",
       "15362           город Москва, улица Земляной Вал, дом 33      10  \n",
       "15363           город Москва, улица Земляной Вал, дом 33      20  \n",
       "15364  город Москва, поселение Московский, Киевское ш...      36  \n",
       "15365             город Москва, Ходынский бульвар, дом 4      10  \n",
       "\n",
       "[15366 rows x 6 columns]"
      ]
     },
     "execution_count": 171,
     "metadata": {},
     "output_type": "execute_result"
    }
   ],
   "source": [
    "#приведем названия заведений к нижнему регистру\n",
    "rest_data['object_name']=rest_data['object_name'].str.lower()\n",
    "rest_data"
   ]
  },
  {
   "cell_type": "code",
   "execution_count": 172,
   "metadata": {},
   "outputs": [],
   "source": [
    "#удалим дубликаты без столбца id\n",
    "rest_data = rest_data.drop_duplicates(['object_name','chain','object_type', 'address','number'], keep='last')"
   ]
  },
  {
   "cell_type": "code",
   "execution_count": 173,
   "metadata": {},
   "outputs": [
    {
     "data": {
      "text/html": [
       "<div>\n",
       "<style scoped>\n",
       "    .dataframe tbody tr th:only-of-type {\n",
       "        vertical-align: middle;\n",
       "    }\n",
       "\n",
       "    .dataframe tbody tr th {\n",
       "        vertical-align: top;\n",
       "    }\n",
       "\n",
       "    .dataframe thead th {\n",
       "        text-align: right;\n",
       "    }\n",
       "</style>\n",
       "<table border=\"1\" class=\"dataframe\">\n",
       "  <thead>\n",
       "    <tr style=\"text-align: right;\">\n",
       "      <th></th>\n",
       "      <th>id</th>\n",
       "      <th>object_name</th>\n",
       "      <th>chain</th>\n",
       "      <th>object_type</th>\n",
       "      <th>address</th>\n",
       "      <th>number</th>\n",
       "    </tr>\n",
       "  </thead>\n",
       "  <tbody>\n",
       "    <tr>\n",
       "      <td>0</td>\n",
       "      <td>151635</td>\n",
       "      <td>сметана</td>\n",
       "      <td>нет</td>\n",
       "      <td>кафе</td>\n",
       "      <td>город Москва, улица Егора Абакумова, дом 9</td>\n",
       "      <td>48</td>\n",
       "    </tr>\n",
       "    <tr>\n",
       "      <td>1</td>\n",
       "      <td>77874</td>\n",
       "      <td>родник</td>\n",
       "      <td>нет</td>\n",
       "      <td>кафе</td>\n",
       "      <td>город Москва, улица Талалихина, дом 2/1, корпус 1</td>\n",
       "      <td>35</td>\n",
       "    </tr>\n",
       "    <tr>\n",
       "      <td>2</td>\n",
       "      <td>24309</td>\n",
       "      <td>кафе «академия»</td>\n",
       "      <td>нет</td>\n",
       "      <td>кафе</td>\n",
       "      <td>город Москва, Абельмановская улица, дом 6</td>\n",
       "      <td>95</td>\n",
       "    </tr>\n",
       "    <tr>\n",
       "      <td>3</td>\n",
       "      <td>21894</td>\n",
       "      <td>пиццетория</td>\n",
       "      <td>да</td>\n",
       "      <td>кафе</td>\n",
       "      <td>город Москва, Абрамцевская улица, дом 1</td>\n",
       "      <td>40</td>\n",
       "    </tr>\n",
       "    <tr>\n",
       "      <td>4</td>\n",
       "      <td>119365</td>\n",
       "      <td>кафе «вишневая метель»</td>\n",
       "      <td>нет</td>\n",
       "      <td>кафе</td>\n",
       "      <td>город Москва, Абрамцевская улица, дом 9, корпус 1</td>\n",
       "      <td>50</td>\n",
       "    </tr>\n",
       "    <tr>\n",
       "      <td>...</td>\n",
       "      <td>...</td>\n",
       "      <td>...</td>\n",
       "      <td>...</td>\n",
       "      <td>...</td>\n",
       "      <td>...</td>\n",
       "      <td>...</td>\n",
       "    </tr>\n",
       "    <tr>\n",
       "      <td>15361</td>\n",
       "      <td>208537</td>\n",
       "      <td>шоколадница</td>\n",
       "      <td>да</td>\n",
       "      <td>кафе</td>\n",
       "      <td>город Москва, 3-й Крутицкий переулок, дом 18</td>\n",
       "      <td>50</td>\n",
       "    </tr>\n",
       "    <tr>\n",
       "      <td>15362</td>\n",
       "      <td>209264</td>\n",
       "      <td>шоколадница</td>\n",
       "      <td>да</td>\n",
       "      <td>кафе</td>\n",
       "      <td>город Москва, улица Земляной Вал, дом 33</td>\n",
       "      <td>10</td>\n",
       "    </tr>\n",
       "    <tr>\n",
       "      <td>15363</td>\n",
       "      <td>209186</td>\n",
       "      <td>шоколадница</td>\n",
       "      <td>да</td>\n",
       "      <td>кафе</td>\n",
       "      <td>город Москва, улица Земляной Вал, дом 33</td>\n",
       "      <td>20</td>\n",
       "    </tr>\n",
       "    <tr>\n",
       "      <td>15364</td>\n",
       "      <td>221900</td>\n",
       "      <td>шоколадница</td>\n",
       "      <td>да</td>\n",
       "      <td>кафе</td>\n",
       "      <td>город Москва, поселение Московский, Киевское ш...</td>\n",
       "      <td>36</td>\n",
       "    </tr>\n",
       "    <tr>\n",
       "      <td>15365</td>\n",
       "      <td>222535</td>\n",
       "      <td>шоколадница</td>\n",
       "      <td>да</td>\n",
       "      <td>кафе</td>\n",
       "      <td>город Москва, Ходынский бульвар, дом 4</td>\n",
       "      <td>10</td>\n",
       "    </tr>\n",
       "  </tbody>\n",
       "</table>\n",
       "<p>15281 rows × 6 columns</p>\n",
       "</div>"
      ],
      "text/plain": [
       "           id             object_name chain object_type  \\\n",
       "0      151635                 сметана   нет        кафе   \n",
       "1       77874                  родник   нет        кафе   \n",
       "2       24309         кафе «академия»   нет        кафе   \n",
       "3       21894              пиццетория    да        кафе   \n",
       "4      119365  кафе «вишневая метель»   нет        кафе   \n",
       "...       ...                     ...   ...         ...   \n",
       "15361  208537             шоколадница    да        кафе   \n",
       "15362  209264             шоколадница    да        кафе   \n",
       "15363  209186             шоколадница    да        кафе   \n",
       "15364  221900             шоколадница    да        кафе   \n",
       "15365  222535             шоколадница    да        кафе   \n",
       "\n",
       "                                                 address  number  \n",
       "0             город Москва, улица Егора Абакумова, дом 9      48  \n",
       "1      город Москва, улица Талалихина, дом 2/1, корпус 1      35  \n",
       "2              город Москва, Абельмановская улица, дом 6      95  \n",
       "3                город Москва, Абрамцевская улица, дом 1      40  \n",
       "4      город Москва, Абрамцевская улица, дом 9, корпус 1      50  \n",
       "...                                                  ...     ...  \n",
       "15361       город Москва, 3-й Крутицкий переулок, дом 18      50  \n",
       "15362           город Москва, улица Земляной Вал, дом 33      10  \n",
       "15363           город Москва, улица Земляной Вал, дом 33      20  \n",
       "15364  город Москва, поселение Московский, Киевское ш...      36  \n",
       "15365             город Москва, Ходынский бульвар, дом 4      10  \n",
       "\n",
       "[15281 rows x 6 columns]"
      ]
     },
     "execution_count": 173,
     "metadata": {},
     "output_type": "execute_result"
    }
   ],
   "source": [
    "rest_data"
   ]
  },
  {
   "cell_type": "markdown",
   "metadata": {},
   "source": [
    "## Анализ данных"
   ]
  },
  {
   "cell_type": "markdown",
   "metadata": {},
   "source": [
    "### Исследуйте соотношение видов объектов общественного питания по количеству. Постройте график."
   ]
  },
  {
   "cell_type": "code",
   "execution_count": 174,
   "metadata": {},
   "outputs": [
    {
     "data": {
      "text/html": [
       "<div>\n",
       "<style scoped>\n",
       "    .dataframe tbody tr th:only-of-type {\n",
       "        vertical-align: middle;\n",
       "    }\n",
       "\n",
       "    .dataframe tbody tr th {\n",
       "        vertical-align: top;\n",
       "    }\n",
       "\n",
       "    .dataframe thead th {\n",
       "        text-align: right;\n",
       "    }\n",
       "</style>\n",
       "<table border=\"1\" class=\"dataframe\">\n",
       "  <thead>\n",
       "    <tr style=\"text-align: right;\">\n",
       "      <th></th>\n",
       "      <th>id</th>\n",
       "    </tr>\n",
       "    <tr>\n",
       "      <th>object_type</th>\n",
       "      <th></th>\n",
       "    </tr>\n",
       "  </thead>\n",
       "  <tbody>\n",
       "    <tr>\n",
       "      <td>кафе</td>\n",
       "      <td>6071</td>\n",
       "    </tr>\n",
       "    <tr>\n",
       "      <td>столовая</td>\n",
       "      <td>2584</td>\n",
       "    </tr>\n",
       "    <tr>\n",
       "      <td>ресторан</td>\n",
       "      <td>2282</td>\n",
       "    </tr>\n",
       "    <tr>\n",
       "      <td>предприятие быстрого обслуживания</td>\n",
       "      <td>1897</td>\n",
       "    </tr>\n",
       "    <tr>\n",
       "      <td>бар</td>\n",
       "      <td>855</td>\n",
       "    </tr>\n",
       "    <tr>\n",
       "      <td>буфет</td>\n",
       "      <td>576</td>\n",
       "    </tr>\n",
       "    <tr>\n",
       "      <td>кафетерий</td>\n",
       "      <td>395</td>\n",
       "    </tr>\n",
       "    <tr>\n",
       "      <td>закусочная</td>\n",
       "      <td>348</td>\n",
       "    </tr>\n",
       "    <tr>\n",
       "      <td>магазин (отдел кулинарии)</td>\n",
       "      <td>273</td>\n",
       "    </tr>\n",
       "  </tbody>\n",
       "</table>\n",
       "</div>"
      ],
      "text/plain": [
       "                                     id\n",
       "object_type                            \n",
       "кафе                               6071\n",
       "столовая                           2584\n",
       "ресторан                           2282\n",
       "предприятие быстрого обслуживания  1897\n",
       "бар                                 855\n",
       "буфет                               576\n",
       "кафетерий                           395\n",
       "закусочная                          348\n",
       "магазин (отдел кулинарии)           273"
      ]
     },
     "execution_count": 174,
     "metadata": {},
     "output_type": "execute_result"
    }
   ],
   "source": [
    "rest_data2=rest_data.pivot_table(index='object_type', values='id', aggfunc='count').sort_values(by='id',ascending=False)\n",
    "rest_data2"
   ]
  },
  {
   "cell_type": "code",
   "execution_count": 175,
   "metadata": {},
   "outputs": [
    {
     "data": {
      "text/plain": [
       "Text(0.5, 1.0, 'Распределение объектов общественного питания')"
      ]
     },
     "execution_count": 175,
     "metadata": {},
     "output_type": "execute_result"
    },
    {
     "data": {
      "image/png": "[encoded data removed]",
      "text/plain": [
       "<Figure size 432x288 with 1 Axes>"
      ]
     },
     "metadata": {
      "needs_background": "light"
     },
     "output_type": "display_data"
    }
   ],
   "source": [
    "fig=sns.barplot(y=\"object_type\", x=\"id\", data=rest_data2.reset_index())\n",
    "fig.set_xlabel('Количество')\n",
    "fig.set_ylabel('Объект общественного питания')\n",
    "fig.set_title('Распределение объектов общественного питания')"
   ]
  },
  {
   "cell_type": "markdown",
   "metadata": {},
   "source": [
    "***Из графика видно, что в Москве большую часть рынка заведений общественного питания занимают кафе - их больше 6000. Примерно одинаковое количество столовых, ресторанов и предприятий быстрого обслуживания - 2587, 2285 и 1923 соответственно. Меньше всего отделов кулинарий - 273.***"
   ]
  },
  {
   "cell_type": "markdown",
   "metadata": {},
   "source": [
    "### Исследуйте соотношение сетевых и несетевых заведений по количеству. Постройте график."
   ]
  },
  {
   "cell_type": "code",
   "execution_count": 176,
   "metadata": {},
   "outputs": [
    {
     "data": {
      "text/html": [
       "<div>\n",
       "<style scoped>\n",
       "    .dataframe tbody tr th:only-of-type {\n",
       "        vertical-align: middle;\n",
       "    }\n",
       "\n",
       "    .dataframe tbody tr th {\n",
       "        vertical-align: top;\n",
       "    }\n",
       "\n",
       "    .dataframe thead th {\n",
       "        text-align: right;\n",
       "    }\n",
       "</style>\n",
       "<table border=\"1\" class=\"dataframe\">\n",
       "  <thead>\n",
       "    <tr style=\"text-align: right;\">\n",
       "      <th></th>\n",
       "      <th>id</th>\n",
       "    </tr>\n",
       "    <tr>\n",
       "      <th>chain</th>\n",
       "      <th></th>\n",
       "    </tr>\n",
       "  </thead>\n",
       "  <tbody>\n",
       "    <tr>\n",
       "      <td>нет</td>\n",
       "      <td>12317</td>\n",
       "    </tr>\n",
       "    <tr>\n",
       "      <td>да</td>\n",
       "      <td>2964</td>\n",
       "    </tr>\n",
       "  </tbody>\n",
       "</table>\n",
       "</div>"
      ],
      "text/plain": [
       "          id\n",
       "chain       \n",
       "нет    12317\n",
       "да      2964"
      ]
     },
     "execution_count": 176,
     "metadata": {},
     "output_type": "execute_result"
    }
   ],
   "source": [
    "rest_data3=rest_data.pivot_table(index='chain', values='id', aggfunc='count').sort_values(by='id',ascending=False)\n",
    "rest_data3"
   ]
  },
  {
   "cell_type": "code",
   "execution_count": 177,
   "metadata": {},
   "outputs": [
    {
     "data": {
      "text/plain": [
       "Text(0.5, 1.0, 'Соотношение сетевых и несетевых объектов общественного питания')"
      ]
     },
     "execution_count": 177,
     "metadata": {},
     "output_type": "execute_result"
    },
    {
     "data": {
      "image/png": "[encoded data removed]",
      "text/plain": [
       "<Figure size 432x288 with 1 Axes>"
      ]
     },
     "metadata": {
      "needs_background": "light"
     },
     "output_type": "display_data"
    }
   ],
   "source": [
    "fig=sns.barplot(y=\"chain\", x=\"id\", data=rest_data3.reset_index())\n",
    "fig.set_title('Соотношение сетевых и несетевых объектов общественного питания')"
   ]
  },
  {
   "cell_type": "markdown",
   "metadata": {},
   "source": [
    "***По количеству заведений явным лидером являются несетевые объекты общественного питания, их больше в 4 раза (12398 заведений против 2968).***"
   ]
  },
  {
   "cell_type": "markdown",
   "metadata": {},
   "source": [
    "### Для какого вида объекта общественного питания характерно сетевое распространение?"
   ]
  },
  {
   "cell_type": "code",
   "execution_count": 178,
   "metadata": {},
   "outputs": [
    {
     "data": {
      "text/html": [
       "<div>\n",
       "<style scoped>\n",
       "    .dataframe tbody tr th:only-of-type {\n",
       "        vertical-align: middle;\n",
       "    }\n",
       "\n",
       "    .dataframe tbody tr th {\n",
       "        vertical-align: top;\n",
       "    }\n",
       "\n",
       "    .dataframe thead th {\n",
       "        text-align: right;\n",
       "    }\n",
       "</style>\n",
       "<table border=\"1\" class=\"dataframe\">\n",
       "  <thead>\n",
       "    <tr style=\"text-align: right;\">\n",
       "      <th></th>\n",
       "      <th>id</th>\n",
       "      <th>object_name</th>\n",
       "      <th>chain</th>\n",
       "      <th>object_type</th>\n",
       "      <th>address</th>\n",
       "      <th>number</th>\n",
       "    </tr>\n",
       "  </thead>\n",
       "  <tbody>\n",
       "    <tr>\n",
       "      <td>3</td>\n",
       "      <td>21894</td>\n",
       "      <td>пиццетория</td>\n",
       "      <td>да</td>\n",
       "      <td>кафе</td>\n",
       "      <td>город Москва, Абрамцевская улица, дом 1</td>\n",
       "      <td>40</td>\n",
       "    </tr>\n",
       "    <tr>\n",
       "      <td>6</td>\n",
       "      <td>148815</td>\n",
       "      <td>брусника</td>\n",
       "      <td>да</td>\n",
       "      <td>кафе</td>\n",
       "      <td>город Москва, переулок Сивцев Вражек, дом 6/2</td>\n",
       "      <td>10</td>\n",
       "    </tr>\n",
       "    <tr>\n",
       "      <td>13</td>\n",
       "      <td>22579</td>\n",
       "      <td>алло пицца</td>\n",
       "      <td>да</td>\n",
       "      <td>кафе</td>\n",
       "      <td>город Москва, улица Авиаторов, дом 14</td>\n",
       "      <td>32</td>\n",
       "    </tr>\n",
       "    <tr>\n",
       "      <td>16</td>\n",
       "      <td>144107</td>\n",
       "      <td>суши wok</td>\n",
       "      <td>да</td>\n",
       "      <td>предприятие быстрого обслуживания</td>\n",
       "      <td>город Москва, Азовская улица, дом 3</td>\n",
       "      <td>7</td>\n",
       "    </tr>\n",
       "    <tr>\n",
       "      <td>18</td>\n",
       "      <td>58565</td>\n",
       "      <td>тануки</td>\n",
       "      <td>да</td>\n",
       "      <td>ресторан</td>\n",
       "      <td>город Москва, Большая Академическая улица, дом 65</td>\n",
       "      <td>160</td>\n",
       "    </tr>\n",
       "    <tr>\n",
       "      <td>...</td>\n",
       "      <td>...</td>\n",
       "      <td>...</td>\n",
       "      <td>...</td>\n",
       "      <td>...</td>\n",
       "      <td>...</td>\n",
       "      <td>...</td>\n",
       "    </tr>\n",
       "    <tr>\n",
       "      <td>15361</td>\n",
       "      <td>208537</td>\n",
       "      <td>шоколадница</td>\n",
       "      <td>да</td>\n",
       "      <td>кафе</td>\n",
       "      <td>город Москва, 3-й Крутицкий переулок, дом 18</td>\n",
       "      <td>50</td>\n",
       "    </tr>\n",
       "    <tr>\n",
       "      <td>15362</td>\n",
       "      <td>209264</td>\n",
       "      <td>шоколадница</td>\n",
       "      <td>да</td>\n",
       "      <td>кафе</td>\n",
       "      <td>город Москва, улица Земляной Вал, дом 33</td>\n",
       "      <td>10</td>\n",
       "    </tr>\n",
       "    <tr>\n",
       "      <td>15363</td>\n",
       "      <td>209186</td>\n",
       "      <td>шоколадница</td>\n",
       "      <td>да</td>\n",
       "      <td>кафе</td>\n",
       "      <td>город Москва, улица Земляной Вал, дом 33</td>\n",
       "      <td>20</td>\n",
       "    </tr>\n",
       "    <tr>\n",
       "      <td>15364</td>\n",
       "      <td>221900</td>\n",
       "      <td>шоколадница</td>\n",
       "      <td>да</td>\n",
       "      <td>кафе</td>\n",
       "      <td>город Москва, поселение Московский, Киевское ш...</td>\n",
       "      <td>36</td>\n",
       "    </tr>\n",
       "    <tr>\n",
       "      <td>15365</td>\n",
       "      <td>222535</td>\n",
       "      <td>шоколадница</td>\n",
       "      <td>да</td>\n",
       "      <td>кафе</td>\n",
       "      <td>город Москва, Ходынский бульвар, дом 4</td>\n",
       "      <td>10</td>\n",
       "    </tr>\n",
       "  </tbody>\n",
       "</table>\n",
       "<p>2964 rows × 6 columns</p>\n",
       "</div>"
      ],
      "text/plain": [
       "           id  object_name chain                        object_type  \\\n",
       "3       21894   пиццетория    да                               кафе   \n",
       "6      148815     брусника    да                               кафе   \n",
       "13      22579   алло пицца    да                               кафе   \n",
       "16     144107     суши wok    да  предприятие быстрого обслуживания   \n",
       "18      58565       тануки    да                           ресторан   \n",
       "...       ...          ...   ...                                ...   \n",
       "15361  208537  шоколадница    да                               кафе   \n",
       "15362  209264  шоколадница    да                               кафе   \n",
       "15363  209186  шоколадница    да                               кафе   \n",
       "15364  221900  шоколадница    да                               кафе   \n",
       "15365  222535  шоколадница    да                               кафе   \n",
       "\n",
       "                                                 address  number  \n",
       "3                город Москва, Абрамцевская улица, дом 1      40  \n",
       "6          город Москва, переулок Сивцев Вражек, дом 6/2      10  \n",
       "13                 город Москва, улица Авиаторов, дом 14      32  \n",
       "16                   город Москва, Азовская улица, дом 3       7  \n",
       "18     город Москва, Большая Академическая улица, дом 65     160  \n",
       "...                                                  ...     ...  \n",
       "15361       город Москва, 3-й Крутицкий переулок, дом 18      50  \n",
       "15362           город Москва, улица Земляной Вал, дом 33      10  \n",
       "15363           город Москва, улица Земляной Вал, дом 33      20  \n",
       "15364  город Москва, поселение Московский, Киевское ш...      36  \n",
       "15365             город Москва, Ходынский бульвар, дом 4      10  \n",
       "\n",
       "[2964 rows x 6 columns]"
      ]
     },
     "execution_count": 178,
     "metadata": {},
     "output_type": "execute_result"
    }
   ],
   "source": [
    "#выбираем только сетевые заведения\n",
    "rest_data_set=rest_data.query('chain==\"да\"')\n",
    "rest_data_set"
   ]
  },
  {
   "cell_type": "code",
   "execution_count": 179,
   "metadata": {},
   "outputs": [
    {
     "data": {
      "text/plain": [
       "кафе                                 1396\n",
       "предприятие быстрого обслуживания     788\n",
       "ресторан                              543\n",
       "магазин (отдел кулинарии)              78\n",
       "закусочная                             56\n",
       "кафетерий                              52\n",
       "бар                                    37\n",
       "буфет                                  11\n",
       "столовая                                3\n",
       "Name: object_type, dtype: int64"
      ]
     },
     "execution_count": 179,
     "metadata": {},
     "output_type": "execute_result"
    }
   ],
   "source": [
    "rest_data_set2=rest_data_set['object_type'].value_counts()\n",
    "rest_data_set2"
   ]
  },
  {
   "cell_type": "code",
   "execution_count": 180,
   "metadata": {},
   "outputs": [
    {
     "data": {
      "text/html": [
       "<div>\n",
       "<style scoped>\n",
       "    .dataframe tbody tr th:only-of-type {\n",
       "        vertical-align: middle;\n",
       "    }\n",
       "\n",
       "    .dataframe tbody tr th {\n",
       "        vertical-align: top;\n",
       "    }\n",
       "\n",
       "    .dataframe thead th {\n",
       "        text-align: right;\n",
       "    }\n",
       "</style>\n",
       "<table border=\"1\" class=\"dataframe\">\n",
       "  <thead>\n",
       "    <tr style=\"text-align: right;\">\n",
       "      <th></th>\n",
       "      <th>id</th>\n",
       "      <th>set</th>\n",
       "    </tr>\n",
       "    <tr>\n",
       "      <th>object_type</th>\n",
       "      <th></th>\n",
       "      <th></th>\n",
       "    </tr>\n",
       "  </thead>\n",
       "  <tbody>\n",
       "    <tr>\n",
       "      <td>кафе</td>\n",
       "      <td>6071</td>\n",
       "      <td>1396</td>\n",
       "    </tr>\n",
       "    <tr>\n",
       "      <td>столовая</td>\n",
       "      <td>2584</td>\n",
       "      <td>3</td>\n",
       "    </tr>\n",
       "    <tr>\n",
       "      <td>ресторан</td>\n",
       "      <td>2282</td>\n",
       "      <td>543</td>\n",
       "    </tr>\n",
       "    <tr>\n",
       "      <td>предприятие быстрого обслуживания</td>\n",
       "      <td>1897</td>\n",
       "      <td>788</td>\n",
       "    </tr>\n",
       "    <tr>\n",
       "      <td>бар</td>\n",
       "      <td>855</td>\n",
       "      <td>37</td>\n",
       "    </tr>\n",
       "    <tr>\n",
       "      <td>буфет</td>\n",
       "      <td>576</td>\n",
       "      <td>11</td>\n",
       "    </tr>\n",
       "    <tr>\n",
       "      <td>кафетерий</td>\n",
       "      <td>395</td>\n",
       "      <td>52</td>\n",
       "    </tr>\n",
       "    <tr>\n",
       "      <td>закусочная</td>\n",
       "      <td>348</td>\n",
       "      <td>56</td>\n",
       "    </tr>\n",
       "    <tr>\n",
       "      <td>магазин (отдел кулинарии)</td>\n",
       "      <td>273</td>\n",
       "      <td>78</td>\n",
       "    </tr>\n",
       "  </tbody>\n",
       "</table>\n",
       "</div>"
      ],
      "text/plain": [
       "                                     id   set\n",
       "object_type                                  \n",
       "кафе                               6071  1396\n",
       "столовая                           2584     3\n",
       "ресторан                           2282   543\n",
       "предприятие быстрого обслуживания  1897   788\n",
       "бар                                 855    37\n",
       "буфет                               576    11\n",
       "кафетерий                           395    52\n",
       "закусочная                          348    56\n",
       "магазин (отдел кулинарии)           273    78"
      ]
     },
     "execution_count": 180,
     "metadata": {},
     "output_type": "execute_result"
    }
   ],
   "source": [
    "set=['1396','3','543','788','37','11','52','56','78']\n",
    "rest_data2['set']=set\n",
    "rest_data2"
   ]
  },
  {
   "cell_type": "code",
   "execution_count": 181,
   "metadata": {},
   "outputs": [
    {
     "data": {
      "text/html": [
       "<div>\n",
       "<style scoped>\n",
       "    .dataframe tbody tr th:only-of-type {\n",
       "        vertical-align: middle;\n",
       "    }\n",
       "\n",
       "    .dataframe tbody tr th {\n",
       "        vertical-align: top;\n",
       "    }\n",
       "\n",
       "    .dataframe thead th {\n",
       "        text-align: right;\n",
       "    }\n",
       "</style>\n",
       "<table border=\"1\" class=\"dataframe\">\n",
       "  <thead>\n",
       "    <tr style=\"text-align: right;\">\n",
       "      <th></th>\n",
       "      <th>id</th>\n",
       "      <th>set</th>\n",
       "      <th>ratio</th>\n",
       "    </tr>\n",
       "    <tr>\n",
       "      <th>object_type</th>\n",
       "      <th></th>\n",
       "      <th></th>\n",
       "      <th></th>\n",
       "    </tr>\n",
       "  </thead>\n",
       "  <tbody>\n",
       "    <tr>\n",
       "      <td>кафе</td>\n",
       "      <td>6071</td>\n",
       "      <td>1396</td>\n",
       "      <td>0.229946</td>\n",
       "    </tr>\n",
       "    <tr>\n",
       "      <td>столовая</td>\n",
       "      <td>2584</td>\n",
       "      <td>3</td>\n",
       "      <td>0.001161</td>\n",
       "    </tr>\n",
       "    <tr>\n",
       "      <td>ресторан</td>\n",
       "      <td>2282</td>\n",
       "      <td>543</td>\n",
       "      <td>0.237949</td>\n",
       "    </tr>\n",
       "    <tr>\n",
       "      <td>предприятие быстрого обслуживания</td>\n",
       "      <td>1897</td>\n",
       "      <td>788</td>\n",
       "      <td>0.415393</td>\n",
       "    </tr>\n",
       "    <tr>\n",
       "      <td>бар</td>\n",
       "      <td>855</td>\n",
       "      <td>37</td>\n",
       "      <td>0.043275</td>\n",
       "    </tr>\n",
       "    <tr>\n",
       "      <td>буфет</td>\n",
       "      <td>576</td>\n",
       "      <td>11</td>\n",
       "      <td>0.019097</td>\n",
       "    </tr>\n",
       "    <tr>\n",
       "      <td>кафетерий</td>\n",
       "      <td>395</td>\n",
       "      <td>52</td>\n",
       "      <td>0.131646</td>\n",
       "    </tr>\n",
       "    <tr>\n",
       "      <td>закусочная</td>\n",
       "      <td>348</td>\n",
       "      <td>56</td>\n",
       "      <td>0.160920</td>\n",
       "    </tr>\n",
       "    <tr>\n",
       "      <td>магазин (отдел кулинарии)</td>\n",
       "      <td>273</td>\n",
       "      <td>78</td>\n",
       "      <td>0.285714</td>\n",
       "    </tr>\n",
       "  </tbody>\n",
       "</table>\n",
       "</div>"
      ],
      "text/plain": [
       "                                     id   set     ratio\n",
       "object_type                                            \n",
       "кафе                               6071  1396  0.229946\n",
       "столовая                           2584     3  0.001161\n",
       "ресторан                           2282   543  0.237949\n",
       "предприятие быстрого обслуживания  1897   788  0.415393\n",
       "бар                                 855    37  0.043275\n",
       "буфет                               576    11  0.019097\n",
       "кафетерий                           395    52  0.131646\n",
       "закусочная                          348    56  0.160920\n",
       "магазин (отдел кулинарии)           273    78  0.285714"
      ]
     },
     "execution_count": 181,
     "metadata": {},
     "output_type": "execute_result"
    }
   ],
   "source": [
    "# переведем значения столбца set в int\n",
    "rest_data2['set']=rest_data2['set'].astype(str).astype(int)\n",
    "# найдем соотношение сетевых заведений к общему кол-ву\n",
    "rest_data2['ratio']=rest_data2['set']/rest_data2['id']\n",
    "rest_data2"
   ]
  },
  {
   "cell_type": "code",
   "execution_count": 182,
   "metadata": {},
   "outputs": [],
   "source": [
    "rest_data2=rest_data2.sort_values(by='ratio', ascending=False)"
   ]
  },
  {
   "cell_type": "code",
   "execution_count": 183,
   "metadata": {},
   "outputs": [
    {
     "data": {
      "text/plain": [
       "Text(0.5, 1.0, 'Распределение сетевых объектов общественного питания')"
      ]
     },
     "execution_count": 183,
     "metadata": {},
     "output_type": "execute_result"
    },
    {
     "data": {
      "image/png": "[encoded data removed]",
      "text/plain": [
       "<Figure size 432x288 with 1 Axes>"
      ]
     },
     "metadata": {
      "needs_background": "light"
     },
     "output_type": "display_data"
    }
   ],
   "source": [
    "\n",
    "fig=sns.barplot(y=\"object_type\", x=\"ratio\", data=rest_data2.reset_index())\n",
    "fig.set_xlabel('Соотношение сетевых заведений к общему кол-ву')\n",
    "fig.set_ylabel('Объект общественного питания')\n",
    "fig.set_title('Распределение сетевых объектов общественного питания')"
   ]
  },
  {
   "cell_type": "markdown",
   "metadata": {},
   "source": [
    "***Как видно из графика, сетевое распространение характерно в основном для предприятий быстрого обслуживания. Затем идут магазины, рестораны и кафе. А вот сетевые столовые, бары и буфеты мало рапространены.***"
   ]
  },
  {
   "cell_type": "markdown",
   "metadata": {},
   "source": [
    "### Что характерно для сетевых заведений: много заведений с небольшим числом посадочных мест в каждом или мало заведений с большим количеством посадочных мест?"
   ]
  },
  {
   "cell_type": "code",
   "execution_count": 78,
   "metadata": {},
   "outputs": [
    {
     "data": {
      "text/plain": [
       "<matplotlib.lines.Line2D at 0x7f267460e490>"
      ]
     },
     "execution_count": 78,
     "metadata": {},
     "output_type": "execute_result"
    },
    {
     "data": {
      "image/png": "[encoded data removed]",
      "text/plain": [
       "<Figure size 432x288 with 1 Axes>"
      ]
     },
     "metadata": {
      "needs_background": "light"
     },
     "output_type": "display_data"
    }
   ],
   "source": [
    "rest_data_numb=rest_data_set.groupby('object_name').agg({'number':'median','id':'count'})\n",
    "fig=sns.scatterplot(data=rest_data_numb, x=\"id\", y=\"number\")\n",
    "fig.set_xlabel('Кол-во посадочных мест')\n",
    "fig.set_ylabel('Количество заведений в сети')\n",
    "fig.set_title('Зависимость кол-ва посадочных мест от числа заведений в сети')\n",
    "plt.axhline(np.percentile(rest_data_numb['number'], 90), linestyle='--', color='black')\n",
    "plt.axvline(np.percentile(rest_data_numb['id'], 90), linestyle='--', color='black')"
   ]
  },
  {
   "cell_type": "markdown",
   "metadata": {},
   "source": [
    "***Из графика видно, что для сетевых заведений характерны сети с небольшим числом заведений и небольшим количеством посадочных мест. Меньше всего шансов встретить сети с большим кол-вом заведений и большим кол-вом посадочных мест***"
   ]
  },
  {
   "cell_type": "markdown",
   "metadata": {},
   "source": [
    "### Для каждого вида объекта общественного питания опишите среднее количество посадочных мест. Какой вид предоставляет в среднем самое большое количество посадочных мест? Постройте графики."
   ]
  },
  {
   "cell_type": "code",
   "execution_count": 184,
   "metadata": {},
   "outputs": [],
   "source": [
    "rest_data_stol=rest_data.query(' object_type==\"столовая\"')"
   ]
  },
  {
   "cell_type": "code",
   "execution_count": 185,
   "metadata": {},
   "outputs": [
    {
     "data": {
      "text/plain": [
       "Text(0.5, 1, 'Рспределение числа посадочных мест в столовых')"
      ]
     },
     "execution_count": 185,
     "metadata": {},
     "output_type": "execute_result"
    },
    {
     "data": {
      "image/png": "[encoded data removed]",
      "text/plain": [
       "<Figure size 432x288 with 1 Axes>"
      ]
     },
     "metadata": {
      "needs_background": "light"
     },
     "output_type": "display_data"
    }
   ],
   "source": [
    "sns.distplot(rest_data_stol['number']) \n",
    "fig.set_xlabel('Число посадочных мест')\n",
    "fig.set_title('Рспределение числа посадочных мест в столовых')"
   ]
  },
  {
   "cell_type": "code",
   "execution_count": 186,
   "metadata": {},
   "outputs": [
    {
     "data": {
      "text/plain": [
       "count    2584.000000\n",
       "mean      130.337848\n",
       "std        95.189104\n",
       "min         0.000000\n",
       "25%        51.500000\n",
       "50%       103.000000\n",
       "75%       200.000000\n",
       "max      1400.000000\n",
       "Name: number, dtype: float64"
      ]
     },
     "execution_count": 186,
     "metadata": {},
     "output_type": "execute_result"
    }
   ],
   "source": [
    "rest_data_stol['number'].describe()"
   ]
  },
  {
   "cell_type": "code",
   "execution_count": 187,
   "metadata": {},
   "outputs": [
    {
     "data": {
      "text/plain": [
       "Text(0.5, 1, 'Рспределение числа посадочных мест в ресторанах')"
      ]
     },
     "execution_count": 187,
     "metadata": {},
     "output_type": "execute_result"
    },
    {
     "data": {
      "image/png": "[encoded data removed]",
      "text/plain": [
       "<Figure size 432x288 with 1 Axes>"
      ]
     },
     "metadata": {
      "needs_background": "light"
     },
     "output_type": "display_data"
    }
   ],
   "source": [
    "rest_data_rest=rest_data.query(' object_type==\"ресторан\"')\n",
    "sns.distplot(rest_data_rest['number']) \n",
    "fig.set_xlabel('Число посадочных мест')\n",
    "fig.set_title('Рспределение числа посадочных мест в ресторанах')"
   ]
  },
  {
   "cell_type": "code",
   "execution_count": 188,
   "metadata": {},
   "outputs": [
    {
     "data": {
      "text/plain": [
       "count    2282.000000\n",
       "mean       96.884750\n",
       "std        94.781446\n",
       "min         0.000000\n",
       "25%        46.000000\n",
       "50%        80.000000\n",
       "75%       114.000000\n",
       "max      1500.000000\n",
       "Name: number, dtype: float64"
      ]
     },
     "execution_count": 188,
     "metadata": {},
     "output_type": "execute_result"
    }
   ],
   "source": [
    "rest_data_rest['number'].describe()"
   ]
  },
  {
   "cell_type": "code",
   "execution_count": 189,
   "metadata": {},
   "outputs": [
    {
     "data": {
      "text/plain": [
       "Text(0.5, 1, 'Рспределение числа посадочных мест в кафе')"
      ]
     },
     "execution_count": 189,
     "metadata": {},
     "output_type": "execute_result"
    },
    {
     "data": {
      "image/png": "[encoded data removed]",
      "text/plain": [
       "<Figure size 432x288 with 1 Axes>"
      ]
     },
     "metadata": {
      "needs_background": "light"
     },
     "output_type": "display_data"
    }
   ],
   "source": [
    "rest_data_cafe=rest_data.query(' object_type==\"кафе\"')\n",
    "sns.distplot(rest_data_cafe['number'])\n",
    "fig.set_xlabel('Число посадочных мест')\n",
    "fig.set_title('Рспределение числа посадочных мест в кафе')"
   ]
  },
  {
   "cell_type": "code",
   "execution_count": 190,
   "metadata": {},
   "outputs": [
    {
     "data": {
      "text/plain": [
       "count    6071.000000\n",
       "mean       39.785703\n",
       "std        37.751163\n",
       "min         0.000000\n",
       "25%        15.000000\n",
       "50%        30.000000\n",
       "75%        50.000000\n",
       "max       533.000000\n",
       "Name: number, dtype: float64"
      ]
     },
     "execution_count": 190,
     "metadata": {},
     "output_type": "execute_result"
    }
   ],
   "source": [
    "rest_data_cafe['number'].describe()"
   ]
  },
  {
   "cell_type": "code",
   "execution_count": 191,
   "metadata": {},
   "outputs": [
    {
     "data": {
      "text/plain": [
       "Text(0.5, 1, 'Рспределение числа посадочных мест в буфетах')"
      ]
     },
     "execution_count": 191,
     "metadata": {},
     "output_type": "execute_result"
    },
    {
     "data": {
      "image/png": "[encoded data removed]",
      "text/plain": [
       "<Figure size 432x288 with 1 Axes>"
      ]
     },
     "metadata": {
      "needs_background": "light"
     },
     "output_type": "display_data"
    }
   ],
   "source": [
    "rest_data_bufet=rest_data.query(' object_type==\"буфет\"')\n",
    "sns.distplot(rest_data_bufet['number']) \n",
    "fig.set_xlabel('Число посадочных мест')\n",
    "fig.set_title('Рспределение числа посадочных мест в буфетах')"
   ]
  },
  {
   "cell_type": "code",
   "execution_count": 192,
   "metadata": {},
   "outputs": [
    {
     "data": {
      "text/plain": [
       "count    576.000000\n",
       "mean      51.425347\n",
       "std       56.512850\n",
       "min        0.000000\n",
       "25%       15.000000\n",
       "50%       32.000000\n",
       "75%       80.000000\n",
       "max      320.000000\n",
       "Name: number, dtype: float64"
      ]
     },
     "execution_count": 192,
     "metadata": {},
     "output_type": "execute_result"
    }
   ],
   "source": [
    "rest_data_bufet['number'].describe()"
   ]
  },
  {
   "cell_type": "code",
   "execution_count": 193,
   "metadata": {},
   "outputs": [
    {
     "data": {
      "text/plain": [
       "Text(0.5, 1, 'Рспределение числа посадочных мест в барах')"
      ]
     },
     "execution_count": 193,
     "metadata": {},
     "output_type": "execute_result"
    },
    {
     "data": {
      "image/png": "[encoded data removed]",
      "text/plain": [
       "<Figure size 432x288 with 1 Axes>"
      ]
     },
     "metadata": {
      "needs_background": "light"
     },
     "output_type": "display_data"
    }
   ],
   "source": [
    "rest_data_bar=rest_data.query(' object_type==\"бар\"')\n",
    "sns.distplot(rest_data_bar['number']) \n",
    "fig.set_xlabel('Число посадочных мест')\n",
    "fig.set_title('Рспределение числа посадочных мест в барах')"
   ]
  },
  {
   "cell_type": "code",
   "execution_count": 194,
   "metadata": {},
   "outputs": [
    {
     "data": {
      "text/plain": [
       "count     855.000000\n",
       "mean       43.533333\n",
       "std        67.112342\n",
       "min         0.000000\n",
       "25%        20.000000\n",
       "50%        35.000000\n",
       "75%        50.000000\n",
       "max      1700.000000\n",
       "Name: number, dtype: float64"
      ]
     },
     "execution_count": 194,
     "metadata": {},
     "output_type": "execute_result"
    }
   ],
   "source": [
    "rest_data_bar['number'].describe()"
   ]
  },
  {
   "cell_type": "code",
   "execution_count": 195,
   "metadata": {},
   "outputs": [
    {
     "data": {
      "text/plain": [
       "Text(0.5, 1, 'Рспределение числа посадочных мест в предпр. быстрого обслуживания')"
      ]
     },
     "execution_count": 195,
     "metadata": {},
     "output_type": "execute_result"
    },
    {
     "data": {
      "image/png": "[encoded data removed]",
      "text/plain": [
       "<Figure size 432x288 with 1 Axes>"
      ]
     },
     "metadata": {
      "needs_background": "light"
     },
     "output_type": "display_data"
    }
   ],
   "source": [
    "rest_data_fast=rest_data.query(' object_type==\"предприятие быстрого обслуживания\"')\n",
    "sns.distplot(rest_data_fast['number'])\n",
    "fig.set_xlabel('Число посадочных мест')\n",
    "fig.set_title('Рспределение числа посадочных мест в предпр. быстрого обслуживания')"
   ]
  },
  {
   "cell_type": "code",
   "execution_count": 196,
   "metadata": {},
   "outputs": [
    {
     "data": {
      "text/plain": [
       "count    1897.000000\n",
       "mean       20.808645\n",
       "std        38.563004\n",
       "min         0.000000\n",
       "25%         0.000000\n",
       "50%         6.000000\n",
       "75%        25.000000\n",
       "max       580.000000\n",
       "Name: number, dtype: float64"
      ]
     },
     "execution_count": 196,
     "metadata": {},
     "output_type": "execute_result"
    }
   ],
   "source": [
    "rest_data_fast['number'].describe()"
   ]
  },
  {
   "cell_type": "code",
   "execution_count": 197,
   "metadata": {},
   "outputs": [
    {
     "data": {
      "text/plain": [
       "Text(0.5, 1, 'Рспределение числа посадочных мест в кафетериях')"
      ]
     },
     "execution_count": 197,
     "metadata": {},
     "output_type": "execute_result"
    },
    {
     "data": {
      "image/png": "[encoded data removed]",
      "text/plain": [
       "<Figure size 432x288 with 1 Axes>"
      ]
     },
     "metadata": {
      "needs_background": "light"
     },
     "output_type": "display_data"
    }
   ],
   "source": [
    "rest_data_cafet=rest_data.query(' object_type==\"кафетерий\"')\n",
    "sns.distplot(rest_data_cafet['number']) \n",
    "fig.set_xlabel('Число посадочных мест')\n",
    "fig.set_title('Рспределение числа посадочных мест в кафетериях')"
   ]
  },
  {
   "cell_type": "code",
   "execution_count": 198,
   "metadata": {},
   "outputs": [
    {
     "data": {
      "text/plain": [
       "count    395.000000\n",
       "mean       9.184810\n",
       "std       14.677023\n",
       "min        0.000000\n",
       "25%        0.000000\n",
       "50%        6.000000\n",
       "75%       12.000000\n",
       "max      200.000000\n",
       "Name: number, dtype: float64"
      ]
     },
     "execution_count": 198,
     "metadata": {},
     "output_type": "execute_result"
    }
   ],
   "source": [
    "rest_data_cafet['number'].describe()"
   ]
  },
  {
   "cell_type": "code",
   "execution_count": 199,
   "metadata": {},
   "outputs": [
    {
     "data": {
      "text/plain": [
       "Text(0.5, 1, 'Рспределение числа посадочных мест в закусочных')"
      ]
     },
     "execution_count": 199,
     "metadata": {},
     "output_type": "execute_result"
    },
    {
     "data": {
      "image/png": "[encoded data removed]",
      "text/plain": [
       "<Figure size 432x288 with 1 Axes>"
      ]
     },
     "metadata": {
      "needs_background": "light"
     },
     "output_type": "display_data"
    }
   ],
   "source": [
    "rest_data_zac=rest_data.query(' object_type==\"закусочная\"')\n",
    "sns.distplot(rest_data_zac['number']) \n",
    "fig.set_xlabel('Число посадочных мест')\n",
    "fig.set_title('Рспределение числа посадочных мест в закусочных')"
   ]
  },
  {
   "cell_type": "code",
   "execution_count": 200,
   "metadata": {},
   "outputs": [
    {
     "data": {
      "text/plain": [
       "count    348.000000\n",
       "mean       7.847701\n",
       "std       16.884497\n",
       "min        0.000000\n",
       "25%        0.000000\n",
       "50%        0.000000\n",
       "75%       10.000000\n",
       "max      216.000000\n",
       "Name: number, dtype: float64"
      ]
     },
     "execution_count": 200,
     "metadata": {},
     "output_type": "execute_result"
    }
   ],
   "source": [
    "rest_data_zac['number'].describe()"
   ]
  },
  {
   "cell_type": "code",
   "execution_count": 201,
   "metadata": {},
   "outputs": [
    {
     "data": {
      "text/plain": [
       "Text(0.5, 1.0, 'Рспределение числа посадочных мест в магазинах')"
      ]
     },
     "execution_count": 201,
     "metadata": {},
     "output_type": "execute_result"
    },
    {
     "data": {
      "image/png": "[encoded data removed]",
      "text/plain": [
       "<Figure size 432x288 with 1 Axes>"
      ]
     },
     "metadata": {
      "needs_background": "light"
     },
     "output_type": "display_data"
    }
   ],
   "source": [
    "rest_data_mag=rest_data.query(' object_type==\"магазин (отдел кулинарии)\"')\n",
    "fig=sns.distplot(rest_data_mag['number']) \n",
    "fig.set_xlabel('Число посадочных мест')\n",
    "fig.set_title('Рспределение числа посадочных мест в магазинах')"
   ]
  },
  {
   "cell_type": "code",
   "execution_count": 202,
   "metadata": {},
   "outputs": [
    {
     "data": {
      "text/plain": [
       "count    273.000000\n",
       "mean       5.589744\n",
       "std        9.872729\n",
       "min        0.000000\n",
       "25%        0.000000\n",
       "50%        0.000000\n",
       "75%        8.000000\n",
       "max       50.000000\n",
       "Name: number, dtype: float64"
      ]
     },
     "execution_count": 202,
     "metadata": {},
     "output_type": "execute_result"
    }
   ],
   "source": [
    "rest_data_mag['number'].describe()"
   ]
  },
  {
   "cell_type": "code",
   "execution_count": 203,
   "metadata": {},
   "outputs": [
    {
     "data": {
      "text/html": [
       "<div>\n",
       "<style scoped>\n",
       "    .dataframe tbody tr th:only-of-type {\n",
       "        vertical-align: middle;\n",
       "    }\n",
       "\n",
       "    .dataframe tbody tr th {\n",
       "        vertical-align: top;\n",
       "    }\n",
       "\n",
       "    .dataframe thead th {\n",
       "        text-align: right;\n",
       "    }\n",
       "</style>\n",
       "<table border=\"1\" class=\"dataframe\">\n",
       "  <thead>\n",
       "    <tr style=\"text-align: right;\">\n",
       "      <th></th>\n",
       "      <th>number</th>\n",
       "    </tr>\n",
       "    <tr>\n",
       "      <th>object_type</th>\n",
       "      <th></th>\n",
       "    </tr>\n",
       "  </thead>\n",
       "  <tbody>\n",
       "    <tr>\n",
       "      <td>столовая</td>\n",
       "      <td>130.337848</td>\n",
       "    </tr>\n",
       "    <tr>\n",
       "      <td>ресторан</td>\n",
       "      <td>96.884750</td>\n",
       "    </tr>\n",
       "    <tr>\n",
       "      <td>буфет</td>\n",
       "      <td>51.425347</td>\n",
       "    </tr>\n",
       "    <tr>\n",
       "      <td>бар</td>\n",
       "      <td>43.533333</td>\n",
       "    </tr>\n",
       "    <tr>\n",
       "      <td>кафе</td>\n",
       "      <td>39.785703</td>\n",
       "    </tr>\n",
       "    <tr>\n",
       "      <td>предприятие быстрого обслуживания</td>\n",
       "      <td>20.808645</td>\n",
       "    </tr>\n",
       "    <tr>\n",
       "      <td>кафетерий</td>\n",
       "      <td>9.184810</td>\n",
       "    </tr>\n",
       "    <tr>\n",
       "      <td>закусочная</td>\n",
       "      <td>7.847701</td>\n",
       "    </tr>\n",
       "    <tr>\n",
       "      <td>магазин (отдел кулинарии)</td>\n",
       "      <td>5.589744</td>\n",
       "    </tr>\n",
       "  </tbody>\n",
       "</table>\n",
       "</div>"
      ],
      "text/plain": [
       "                                       number\n",
       "object_type                                  \n",
       "столовая                           130.337848\n",
       "ресторан                            96.884750\n",
       "буфет                               51.425347\n",
       "бар                                 43.533333\n",
       "кафе                                39.785703\n",
       "предприятие быстрого обслуживания   20.808645\n",
       "кафетерий                            9.184810\n",
       "закусочная                           7.847701\n",
       "магазин (отдел кулинарии)            5.589744"
      ]
     },
     "execution_count": 203,
     "metadata": {},
     "output_type": "execute_result"
    }
   ],
   "source": [
    "rest_data_mean_number=rest_data.pivot_table(index='object_type', values='number', aggfunc='mean').sort_values(by='number', ascending=False)\n",
    "rest_data_mean_number"
   ]
  },
  {
   "cell_type": "code",
   "execution_count": 204,
   "metadata": {},
   "outputs": [
    {
     "data": {
      "text/plain": [
       "Text(0.5, 1.0, 'Среднее кол-во посадочных мест в объектах общественного питания')"
      ]
     },
     "execution_count": 204,
     "metadata": {},
     "output_type": "execute_result"
    },
    {
     "data": {
      "image/png": "[encoded data removed]",
      "text/plain": [
       "<Figure size 432x288 with 1 Axes>"
      ]
     },
     "metadata": {
      "needs_background": "light"
     },
     "output_type": "display_data"
    }
   ],
   "source": [
    "fig=sns.barplot( x=\"number\",y=\"object_type\", data=rest_data_mean_number.reset_index())\n",
    "fig.set_xlabel('Cреднее кол-во посадочных мест')\n",
    "fig.set_ylabel('Объект общественного питания')\n",
    "fig.set_title('Среднее кол-во посадочных мест в объектах общественного питания')"
   ]
  },
  {
   "cell_type": "markdown",
   "metadata": {},
   "source": [
    "***Самое большее среднее количество посадочных мест в столовых и ресторанах (130 и 96 мест соотвественно). Меньше всего посадочных мест в кафетериях, закусочных и отделах кулинарии (9, 7 и 5 мест).***"
   ]
  },
  {
   "cell_type": "markdown",
   "metadata": {},
   "source": [
    "### Выделите в отдельный столбец информацию об улице из столбца address"
   ]
  },
  {
   "cell_type": "code",
   "execution_count": 205,
   "metadata": {
    "scrolled": true
   },
   "outputs": [
    {
     "name": "stderr",
     "output_type": "stream",
     "text": [
      "/opt/conda/lib/python3.7/site-packages/ipykernel_launcher.py:6: SettingWithCopyWarning: \n",
      "A value is trying to be set on a copy of a slice from a DataFrame.\n",
      "Try using .loc[row_indexer,col_indexer] = value instead\n",
      "\n",
      "See the caveats in the documentation: http://pandas.pydata.org/pandas-docs/stable/user_guide/indexing.html#returning-a-view-versus-a-copy\n",
      "  \n"
     ]
    }
   ],
   "source": [
    "words = ['улица','ул','переулок','шоссе','проспект','площадь','проезд','аллея'\n",
    "         ,'бульвар','набережная','тупик','линия']\n",
    "\n",
    "str_pat = r\".*,\\s*\\b([^,]*?(?:{})\\b[^,]*)+\".format(\"|\".join(words))\n",
    "\n",
    "rest_data['street'] = rest_data['address'].str.extract(str_pat, flags=re.I)"
   ]
  },
  {
   "cell_type": "code",
   "execution_count": 221,
   "metadata": {},
   "outputs": [
    {
     "data": {
      "text/html": [
       "<div>\n",
       "<style scoped>\n",
       "    .dataframe tbody tr th:only-of-type {\n",
       "        vertical-align: middle;\n",
       "    }\n",
       "\n",
       "    .dataframe tbody tr th {\n",
       "        vertical-align: top;\n",
       "    }\n",
       "\n",
       "    .dataframe thead th {\n",
       "        text-align: right;\n",
       "    }\n",
       "</style>\n",
       "<table border=\"1\" class=\"dataframe\">\n",
       "  <thead>\n",
       "    <tr style=\"text-align: right;\">\n",
       "      <th></th>\n",
       "      <th>id</th>\n",
       "      <th>object_name</th>\n",
       "      <th>chain</th>\n",
       "      <th>object_type</th>\n",
       "      <th>address</th>\n",
       "      <th>number</th>\n",
       "      <th>street</th>\n",
       "      <th>areaid</th>\n",
       "      <th>okrug</th>\n",
       "      <th>area</th>\n",
       "    </tr>\n",
       "  </thead>\n",
       "  <tbody>\n",
       "    <tr>\n",
       "      <td>0</td>\n",
       "      <td>151635</td>\n",
       "      <td>сметана</td>\n",
       "      <td>нет</td>\n",
       "      <td>кафе</td>\n",
       "      <td>город Москва, улица Егора Абакумова, дом 9</td>\n",
       "      <td>48</td>\n",
       "      <td>улица Егора Абакумова</td>\n",
       "      <td>86</td>\n",
       "      <td>СВАО</td>\n",
       "      <td>Ярославский Район</td>\n",
       "    </tr>\n",
       "    <tr>\n",
       "      <td>1</td>\n",
       "      <td>193477</td>\n",
       "      <td>grill-house</td>\n",
       "      <td>нет</td>\n",
       "      <td>закусочная</td>\n",
       "      <td>город Москва, улица Егора Абакумова, дом 14А</td>\n",
       "      <td>0</td>\n",
       "      <td>улица Егора Абакумова</td>\n",
       "      <td>86</td>\n",
       "      <td>СВАО</td>\n",
       "      <td>Ярославский Район</td>\n",
       "    </tr>\n",
       "    <tr>\n",
       "      <td>2</td>\n",
       "      <td>196756</td>\n",
       "      <td>пекарня</td>\n",
       "      <td>нет</td>\n",
       "      <td>кафетерий</td>\n",
       "      <td>город Москва, улица Егора Абакумова, дом 14А</td>\n",
       "      <td>12</td>\n",
       "      <td>улица Егора Абакумова</td>\n",
       "      <td>86</td>\n",
       "      <td>СВАО</td>\n",
       "      <td>Ярославский Район</td>\n",
       "    </tr>\n",
       "    <tr>\n",
       "      <td>3</td>\n",
       "      <td>77874</td>\n",
       "      <td>родник</td>\n",
       "      <td>нет</td>\n",
       "      <td>кафе</td>\n",
       "      <td>город Москва, улица Талалихина, дом 2/1, корпус 1</td>\n",
       "      <td>35</td>\n",
       "      <td>улица Талалихина</td>\n",
       "      <td>18</td>\n",
       "      <td>ЦАО</td>\n",
       "      <td>Таганский район</td>\n",
       "    </tr>\n",
       "    <tr>\n",
       "      <td>4</td>\n",
       "      <td>77874</td>\n",
       "      <td>родник</td>\n",
       "      <td>нет</td>\n",
       "      <td>кафе</td>\n",
       "      <td>город Москва, улица Талалихина, дом 2/1, корпус 1</td>\n",
       "      <td>35</td>\n",
       "      <td>улица Талалихина</td>\n",
       "      <td>117</td>\n",
       "      <td>ЮВАО</td>\n",
       "      <td>Нижегородский район</td>\n",
       "    </tr>\n",
       "    <tr>\n",
       "      <td>5</td>\n",
       "      <td>77874</td>\n",
       "      <td>родник</td>\n",
       "      <td>нет</td>\n",
       "      <td>кафе</td>\n",
       "      <td>город Москва, улица Талалихина, дом 2/1, корпус 1</td>\n",
       "      <td>35</td>\n",
       "      <td>улица Талалихина</td>\n",
       "      <td>133</td>\n",
       "      <td>ЮЗАО</td>\n",
       "      <td>Район Южное Бутово</td>\n",
       "    </tr>\n",
       "    <tr>\n",
       "      <td>6</td>\n",
       "      <td>83942</td>\n",
       "      <td>кафе даиси</td>\n",
       "      <td>нет</td>\n",
       "      <td>кафе</td>\n",
       "      <td>город Москва, улица Талалихина, дом 31А/2</td>\n",
       "      <td>78</td>\n",
       "      <td>улица Талалихина</td>\n",
       "      <td>18</td>\n",
       "      <td>ЦАО</td>\n",
       "      <td>Таганский район</td>\n",
       "    </tr>\n",
       "    <tr>\n",
       "      <td>7</td>\n",
       "      <td>83942</td>\n",
       "      <td>кафе даиси</td>\n",
       "      <td>нет</td>\n",
       "      <td>кафе</td>\n",
       "      <td>город Москва, улица Талалихина, дом 31А/2</td>\n",
       "      <td>78</td>\n",
       "      <td>улица Талалихина</td>\n",
       "      <td>117</td>\n",
       "      <td>ЮВАО</td>\n",
       "      <td>Нижегородский район</td>\n",
       "    </tr>\n",
       "    <tr>\n",
       "      <td>8</td>\n",
       "      <td>83942</td>\n",
       "      <td>кафе даиси</td>\n",
       "      <td>нет</td>\n",
       "      <td>кафе</td>\n",
       "      <td>город Москва, улица Талалихина, дом 31А/2</td>\n",
       "      <td>78</td>\n",
       "      <td>улица Талалихина</td>\n",
       "      <td>133</td>\n",
       "      <td>ЮЗАО</td>\n",
       "      <td>Район Южное Бутово</td>\n",
       "    </tr>\n",
       "    <tr>\n",
       "      <td>9</td>\n",
       "      <td>24739</td>\n",
       "      <td>бар варвар</td>\n",
       "      <td>нет</td>\n",
       "      <td>кафе</td>\n",
       "      <td>город Москва, улица Талалихина, дом 35</td>\n",
       "      <td>45</td>\n",
       "      <td>улица Талалихина</td>\n",
       "      <td>18</td>\n",
       "      <td>ЦАО</td>\n",
       "      <td>Таганский район</td>\n",
       "    </tr>\n",
       "  </tbody>\n",
       "</table>\n",
       "</div>"
      ],
      "text/plain": [
       "       id  object_name chain object_type  \\\n",
       "0  151635      сметана   нет        кафе   \n",
       "1  193477  grill-house   нет  закусочная   \n",
       "2  196756      пекарня   нет   кафетерий   \n",
       "3   77874       родник   нет        кафе   \n",
       "4   77874       родник   нет        кафе   \n",
       "5   77874       родник   нет        кафе   \n",
       "6   83942   кафе даиси   нет        кафе   \n",
       "7   83942   кафе даиси   нет        кафе   \n",
       "8   83942   кафе даиси   нет        кафе   \n",
       "9   24739   бар варвар   нет        кафе   \n",
       "\n",
       "                                             address  number  \\\n",
       "0         город Москва, улица Егора Абакумова, дом 9      48   \n",
       "1       город Москва, улица Егора Абакумова, дом 14А       0   \n",
       "2       город Москва, улица Егора Абакумова, дом 14А      12   \n",
       "3  город Москва, улица Талалихина, дом 2/1, корпус 1      35   \n",
       "4  город Москва, улица Талалихина, дом 2/1, корпус 1      35   \n",
       "5  город Москва, улица Талалихина, дом 2/1, корпус 1      35   \n",
       "6          город Москва, улица Талалихина, дом 31А/2      78   \n",
       "7          город Москва, улица Талалихина, дом 31А/2      78   \n",
       "8          город Москва, улица Талалихина, дом 31А/2      78   \n",
       "9             город Москва, улица Талалихина, дом 35      45   \n",
       "\n",
       "                  street  areaid okrug                 area  \n",
       "0  улица Егора Абакумова      86  СВАО    Ярославский Район  \n",
       "1  улица Егора Абакумова      86  СВАО    Ярославский Район  \n",
       "2  улица Егора Абакумова      86  СВАО    Ярославский Район  \n",
       "3       улица Талалихина      18   ЦАО      Таганский район  \n",
       "4       улица Талалихина     117  ЮВАО  Нижегородский район  \n",
       "5       улица Талалихина     133  ЮЗАО   Район Южное Бутово  \n",
       "6       улица Талалихина      18   ЦАО      Таганский район  \n",
       "7       улица Талалихина     117  ЮВАО  Нижегородский район  \n",
       "8       улица Талалихина     133  ЮЗАО   Район Южное Бутово  \n",
       "9       улица Талалихина      18   ЦАО      Таганский район  "
      ]
     },
     "execution_count": 221,
     "metadata": {},
     "output_type": "execute_result"
    }
   ],
   "source": [
    "rest_data.head(10)"
   ]
  },
  {
   "cell_type": "markdown",
   "metadata": {},
   "source": [
    "### Постройте график топ-10 улиц по количеству объектов общественного питания. Воспользуйтесь внешней информацией и ответьте на вопрос — в каких районах Москвы находятся эти улицы?"
   ]
  },
  {
   "cell_type": "code",
   "execution_count": 222,
   "metadata": {},
   "outputs": [],
   "source": [
    "rest_data_top10=rest_data.pivot_table(index='street', values='id', aggfunc='count').sort_values(by='id', ascending=False)\n",
    "rest_data_top10=rest_data_top10.head(10)"
   ]
  },
  {
   "cell_type": "code",
   "execution_count": 223,
   "metadata": {},
   "outputs": [
    {
     "data": {
      "text/plain": [
       "(array([0, 1, 2, 3, 4, 5, 6, 7, 8, 9]), <a list of 10 Text xticklabel objects>)"
      ]
     },
     "execution_count": 223,
     "metadata": {},
     "output_type": "execute_result"
    },
    {
     "data": {
      "image/png": "[encoded data removed]",
      "text/plain": [
       "<Figure size 432x288 with 1 Axes>"
      ]
     },
     "metadata": {
      "needs_background": "light"
     },
     "output_type": "display_data"
    }
   ],
   "source": [
    "fig=sns.barplot( x=\"street\",y=\"id\", data=rest_data_top10.reset_index())\n",
    "fig.set_xlabel('Улицы')\n",
    "fig.set_ylabel('Кол-во объектов общественного питания')\n",
    "fig.set_title('Топ-10 улиц по количеству объектов общественного питания.')\n",
    "plt.xticks(rotation=90)"
   ]
  },
  {
   "cell_type": "code",
   "execution_count": 224,
   "metadata": {},
   "outputs": [],
   "source": [
    "#ссылка на сайт \n",
    "orig_url_msc_dict= 'https://drive.google.com/file/d/1eTfYalCyfOIg6SWOrgV3_fzjkMkpZnWe/view?usp=sharing'\n",
    "url_dict = requests.get('https://drive.google.com/uc?export=download&id=' + orig_url_msc_dict.split('/')[-2]).content\n",
    "# читаем\n",
    "msc_streets = pd.read_csv(BytesIO(url_dict))"
   ]
  },
  {
   "cell_type": "code",
   "execution_count": 225,
   "metadata": {
    "scrolled": false
   },
   "outputs": [
    {
     "data": {
      "text/html": [
       "<div>\n",
       "<style scoped>\n",
       "    .dataframe tbody tr th:only-of-type {\n",
       "        vertical-align: middle;\n",
       "    }\n",
       "\n",
       "    .dataframe tbody tr th {\n",
       "        vertical-align: top;\n",
       "    }\n",
       "\n",
       "    .dataframe thead th {\n",
       "        text-align: right;\n",
       "    }\n",
       "</style>\n",
       "<table border=\"1\" class=\"dataframe\">\n",
       "  <thead>\n",
       "    <tr style=\"text-align: right;\">\n",
       "      <th></th>\n",
       "      <th>streetname</th>\n",
       "      <th>areaid</th>\n",
       "      <th>okrug</th>\n",
       "      <th>area</th>\n",
       "    </tr>\n",
       "  </thead>\n",
       "  <tbody>\n",
       "    <tr>\n",
       "      <td>0</td>\n",
       "      <td>Выставочный переулок</td>\n",
       "      <td>17</td>\n",
       "      <td>ЦАО</td>\n",
       "      <td>Пресненский район</td>\n",
       "    </tr>\n",
       "    <tr>\n",
       "      <td>1</td>\n",
       "      <td>улица Гашека</td>\n",
       "      <td>17</td>\n",
       "      <td>ЦАО</td>\n",
       "      <td>Пресненский район</td>\n",
       "    </tr>\n",
       "    <tr>\n",
       "      <td>2</td>\n",
       "      <td>Большая Никитская улица</td>\n",
       "      <td>17</td>\n",
       "      <td>ЦАО</td>\n",
       "      <td>Пресненский район</td>\n",
       "    </tr>\n",
       "    <tr>\n",
       "      <td>3</td>\n",
       "      <td>Глубокий переулок</td>\n",
       "      <td>17</td>\n",
       "      <td>ЦАО</td>\n",
       "      <td>Пресненский район</td>\n",
       "    </tr>\n",
       "    <tr>\n",
       "      <td>4</td>\n",
       "      <td>Большой Гнездниковский переулок</td>\n",
       "      <td>17</td>\n",
       "      <td>ЦАО</td>\n",
       "      <td>Пресненский район</td>\n",
       "    </tr>\n",
       "    <tr>\n",
       "      <td>...</td>\n",
       "      <td>...</td>\n",
       "      <td>...</td>\n",
       "      <td>...</td>\n",
       "      <td>...</td>\n",
       "    </tr>\n",
       "    <tr>\n",
       "      <td>4393</td>\n",
       "      <td>Вознесенский проезд</td>\n",
       "      <td>17</td>\n",
       "      <td>ЦАО</td>\n",
       "      <td>Пресненский район</td>\n",
       "    </tr>\n",
       "    <tr>\n",
       "      <td>4394</td>\n",
       "      <td>Волков переулок</td>\n",
       "      <td>17</td>\n",
       "      <td>ЦАО</td>\n",
       "      <td>Пресненский район</td>\n",
       "    </tr>\n",
       "    <tr>\n",
       "      <td>4395</td>\n",
       "      <td>Поварская улица</td>\n",
       "      <td>17</td>\n",
       "      <td>ЦАО</td>\n",
       "      <td>Пресненский район</td>\n",
       "    </tr>\n",
       "    <tr>\n",
       "      <td>4396</td>\n",
       "      <td>Кудринская площадь</td>\n",
       "      <td>17</td>\n",
       "      <td>ЦАО</td>\n",
       "      <td>Пресненский район</td>\n",
       "    </tr>\n",
       "    <tr>\n",
       "      <td>4397</td>\n",
       "      <td>Вспольный переулок</td>\n",
       "      <td>17</td>\n",
       "      <td>ЦАО</td>\n",
       "      <td>Пресненский район</td>\n",
       "    </tr>\n",
       "  </tbody>\n",
       "</table>\n",
       "<p>4398 rows × 4 columns</p>\n",
       "</div>"
      ],
      "text/plain": [
       "                           streetname  areaid okrug               area\n",
       "0                Выставочный переулок      17   ЦАО  Пресненский район\n",
       "1                        улица Гашека      17   ЦАО  Пресненский район\n",
       "2             Большая Никитская улица      17   ЦАО  Пресненский район\n",
       "3                   Глубокий переулок      17   ЦАО  Пресненский район\n",
       "4     Большой Гнездниковский переулок      17   ЦАО  Пресненский район\n",
       "...                               ...     ...   ...                ...\n",
       "4393              Вознесенский проезд      17   ЦАО  Пресненский район\n",
       "4394                  Волков переулок      17   ЦАО  Пресненский район\n",
       "4395                  Поварская улица      17   ЦАО  Пресненский район\n",
       "4396               Кудринская площадь      17   ЦАО  Пресненский район\n",
       "4397               Вспольный переулок      17   ЦАО  Пресненский район\n",
       "\n",
       "[4398 rows x 4 columns]"
      ]
     },
     "execution_count": 225,
     "metadata": {},
     "output_type": "execute_result"
    }
   ],
   "source": [
    "msc_streets"
   ]
  },
  {
   "cell_type": "code",
   "execution_count": 226,
   "metadata": {},
   "outputs": [],
   "source": [
    "msc_streets = msc_streets.rename(columns={'streetname': 'street'})"
   ]
  },
  {
   "cell_type": "code",
   "execution_count": 227,
   "metadata": {},
   "outputs": [
    {
     "data": {
      "text/html": [
       "<div>\n",
       "<style scoped>\n",
       "    .dataframe tbody tr th:only-of-type {\n",
       "        vertical-align: middle;\n",
       "    }\n",
       "\n",
       "    .dataframe tbody tr th {\n",
       "        vertical-align: top;\n",
       "    }\n",
       "\n",
       "    .dataframe thead th {\n",
       "        text-align: right;\n",
       "    }\n",
       "</style>\n",
       "<table border=\"1\" class=\"dataframe\">\n",
       "  <thead>\n",
       "    <tr style=\"text-align: right;\">\n",
       "      <th></th>\n",
       "      <th>id</th>\n",
       "      <th>object_name</th>\n",
       "      <th>chain</th>\n",
       "      <th>object_type</th>\n",
       "      <th>address</th>\n",
       "      <th>number</th>\n",
       "      <th>street</th>\n",
       "      <th>areaid</th>\n",
       "      <th>okrug</th>\n",
       "      <th>area</th>\n",
       "    </tr>\n",
       "  </thead>\n",
       "  <tbody>\n",
       "    <tr>\n",
       "      <td>0</td>\n",
       "      <td>151635</td>\n",
       "      <td>сметана</td>\n",
       "      <td>нет</td>\n",
       "      <td>кафе</td>\n",
       "      <td>город Москва, улица Егора Абакумова, дом 9</td>\n",
       "      <td>48</td>\n",
       "      <td>улица Егора Абакумова</td>\n",
       "      <td>86</td>\n",
       "      <td>СВАО</td>\n",
       "      <td>Ярославский Район</td>\n",
       "    </tr>\n",
       "    <tr>\n",
       "      <td>1</td>\n",
       "      <td>193477</td>\n",
       "      <td>grill-house</td>\n",
       "      <td>нет</td>\n",
       "      <td>закусочная</td>\n",
       "      <td>город Москва, улица Егора Абакумова, дом 14А</td>\n",
       "      <td>0</td>\n",
       "      <td>улица Егора Абакумова</td>\n",
       "      <td>86</td>\n",
       "      <td>СВАО</td>\n",
       "      <td>Ярославский Район</td>\n",
       "    </tr>\n",
       "    <tr>\n",
       "      <td>2</td>\n",
       "      <td>196756</td>\n",
       "      <td>пекарня</td>\n",
       "      <td>нет</td>\n",
       "      <td>кафетерий</td>\n",
       "      <td>город Москва, улица Егора Абакумова, дом 14А</td>\n",
       "      <td>12</td>\n",
       "      <td>улица Егора Абакумова</td>\n",
       "      <td>86</td>\n",
       "      <td>СВАО</td>\n",
       "      <td>Ярославский Район</td>\n",
       "    </tr>\n",
       "    <tr>\n",
       "      <td>3</td>\n",
       "      <td>77874</td>\n",
       "      <td>родник</td>\n",
       "      <td>нет</td>\n",
       "      <td>кафе</td>\n",
       "      <td>город Москва, улица Талалихина, дом 2/1, корпус 1</td>\n",
       "      <td>35</td>\n",
       "      <td>улица Талалихина</td>\n",
       "      <td>18</td>\n",
       "      <td>ЦАО</td>\n",
       "      <td>Таганский район</td>\n",
       "    </tr>\n",
       "    <tr>\n",
       "      <td>4</td>\n",
       "      <td>83942</td>\n",
       "      <td>кафе даиси</td>\n",
       "      <td>нет</td>\n",
       "      <td>кафе</td>\n",
       "      <td>город Москва, улица Талалихина, дом 31А/2</td>\n",
       "      <td>78</td>\n",
       "      <td>улица Талалихина</td>\n",
       "      <td>18</td>\n",
       "      <td>ЦАО</td>\n",
       "      <td>Таганский район</td>\n",
       "    </tr>\n",
       "  </tbody>\n",
       "</table>\n",
       "</div>"
      ],
      "text/plain": [
       "       id  object_name chain object_type  \\\n",
       "0  151635      сметана   нет        кафе   \n",
       "1  193477  grill-house   нет  закусочная   \n",
       "2  196756      пекарня   нет   кафетерий   \n",
       "3   77874       родник   нет        кафе   \n",
       "4   83942   кафе даиси   нет        кафе   \n",
       "\n",
       "                                             address  number  \\\n",
       "0         город Москва, улица Егора Абакумова, дом 9      48   \n",
       "1       город Москва, улица Егора Абакумова, дом 14А       0   \n",
       "2       город Москва, улица Егора Абакумова, дом 14А      12   \n",
       "3  город Москва, улица Талалихина, дом 2/1, корпус 1      35   \n",
       "4          город Москва, улица Талалихина, дом 31А/2      78   \n",
       "\n",
       "                  street  areaid okrug               area  \n",
       "0  улица Егора Абакумова      86  СВАО  Ярославский Район  \n",
       "1  улица Егора Абакумова      86  СВАО  Ярославский Район  \n",
       "2  улица Егора Абакумова      86  СВАО  Ярославский Район  \n",
       "3       улица Талалихина      18   ЦАО    Таганский район  \n",
       "4       улица Талалихина      18   ЦАО    Таганский район  "
      ]
     },
     "execution_count": 227,
     "metadata": {},
     "output_type": "execute_result"
    }
   ],
   "source": [
    "#объединим таблицы rest_data и msc_streets\n",
    "rest_data=rest_data.merge(msc_streets)\n",
    "rest_data.head(5)"
   ]
  },
  {
   "cell_type": "code",
   "execution_count": 228,
   "metadata": {},
   "outputs": [],
   "source": [
    "rest_data_top10_street=rest_data.query('street in (\"проспект Мира\", \"Профсоюзная улица\",\"Ленинградский проспект\",\"Пресненская набережная\", \"Варшавское шоссе\", \"Ленинский проспект\", \"проспект Вернадского\", \"Кутузовский проспект\",\"Каширское шоссе\",\"Кировоградская улица\")')"
   ]
  },
  {
   "cell_type": "code",
   "execution_count": 229,
   "metadata": {},
   "outputs": [
    {
     "data": {
      "text/html": [
       "<div>\n",
       "<style scoped>\n",
       "    .dataframe tbody tr th:only-of-type {\n",
       "        vertical-align: middle;\n",
       "    }\n",
       "\n",
       "    .dataframe tbody tr th {\n",
       "        vertical-align: top;\n",
       "    }\n",
       "\n",
       "    .dataframe thead th {\n",
       "        text-align: right;\n",
       "    }\n",
       "</style>\n",
       "<table border=\"1\" class=\"dataframe\">\n",
       "  <thead>\n",
       "    <tr style=\"text-align: right;\">\n",
       "      <th></th>\n",
       "      <th></th>\n",
       "      <th>id</th>\n",
       "    </tr>\n",
       "    <tr>\n",
       "      <th>street</th>\n",
       "      <th>area</th>\n",
       "      <th></th>\n",
       "    </tr>\n",
       "  </thead>\n",
       "  <tbody>\n",
       "    <tr>\n",
       "      <td rowspan=\"8\" valign=\"top\">Варшавское шоссе</td>\n",
       "      <td>Донской район</td>\n",
       "      <td>164</td>\n",
       "    </tr>\n",
       "    <tr>\n",
       "      <td>Нагорный район</td>\n",
       "      <td>164</td>\n",
       "    </tr>\n",
       "    <tr>\n",
       "      <td>Район Нагатино-Садовники</td>\n",
       "      <td>164</td>\n",
       "    </tr>\n",
       "    <tr>\n",
       "      <td>Район Северное Бутово</td>\n",
       "      <td>164</td>\n",
       "    </tr>\n",
       "    <tr>\n",
       "      <td>Район Чертаново Северное</td>\n",
       "      <td>164</td>\n",
       "    </tr>\n",
       "    <tr>\n",
       "      <td>Район Чертаново Центральное</td>\n",
       "      <td>164</td>\n",
       "    </tr>\n",
       "    <tr>\n",
       "      <td>Район Чертаново Южное</td>\n",
       "      <td>164</td>\n",
       "    </tr>\n",
       "    <tr>\n",
       "      <td>Район Южное Бутово</td>\n",
       "      <td>164</td>\n",
       "    </tr>\n",
       "    <tr>\n",
       "      <td rowspan=\"4\" valign=\"top\">Каширское шоссе</td>\n",
       "      <td>Район Москворечье-Сабурово</td>\n",
       "      <td>111</td>\n",
       "    </tr>\n",
       "    <tr>\n",
       "      <td>Район Нагатино-Садовники</td>\n",
       "      <td>111</td>\n",
       "    </tr>\n",
       "    <tr>\n",
       "      <td>Район Орехово-Борисово Северное</td>\n",
       "      <td>111</td>\n",
       "    </tr>\n",
       "    <tr>\n",
       "      <td>Район Орехово-Борисово Южное</td>\n",
       "      <td>111</td>\n",
       "    </tr>\n",
       "    <tr>\n",
       "      <td rowspan=\"3\" valign=\"top\">Кировоградская улица</td>\n",
       "      <td>Район Чертаново Северное</td>\n",
       "      <td>108</td>\n",
       "    </tr>\n",
       "    <tr>\n",
       "      <td>Район Чертаново Центральное</td>\n",
       "      <td>108</td>\n",
       "    </tr>\n",
       "    <tr>\n",
       "      <td>Район Чертаново Южное</td>\n",
       "      <td>108</td>\n",
       "    </tr>\n",
       "    <tr>\n",
       "      <td rowspan=\"2\" valign=\"top\">Кутузовский проспект</td>\n",
       "      <td>Район Дорогомилово</td>\n",
       "      <td>114</td>\n",
       "    </tr>\n",
       "    <tr>\n",
       "      <td>Район Фили-Давыдково</td>\n",
       "      <td>114</td>\n",
       "    </tr>\n",
       "    <tr>\n",
       "      <td rowspan=\"4\" valign=\"top\">Ленинградский проспект</td>\n",
       "      <td>Район Аэропорт</td>\n",
       "      <td>170</td>\n",
       "    </tr>\n",
       "    <tr>\n",
       "      <td>Район Беговой</td>\n",
       "      <td>170</td>\n",
       "    </tr>\n",
       "    <tr>\n",
       "      <td>Район Сокол</td>\n",
       "      <td>170</td>\n",
       "    </tr>\n",
       "    <tr>\n",
       "      <td>Хорошевский район</td>\n",
       "      <td>170</td>\n",
       "    </tr>\n",
       "    <tr>\n",
       "      <td rowspan=\"8\" valign=\"top\">Ленинский проспект</td>\n",
       "      <td>Донской район</td>\n",
       "      <td>147</td>\n",
       "    </tr>\n",
       "    <tr>\n",
       "      <td>Ломоносовский район</td>\n",
       "      <td>147</td>\n",
       "    </tr>\n",
       "    <tr>\n",
       "      <td>Обручевский район</td>\n",
       "      <td>147</td>\n",
       "    </tr>\n",
       "    <tr>\n",
       "      <td>Район Гагаринский</td>\n",
       "      <td>147</td>\n",
       "    </tr>\n",
       "    <tr>\n",
       "      <td>Район Проспект Вернадского</td>\n",
       "      <td>147</td>\n",
       "    </tr>\n",
       "    <tr>\n",
       "      <td>Район Теплый Стан</td>\n",
       "      <td>147</td>\n",
       "    </tr>\n",
       "    <tr>\n",
       "      <td>Район Тропарево-Никулино</td>\n",
       "      <td>147</td>\n",
       "    </tr>\n",
       "    <tr>\n",
       "      <td>Район Якиманка</td>\n",
       "      <td>147</td>\n",
       "    </tr>\n",
       "    <tr>\n",
       "      <td>Пресненская набережная</td>\n",
       "      <td>Пресненский район</td>\n",
       "      <td>167</td>\n",
       "    </tr>\n",
       "    <tr>\n",
       "      <td rowspan=\"6\" valign=\"top\">Профсоюзная улица</td>\n",
       "      <td>Академический район</td>\n",
       "      <td>181</td>\n",
       "    </tr>\n",
       "    <tr>\n",
       "      <td>Обручевский район</td>\n",
       "      <td>181</td>\n",
       "    </tr>\n",
       "    <tr>\n",
       "      <td>Район Коньково</td>\n",
       "      <td>181</td>\n",
       "    </tr>\n",
       "    <tr>\n",
       "      <td>Район Теплый Стан</td>\n",
       "      <td>181</td>\n",
       "    </tr>\n",
       "    <tr>\n",
       "      <td>Район Черемушки</td>\n",
       "      <td>181</td>\n",
       "    </tr>\n",
       "    <tr>\n",
       "      <td>Район Ясенево</td>\n",
       "      <td>181</td>\n",
       "    </tr>\n",
       "    <tr>\n",
       "      <td rowspan=\"5\" valign=\"top\">проспект Вернадского</td>\n",
       "      <td>Ломоносовский район</td>\n",
       "      <td>128</td>\n",
       "    </tr>\n",
       "    <tr>\n",
       "      <td>Район Гагаринский</td>\n",
       "      <td>128</td>\n",
       "    </tr>\n",
       "    <tr>\n",
       "      <td>Район Проспект Вернадского</td>\n",
       "      <td>128</td>\n",
       "    </tr>\n",
       "    <tr>\n",
       "      <td>Район Раменки</td>\n",
       "      <td>128</td>\n",
       "    </tr>\n",
       "    <tr>\n",
       "      <td>Район Тропарево-Никулино</td>\n",
       "      <td>128</td>\n",
       "    </tr>\n",
       "    <tr>\n",
       "      <td rowspan=\"7\" valign=\"top\">проспект Мира</td>\n",
       "      <td>Алексеевский район</td>\n",
       "      <td>203</td>\n",
       "    </tr>\n",
       "    <tr>\n",
       "      <td>Мещанский район</td>\n",
       "      <td>203</td>\n",
       "    </tr>\n",
       "    <tr>\n",
       "      <td>Останкинский район</td>\n",
       "      <td>203</td>\n",
       "    </tr>\n",
       "    <tr>\n",
       "      <td>Район Марьина роща</td>\n",
       "      <td>203</td>\n",
       "    </tr>\n",
       "    <tr>\n",
       "      <td>Район Ростокино</td>\n",
       "      <td>203</td>\n",
       "    </tr>\n",
       "    <tr>\n",
       "      <td>Район Свиблово</td>\n",
       "      <td>203</td>\n",
       "    </tr>\n",
       "    <tr>\n",
       "      <td>Ярославский Район</td>\n",
       "      <td>203</td>\n",
       "    </tr>\n",
       "  </tbody>\n",
       "</table>\n",
       "</div>"
      ],
      "text/plain": [
       "                                                         id\n",
       "street                 area                                \n",
       "Варшавское шоссе       Донской район                    164\n",
       "                       Нагорный район                   164\n",
       "                       Район Нагатино-Садовники         164\n",
       "                       Район Северное Бутово            164\n",
       "                       Район Чертаново Северное         164\n",
       "                       Район Чертаново Центральное      164\n",
       "                       Район Чертаново Южное            164\n",
       "                       Район Южное Бутово               164\n",
       "Каширское шоссе        Район Москворечье-Сабурово       111\n",
       "                       Район Нагатино-Садовники         111\n",
       "                       Район Орехово-Борисово Северное  111\n",
       "                       Район Орехово-Борисово Южное     111\n",
       "Кировоградская улица   Район Чертаново Северное         108\n",
       "                       Район Чертаново Центральное      108\n",
       "                       Район Чертаново Южное            108\n",
       "Кутузовский проспект   Район Дорогомилово               114\n",
       "                       Район Фили-Давыдково             114\n",
       "Ленинградский проспект Район Аэропорт                   170\n",
       "                       Район Беговой                    170\n",
       "                       Район Сокол                      170\n",
       "                       Хорошевский район                170\n",
       "Ленинский проспект     Донской район                    147\n",
       "                       Ломоносовский район              147\n",
       "                       Обручевский район                147\n",
       "                       Район Гагаринский                147\n",
       "                       Район Проспект Вернадского       147\n",
       "                       Район Теплый Стан                147\n",
       "                       Район Тропарево-Никулино         147\n",
       "                       Район Якиманка                   147\n",
       "Пресненская набережная Пресненский район                167\n",
       "Профсоюзная улица      Академический район              181\n",
       "                       Обручевский район                181\n",
       "                       Район Коньково                   181\n",
       "                       Район Теплый Стан                181\n",
       "                       Район Черемушки                  181\n",
       "                       Район Ясенево                    181\n",
       "проспект Вернадского   Ломоносовский район              128\n",
       "                       Район Гагаринский                128\n",
       "                       Район Проспект Вернадского       128\n",
       "                       Район Раменки                    128\n",
       "                       Район Тропарево-Никулино         128\n",
       "проспект Мира          Алексеевский район               203\n",
       "                       Мещанский район                  203\n",
       "                       Останкинский район               203\n",
       "                       Район Марьина роща               203\n",
       "                       Район Ростокино                  203\n",
       "                       Район Свиблово                   203\n",
       "                       Ярославский Район                203"
      ]
     },
     "execution_count": 229,
     "metadata": {},
     "output_type": "execute_result"
    }
   ],
   "source": [
    "rest_data_top10_street.pivot_table(index=['street','area'], values='id', aggfunc='count')"
   ]
  },
  {
   "cell_type": "code",
   "execution_count": 230,
   "metadata": {},
   "outputs": [
    {
     "data": {
      "text/html": [
       "<div>\n",
       "<style scoped>\n",
       "    .dataframe tbody tr th:only-of-type {\n",
       "        vertical-align: middle;\n",
       "    }\n",
       "\n",
       "    .dataframe tbody tr th {\n",
       "        vertical-align: top;\n",
       "    }\n",
       "\n",
       "    .dataframe thead th {\n",
       "        text-align: right;\n",
       "    }\n",
       "</style>\n",
       "<table border=\"1\" class=\"dataframe\">\n",
       "  <thead>\n",
       "    <tr style=\"text-align: right;\">\n",
       "      <th></th>\n",
       "      <th>km</th>\n",
       "      <th>rest_count</th>\n",
       "      <th>ratio</th>\n",
       "    </tr>\n",
       "  </thead>\n",
       "  <tbody>\n",
       "    <tr>\n",
       "      <td>Варшавское шоссе</td>\n",
       "      <td>22.50</td>\n",
       "      <td>164</td>\n",
       "      <td>7.288889</td>\n",
       "    </tr>\n",
       "    <tr>\n",
       "      <td>Каширское шоссе</td>\n",
       "      <td>10.50</td>\n",
       "      <td>111</td>\n",
       "      <td>10.571429</td>\n",
       "    </tr>\n",
       "    <tr>\n",
       "      <td>Кутузовский проспект</td>\n",
       "      <td>8.30</td>\n",
       "      <td>114</td>\n",
       "      <td>13.734940</td>\n",
       "    </tr>\n",
       "    <tr>\n",
       "      <td>Ленинский проспект</td>\n",
       "      <td>10.00</td>\n",
       "      <td>147</td>\n",
       "      <td>14.700000</td>\n",
       "    </tr>\n",
       "    <tr>\n",
       "      <td>проспект Вернадского</td>\n",
       "      <td>8.00</td>\n",
       "      <td>128</td>\n",
       "      <td>16.000000</td>\n",
       "    </tr>\n",
       "    <tr>\n",
       "      <td>Профсоюзная улица</td>\n",
       "      <td>9.30</td>\n",
       "      <td>181</td>\n",
       "      <td>19.462366</td>\n",
       "    </tr>\n",
       "    <tr>\n",
       "      <td>проспект Мира</td>\n",
       "      <td>8.90</td>\n",
       "      <td>203</td>\n",
       "      <td>22.808989</td>\n",
       "    </tr>\n",
       "    <tr>\n",
       "      <td>Кировоградская улица</td>\n",
       "      <td>4.30</td>\n",
       "      <td>108</td>\n",
       "      <td>25.116279</td>\n",
       "    </tr>\n",
       "    <tr>\n",
       "      <td>Ленинградский проспект</td>\n",
       "      <td>5.60</td>\n",
       "      <td>170</td>\n",
       "      <td>30.357143</td>\n",
       "    </tr>\n",
       "    <tr>\n",
       "      <td>Пресненская набережная</td>\n",
       "      <td>0.55</td>\n",
       "      <td>167</td>\n",
       "      <td>303.636364</td>\n",
       "    </tr>\n",
       "  </tbody>\n",
       "</table>\n",
       "</div>"
      ],
      "text/plain": [
       "                           km  rest_count       ratio\n",
       "Варшавское шоссе        22.50         164    7.288889\n",
       "Каширское шоссе         10.50         111   10.571429\n",
       "Кутузовский проспект     8.30         114   13.734940\n",
       "Ленинский проспект      10.00         147   14.700000\n",
       "проспект Вернадского     8.00         128   16.000000\n",
       "Профсоюзная улица        9.30         181   19.462366\n",
       "проспект Мира            8.90         203   22.808989\n",
       "Кировоградская улица     4.30         108   25.116279\n",
       "Ленинградский проспект   5.60         170   30.357143\n",
       "Пресненская набережная   0.55         167  303.636364"
      ]
     },
     "execution_count": 230,
     "metadata": {},
     "output_type": "execute_result"
    }
   ],
   "source": [
    "\n",
    "d = {\"km\":np.array([22.5, 10.5, 4.3, 8.3, 5.6, 10, 0.55, 9.3, 8, 8.9]),\n",
    "    \"rest_count\": np.array([164, 111, 108, 114, 170, 147, 167, 181, 128, 203])}\n",
    "df = pd.DataFrame(d, index=['Варшавское шоссе', 'Каширское шоссе', 'Кировоградская улица', \n",
    "        'Кутузовский проспект', 'Ленинградский проспект', 'Ленинский проспект', 'Пресненская набережная', 'Профсоюзная улица','проспект Вернадского', 'проспект Мира'])\n",
    "\n",
    "df['ratio']=df['rest_count']/df['km']\n",
    "df.sort_values(by='ratio')"
   ]
  },
  {
   "cell_type": "markdown",
   "metadata": {},
   "source": [
    "***Самые популярные улицы проходят в основном через несколько районов (кроме Пресненской набережной). Именно потому что эти улицы такие протяженные, они и являются лидерами по количеству заведений.\n",
    "Наиболее плотной улицей по количеству заведений общественного питания является Пресненская набережная. Связано это, скорее всего, с нахождением там делового центра Москва-Сити.***"
   ]
  },
  {
   "cell_type": "markdown",
   "metadata": {},
   "source": [
    "### Найдите число улиц с одним объектом общественного питания. Воспользуйтесь внешней информацией и ответьте на вопрос — в каких районах Москвы находятся эти улицы?"
   ]
  },
  {
   "cell_type": "code",
   "execution_count": 231,
   "metadata": {},
   "outputs": [
    {
     "name": "stdout",
     "output_type": "stream",
     "text": [
      "Количество улиц с одним объектом общественного питания : 564\n"
     ]
    }
   ],
   "source": [
    "rest_data_1object=rest_data.pivot_table(index=['street','area'], values='id', aggfunc='count')\n",
    "print('Количество улиц с одним объектом общественного питания :',len(rest_data_1object.query('id==\"1\"')))"
   ]
  },
  {
   "cell_type": "code",
   "execution_count": 232,
   "metadata": {},
   "outputs": [
    {
     "data": {
      "text/html": [
       "<div>\n",
       "<style scoped>\n",
       "    .dataframe tbody tr th:only-of-type {\n",
       "        vertical-align: middle;\n",
       "    }\n",
       "\n",
       "    .dataframe tbody tr th {\n",
       "        vertical-align: top;\n",
       "    }\n",
       "\n",
       "    .dataframe thead th {\n",
       "        text-align: right;\n",
       "    }\n",
       "</style>\n",
       "<table border=\"1\" class=\"dataframe\">\n",
       "  <thead>\n",
       "    <tr style=\"text-align: right;\">\n",
       "      <th></th>\n",
       "      <th></th>\n",
       "      <th>id</th>\n",
       "    </tr>\n",
       "    <tr>\n",
       "      <th>street</th>\n",
       "      <th>area</th>\n",
       "      <th></th>\n",
       "    </tr>\n",
       "  </thead>\n",
       "  <tbody>\n",
       "    <tr>\n",
       "      <td>1-й Балтийский переулок</td>\n",
       "      <td>Район Аэропорт</td>\n",
       "      <td>1</td>\n",
       "    </tr>\n",
       "    <tr>\n",
       "      <td rowspan=\"2\" valign=\"top\">1-й Басманный переулок</td>\n",
       "      <td>Басманный район</td>\n",
       "      <td>1</td>\n",
       "    </tr>\n",
       "    <tr>\n",
       "      <td>Красносельский район</td>\n",
       "      <td>1</td>\n",
       "    </tr>\n",
       "    <tr>\n",
       "      <td>1-й Ботанический проезд</td>\n",
       "      <td>Район Свиблово</td>\n",
       "      <td>1</td>\n",
       "    </tr>\n",
       "    <tr>\n",
       "      <td>1-й Вешняковский проезд</td>\n",
       "      <td>Рязанский район</td>\n",
       "      <td>1</td>\n",
       "    </tr>\n",
       "    <tr>\n",
       "      <td>...</td>\n",
       "      <td>...</td>\n",
       "      <td>...</td>\n",
       "    </tr>\n",
       "    <tr>\n",
       "      <td>улица Шеногина</td>\n",
       "      <td>Район Хорошево-Мневники</td>\n",
       "      <td>1</td>\n",
       "    </tr>\n",
       "    <tr>\n",
       "      <td>улица Шумилова</td>\n",
       "      <td>Район Кузьминки</td>\n",
       "      <td>1</td>\n",
       "    </tr>\n",
       "    <tr>\n",
       "      <td>улица Шумкина</td>\n",
       "      <td>Район Сокольники</td>\n",
       "      <td>1</td>\n",
       "    </tr>\n",
       "    <tr>\n",
       "      <td>улица Щорса</td>\n",
       "      <td>Район Солнцево</td>\n",
       "      <td>1</td>\n",
       "    </tr>\n",
       "    <tr>\n",
       "      <td>шоссе Фрезер</td>\n",
       "      <td>Нижегородский район</td>\n",
       "      <td>1</td>\n",
       "    </tr>\n",
       "  </tbody>\n",
       "</table>\n",
       "<p>564 rows × 1 columns</p>\n",
       "</div>"
      ],
      "text/plain": [
       "                                                 id\n",
       "street                  area                       \n",
       "1-й Балтийский переулок Район Аэропорт            1\n",
       "1-й Басманный переулок  Басманный район           1\n",
       "                        Красносельский район      1\n",
       "1-й Ботанический проезд Район Свиблово            1\n",
       "1-й Вешняковский проезд Рязанский район           1\n",
       "...                                              ..\n",
       "улица Шеногина          Район Хорошево-Мневники   1\n",
       "улица Шумилова          Район Кузьминки           1\n",
       "улица Шумкина           Район Сокольники          1\n",
       "улица Щорса             Район Солнцево            1\n",
       "шоссе Фрезер            Нижегородский район       1\n",
       "\n",
       "[564 rows x 1 columns]"
      ]
     },
     "execution_count": 232,
     "metadata": {},
     "output_type": "execute_result"
    }
   ],
   "source": [
    "rest_data_1object.query('id==\"1\"')"
   ]
  },
  {
   "cell_type": "markdown",
   "metadata": {},
   "source": [
    "### Посмотрите на распределение количества посадочных мест для улиц с большим количеством объектов общественного питания. Какие закономерности можно выявить?"
   ]
  },
  {
   "cell_type": "code",
   "execution_count": 238,
   "metadata": {},
   "outputs": [
    {
     "data": {
      "text/plain": [
       "Text(0.5, 1.0, 'Распределение посадочных мест для топ-10 улиц')"
      ]
     },
     "execution_count": 238,
     "metadata": {},
     "output_type": "execute_result"
    },
    {
     "data": {
      "image/png": "[encoded data removed]",
      "text/plain": [
       "<Figure size 720x360 with 1 Axes>"
      ]
     },
     "metadata": {
      "needs_background": "light"
     },
     "output_type": "display_data"
    }
   ],
   "source": [
    "plt.figure(\n",
    "    figsize=(10, 5))\n",
    "fig=sns.boxplot(\n",
    "    x='object_type', \n",
    "    y='number', \n",
    "    data=rest_data_top10_street\n",
    ")\n",
    "plt.xticks(rotation=90)\n",
    "fig.set_xlabel('Тип заведения')\n",
    "fig.set_ylabel('Число посадочных мест')\n",
    "fig.set_title('Распределение посадочных мест для топ-10 улиц')"
   ]
  },
  {
   "cell_type": "code",
   "execution_count": 234,
   "metadata": {},
   "outputs": [
    {
     "data": {
      "text/plain": [
       "count    7478.000000\n",
       "mean       58.127842\n",
       "std        80.586530\n",
       "min         0.000000\n",
       "25%        14.000000\n",
       "50%        40.000000\n",
       "75%        80.000000\n",
       "max      1700.000000\n",
       "Name: number, dtype: float64"
      ]
     },
     "execution_count": 234,
     "metadata": {},
     "output_type": "execute_result"
    }
   ],
   "source": [
    "rest_data_top10_street['number'].describe()"
   ]
  },
  {
   "cell_type": "markdown",
   "metadata": {},
   "source": [
    "***Из графиков видно, что для улиц с наибольшим количеством заведений общественного питания в основном характерно наличие небольшого количества посадочных мест, мало где их число достигает 100. Что подтверждается расчетами: в среднем по 57 посадочных мест. Медиана же еще меньше - всего по 40 мест.***"
   ]
  },
  {
   "cell_type": "markdown",
   "metadata": {},
   "source": [
    "## Вывод\n",
    "\n",
    "**В результате проведенного исследования можно сделать следующие выводы:**\n",
    "-  в Москве большую часть рынка заведений общественного питания занимают кафе - их больше 6000.          Примерно одинаковое количество столовых, ресторанов и предприятий быстрого обслуживания - 2587,      2285 и 1923 соответсвенно. Меньше всего отделов кулинарий - 273.\n",
    "\n",
    "- По количеству заведений явным лидером являются несетевые объекты общественного питания, их больше в   4 раза (12398 заведений против 2968).\n",
    "\n",
    "- Сетевое распространение характерно в основном для предприятий быстрого обслуживания. Затем       идут магазины, рестораны и кафе. А вот сетевые столовые, бары и буфеты мало рапространены. \n",
    "\n",
    "- Для сетевых заведений характерно небольшое количество заведений в сети с небольшим количеством   посадочных мест. А вот встретить сети с большим количеством заведений и большим количеством     посадочных мест очень мало шансов.\n",
    "\n",
    "- Самое большее среднее количество посадочных мест в столовых и ресторанах (130 и 96 мест               соотвественно). Меньше всего посадочных мест в кафетериях, закусочных и отделах кулинарии (9, 7 и 5   мест).\n",
    "- Улицы с наибольшим количеством заведений: проспект Мира, Профсоюзная улица, Ленинградский             проспект,Пресненская набережная, Варшавское шоссе, Ленинский проспект, проспект Вернадского,         Кутузовский проспект,Каширское шоссе,Кировоградская улица.\n",
    "\n",
    "- Самые популярные улицы проходят в основном через несколько районов (кроме Пресненской           набережной).   Именно потому что эти улицы такие протяженные, они и являются лидерами по         количеству заведений. Именно Пресненская набережная является наиболее плотной по количеству     заведений на км.\n",
    "\n",
    "- Для улиц с наибольшим количеством заведений общественного питания в основном характерно наличие       небольшого количества посадочных мест, мало где их число достигает 100. Что подтверждается           расчетами: в среднем по 57 посадочных мест. Медиана же еще меньше - всего по 40 мест.\n",
    "\n",
    "**Для выбора местоположения нового кафе с официантами роботами можно рекомендовать центр города.Там хорошая проходимость и большое количество туристов в любое время года, которым будет интересно посетить такое заведение. Не стоит выбирать спальные районы. Если планируется в будущем сделать кафе сетевым, то количество посадочных мест должно быть около 15-20. Если нет, то количество посадочных мест можно сделать больше - около 30.**"
   ]
  },
  {
   "cell_type": "markdown",
   "metadata": {},
   "source": [
    "## Презентация"
   ]
  },
  {
   "cell_type": "markdown",
   "metadata": {},
   "source": [
    " Презентация: <https://drive.google.com/file/d/1niYdJ6c9yL7S111nR4QnWZ1Lk-ib9HvL/view?usp=sharing>"
   ]
  }
 ],
 "metadata": {
  "ExecuteTimeLog": [
   {
    "duration": 1119,
    "start_time": "2021-07-10T19:14:35.074Z"
   },
   {
    "duration": 45,
    "start_time": "2021-07-10T19:15:23.615Z"
   },
   {
    "duration": 9,
    "start_time": "2021-07-10T19:15:52.046Z"
   },
   {
    "duration": 17,
    "start_time": "2021-07-10T19:16:14.095Z"
   },
   {
    "duration": 13,
    "start_time": "2021-07-10T19:16:32.862Z"
   },
   {
    "duration": 13,
    "start_time": "2021-07-10T19:16:40.947Z"
   },
   {
    "duration": 10,
    "start_time": "2021-07-10T19:17:02.234Z"
   },
   {
    "duration": 5,
    "start_time": "2021-07-10T19:22:48.954Z"
   },
   {
    "duration": 8,
    "start_time": "2021-07-10T19:23:12.574Z"
   },
   {
    "duration": 588,
    "start_time": "2021-07-10T19:25:22.005Z"
   },
   {
    "duration": 256,
    "start_time": "2021-07-10T19:26:33.226Z"
   },
   {
    "duration": 259,
    "start_time": "2021-07-10T19:26:41.974Z"
   },
   {
    "duration": 320,
    "start_time": "2021-07-10T19:26:54.570Z"
   },
   {
    "duration": 400,
    "start_time": "2021-07-10T19:27:06.418Z"
   },
   {
    "duration": 290,
    "start_time": "2021-07-10T19:27:35.629Z"
   },
   {
    "duration": 246,
    "start_time": "2021-07-10T19:27:50.401Z"
   },
   {
    "duration": 12,
    "start_time": "2021-07-10T19:28:42.525Z"
   },
   {
    "duration": 267,
    "start_time": "2021-07-10T19:30:10.721Z"
   },
   {
    "duration": 258,
    "start_time": "2021-07-10T19:31:21.813Z"
   },
   {
    "duration": 275,
    "start_time": "2021-07-10T19:31:31.601Z"
   },
   {
    "duration": 11,
    "start_time": "2021-07-10T19:34:54.205Z"
   },
   {
    "duration": 15,
    "start_time": "2021-07-10T19:34:59.905Z"
   },
   {
    "duration": 7607,
    "start_time": "2021-07-10T19:39:50.116Z"
   },
   {
    "duration": 96,
    "start_time": "2021-07-10T19:43:27.648Z"
   },
   {
    "duration": 95,
    "start_time": "2021-07-10T19:43:39.568Z"
   },
   {
    "duration": 88,
    "start_time": "2021-07-10T19:44:01.700Z"
   },
   {
    "duration": 7,
    "start_time": "2021-07-10T19:44:05.636Z"
   },
   {
    "duration": 89,
    "start_time": "2021-07-10T19:44:06.676Z"
   },
   {
    "duration": 5,
    "start_time": "2021-07-10T19:46:05.280Z"
   },
   {
    "duration": 7,
    "start_time": "2021-07-10T19:46:17.764Z"
   },
   {
    "duration": 6,
    "start_time": "2021-07-10T19:46:49.668Z"
   },
   {
    "duration": 11,
    "start_time": "2021-07-10T19:48:33.108Z"
   },
   {
    "duration": 254,
    "start_time": "2021-07-10T19:48:51.656Z"
   },
   {
    "duration": 13,
    "start_time": "2021-07-10T19:49:15.459Z"
   },
   {
    "duration": 13,
    "start_time": "2021-07-10T19:49:38.815Z"
   },
   {
    "duration": 6215,
    "start_time": "2021-07-10T19:50:40.123Z"
   },
   {
    "duration": 260,
    "start_time": "2021-07-10T19:52:36.699Z"
   },
   {
    "duration": 172,
    "start_time": "2021-07-10T19:55:53.187Z"
   },
   {
    "duration": 177,
    "start_time": "2021-07-10T19:56:49.915Z"
   },
   {
    "duration": 247,
    "start_time": "2021-07-10T19:58:55.007Z"
   },
   {
    "duration": 275,
    "start_time": "2021-07-10T20:00:14.427Z"
   },
   {
    "duration": 259,
    "start_time": "2021-07-10T20:00:31.987Z"
   },
   {
    "duration": 12,
    "start_time": "2021-07-10T20:01:15.191Z"
   },
   {
    "duration": 12,
    "start_time": "2021-07-10T20:01:23.275Z"
   },
   {
    "duration": 13,
    "start_time": "2021-07-10T20:01:31.147Z"
   },
   {
    "duration": 175,
    "start_time": "2021-07-10T20:01:32.403Z"
   },
   {
    "duration": 12,
    "start_time": "2021-07-10T20:01:35.495Z"
   },
   {
    "duration": 166,
    "start_time": "2021-07-10T20:02:35.707Z"
   },
   {
    "duration": 1446,
    "start_time": "2021-07-12T15:41:48.872Z"
   },
   {
    "duration": 61,
    "start_time": "2021-07-12T15:41:50.320Z"
   },
   {
    "duration": 13,
    "start_time": "2021-07-12T15:41:50.437Z"
   },
   {
    "duration": 18,
    "start_time": "2021-07-12T15:41:51.849Z"
   },
   {
    "duration": 11,
    "start_time": "2021-07-12T15:41:54.178Z"
   },
   {
    "duration": 26,
    "start_time": "2021-07-12T15:43:26.895Z"
   },
   {
    "duration": 392,
    "start_time": "2021-07-12T15:43:33.086Z"
   },
   {
    "duration": 22,
    "start_time": "2021-07-12T15:43:38.666Z"
   },
   {
    "duration": 22,
    "start_time": "2021-07-12T15:44:50.017Z"
   },
   {
    "duration": 19,
    "start_time": "2021-07-12T15:46:40.150Z"
   },
   {
    "duration": 8,
    "start_time": "2021-07-12T15:48:11.079Z"
   },
   {
    "duration": 19,
    "start_time": "2021-07-12T15:48:22.266Z"
   },
   {
    "duration": 28,
    "start_time": "2021-07-12T15:48:29.601Z"
   },
   {
    "duration": 29,
    "start_time": "2021-07-12T15:48:57.280Z"
   },
   {
    "duration": 21,
    "start_time": "2021-07-12T15:49:38.338Z"
   },
   {
    "duration": 9,
    "start_time": "2021-07-12T15:50:11.819Z"
   },
   {
    "duration": 19,
    "start_time": "2021-07-12T15:50:13.190Z"
   },
   {
    "duration": 303,
    "start_time": "2021-07-12T15:50:14.394Z"
   },
   {
    "duration": 250,
    "start_time": "2021-07-12T15:51:49.269Z"
   },
   {
    "duration": 19,
    "start_time": "2021-07-12T15:51:57.439Z"
   },
   {
    "duration": 200,
    "start_time": "2021-07-12T15:51:58.369Z"
   },
   {
    "duration": 12,
    "start_time": "2021-07-12T15:54:21.042Z"
   },
   {
    "duration": 14,
    "start_time": "2021-07-12T15:55:53.901Z"
   },
   {
    "duration": 19,
    "start_time": "2021-07-12T15:56:08.509Z"
   },
   {
    "duration": 313,
    "start_time": "2021-07-12T15:56:46.466Z"
   },
   {
    "duration": 599,
    "start_time": "2021-07-12T16:35:46.068Z"
   },
   {
    "duration": 572,
    "start_time": "2021-07-12T16:36:11.691Z"
   },
   {
    "duration": 311,
    "start_time": "2021-07-12T16:36:32.658Z"
   },
   {
    "duration": 604,
    "start_time": "2021-07-12T16:39:01.902Z"
   },
   {
    "duration": 414,
    "start_time": "2021-07-12T16:39:14.673Z"
   },
   {
    "duration": 490,
    "start_time": "2021-07-12T16:39:52.777Z"
   },
   {
    "duration": 333,
    "start_time": "2021-07-12T16:41:03.412Z"
   },
   {
    "duration": 327,
    "start_time": "2021-07-12T16:42:00.651Z"
   },
   {
    "duration": 343,
    "start_time": "2021-07-12T16:42:27.371Z"
   },
   {
    "duration": 335,
    "start_time": "2021-07-12T16:43:22.063Z"
   },
   {
    "duration": 342,
    "start_time": "2021-07-12T16:43:34.841Z"
   },
   {
    "duration": 360,
    "start_time": "2021-07-12T16:45:59.158Z"
   },
   {
    "duration": 228,
    "start_time": "2021-07-12T16:46:24.993Z"
   },
   {
    "duration": 267,
    "start_time": "2021-07-12T16:47:18.145Z"
   },
   {
    "duration": 286,
    "start_time": "2021-07-12T16:47:28.991Z"
   },
   {
    "duration": 337,
    "start_time": "2021-07-12T16:47:50.282Z"
   },
   {
    "duration": 19,
    "start_time": "2021-07-12T16:51:32.572Z"
   },
   {
    "duration": 13,
    "start_time": "2021-07-12T16:54:57.880Z"
   },
   {
    "duration": 298,
    "start_time": "2021-07-12T16:56:27.815Z"
   },
   {
    "duration": 1647,
    "start_time": "2021-07-12T16:56:38.686Z"
   },
   {
    "duration": 4011,
    "start_time": "2021-07-12T16:56:57.504Z"
   },
   {
    "duration": 601,
    "start_time": "2021-07-12T16:57:18.115Z"
   },
   {
    "duration": 1322,
    "start_time": "2021-07-12T16:57:32.369Z"
   },
   {
    "duration": 1180,
    "start_time": "2021-07-12T16:59:58.826Z"
   },
   {
    "duration": 1197,
    "start_time": "2021-07-12T17:00:06.188Z"
   },
   {
    "duration": 317,
    "start_time": "2021-07-12T17:00:42.198Z"
   },
   {
    "duration": 1695,
    "start_time": "2021-07-12T17:00:48.567Z"
   },
   {
    "duration": 4264,
    "start_time": "2021-07-12T17:01:43.511Z"
   },
   {
    "duration": 15,
    "start_time": "2021-07-12T17:03:05.642Z"
   },
   {
    "duration": 1677,
    "start_time": "2021-07-12T17:03:08.927Z"
   },
   {
    "duration": 3997,
    "start_time": "2021-07-12T17:04:39.296Z"
   },
   {
    "duration": 4175,
    "start_time": "2021-07-12T17:04:54.617Z"
   },
   {
    "duration": 903,
    "start_time": "2021-07-12T17:07:08.589Z"
   },
   {
    "duration": 755,
    "start_time": "2021-07-12T17:09:15.429Z"
   },
   {
    "duration": 281,
    "start_time": "2021-07-12T17:10:37.750Z"
   },
   {
    "duration": 264,
    "start_time": "2021-07-12T17:10:50.706Z"
   },
   {
    "duration": 267,
    "start_time": "2021-07-12T17:10:56.233Z"
   },
   {
    "duration": 266,
    "start_time": "2021-07-12T17:13:10.623Z"
   },
   {
    "duration": 14,
    "start_time": "2021-07-12T17:13:36.288Z"
   },
   {
    "duration": 296,
    "start_time": "2021-07-12T17:13:37.782Z"
   },
   {
    "duration": 741,
    "start_time": "2021-07-12T17:15:48.094Z"
   },
   {
    "duration": 6460,
    "start_time": "2021-07-12T17:16:00.265Z"
   },
   {
    "duration": 23,
    "start_time": "2021-07-12T17:16:31.710Z"
   },
   {
    "duration": 29,
    "start_time": "2021-07-12T17:16:44.703Z"
   },
   {
    "duration": 6467,
    "start_time": "2021-07-12T17:17:10.935Z"
   },
   {
    "duration": 391,
    "start_time": "2021-07-12T17:17:25.169Z"
   },
   {
    "duration": 398,
    "start_time": "2021-07-12T17:18:14.989Z"
   },
   {
    "duration": 534,
    "start_time": "2021-07-12T17:18:21.235Z"
   },
   {
    "duration": 358,
    "start_time": "2021-07-12T17:18:27.641Z"
   },
   {
    "duration": 312,
    "start_time": "2021-07-12T17:19:10.523Z"
   },
   {
    "duration": 543,
    "start_time": "2021-07-12T17:19:23.631Z"
   },
   {
    "duration": 372,
    "start_time": "2021-07-12T17:19:30.952Z"
   },
   {
    "duration": 6478,
    "start_time": "2021-07-12T17:21:26.963Z"
   },
   {
    "duration": 361,
    "start_time": "2021-07-12T17:21:56.553Z"
   },
   {
    "duration": 370,
    "start_time": "2021-07-12T17:23:52.293Z"
   },
   {
    "duration": 377,
    "start_time": "2021-07-12T17:24:10.821Z"
   },
   {
    "duration": 378,
    "start_time": "2021-07-12T17:24:36.690Z"
   },
   {
    "duration": 375,
    "start_time": "2021-07-12T17:25:57.483Z"
   },
   {
    "duration": 278,
    "start_time": "2021-07-12T17:33:26.195Z"
   },
   {
    "duration": 245,
    "start_time": "2021-07-12T17:44:54.467Z"
   },
   {
    "duration": 276,
    "start_time": "2021-07-12T17:45:36.923Z"
   },
   {
    "duration": 5,
    "start_time": "2021-07-12T17:45:49.773Z"
   },
   {
    "duration": 57,
    "start_time": "2021-07-12T17:45:50.923Z"
   },
   {
    "duration": 12,
    "start_time": "2021-07-12T17:45:51.811Z"
   },
   {
    "duration": 13,
    "start_time": "2021-07-12T17:45:52.548Z"
   },
   {
    "duration": 11,
    "start_time": "2021-07-12T17:45:53.379Z"
   },
   {
    "duration": 29,
    "start_time": "2021-07-12T17:45:54.167Z"
   },
   {
    "duration": 24,
    "start_time": "2021-07-12T17:45:55.062Z"
   },
   {
    "duration": 13,
    "start_time": "2021-07-12T17:45:57.191Z"
   },
   {
    "duration": 21,
    "start_time": "2021-07-12T17:45:57.860Z"
   },
   {
    "duration": 314,
    "start_time": "2021-07-12T17:45:58.665Z"
   },
   {
    "duration": 19,
    "start_time": "2021-07-12T17:46:00.149Z"
   },
   {
    "duration": 223,
    "start_time": "2021-07-12T17:46:00.992Z"
   },
   {
    "duration": 8,
    "start_time": "2021-07-12T17:46:02.660Z"
   },
   {
    "duration": 18,
    "start_time": "2021-07-12T17:46:03.903Z"
   },
   {
    "duration": 322,
    "start_time": "2021-07-12T17:46:06.111Z"
   },
   {
    "duration": 20,
    "start_time": "2021-07-12T17:46:08.622Z"
   },
   {
    "duration": 372,
    "start_time": "2021-07-12T17:46:10.171Z"
   },
   {
    "duration": 14,
    "start_time": "2021-07-12T17:46:14.233Z"
   },
   {
    "duration": 26,
    "start_time": "2021-07-12T17:46:28.750Z"
   },
   {
    "duration": 15,
    "start_time": "2021-07-12T17:46:37.061Z"
   },
   {
    "duration": 20,
    "start_time": "2021-07-12T17:46:48.741Z"
   },
   {
    "duration": 20,
    "start_time": "2021-07-12T17:47:30.770Z"
   },
   {
    "duration": 258,
    "start_time": "2021-07-12T17:49:11.240Z"
   },
   {
    "duration": 265,
    "start_time": "2021-07-12T17:49:47.002Z"
   },
   {
    "duration": 266,
    "start_time": "2021-07-12T17:50:11.545Z"
   },
   {
    "duration": 264,
    "start_time": "2021-07-12T17:50:26.781Z"
   },
   {
    "duration": 331,
    "start_time": "2021-07-12T17:51:20.152Z"
   },
   {
    "duration": 346,
    "start_time": "2021-07-12T17:52:25.340Z"
   },
   {
    "duration": 304,
    "start_time": "2021-07-12T17:54:19.029Z"
   },
   {
    "duration": 9,
    "start_time": "2021-07-12T17:54:41.911Z"
   },
   {
    "duration": 15,
    "start_time": "2021-07-12T17:56:49.612Z"
   },
   {
    "duration": 519,
    "start_time": "2021-07-12T17:59:00.747Z"
   },
   {
    "duration": 8,
    "start_time": "2021-07-12T17:59:58.880Z"
   },
   {
    "duration": 524,
    "start_time": "2021-07-12T18:00:01.560Z"
   },
   {
    "duration": 439,
    "start_time": "2021-07-12T18:01:00.790Z"
   },
   {
    "duration": 418,
    "start_time": "2021-07-12T18:01:39.983Z"
   },
   {
    "duration": 343,
    "start_time": "2021-07-12T18:02:36.440Z"
   },
   {
    "duration": 413,
    "start_time": "2021-07-12T18:03:14.937Z"
   },
   {
    "duration": 404,
    "start_time": "2021-07-12T18:04:46.976Z"
   },
   {
    "duration": 396,
    "start_time": "2021-07-12T18:05:40.189Z"
   },
   {
    "duration": 394,
    "start_time": "2021-07-12T18:06:12.698Z"
   },
   {
    "duration": 303,
    "start_time": "2021-07-12T18:07:11.489Z"
   },
   {
    "duration": 17,
    "start_time": "2021-07-12T18:07:50.458Z"
   },
   {
    "duration": 344,
    "start_time": "2021-07-12T18:08:16.742Z"
   },
   {
    "duration": 1171,
    "start_time": "2021-07-12T18:23:05.498Z"
   },
   {
    "duration": 4,
    "start_time": "2021-07-12T18:25:00.416Z"
   },
   {
    "duration": 1183,
    "start_time": "2021-07-12T18:25:08.806Z"
   },
   {
    "duration": 1159,
    "start_time": "2021-07-12T18:25:55.706Z"
   },
   {
    "duration": 1180,
    "start_time": "2021-07-12T18:27:07.676Z"
   },
   {
    "duration": 1339,
    "start_time": "2021-07-12T18:28:31.967Z"
   },
   {
    "duration": 91,
    "start_time": "2021-07-12T18:39:46.025Z"
   },
   {
    "duration": 1261,
    "start_time": "2021-07-12T18:39:58.653Z"
   },
   {
    "duration": 1282,
    "start_time": "2021-07-12T18:42:14.869Z"
   },
   {
    "duration": 1233,
    "start_time": "2021-07-12T18:43:18.449Z"
   },
   {
    "duration": 258,
    "start_time": "2021-07-12T18:45:27.449Z"
   },
   {
    "duration": 1721,
    "start_time": "2021-07-12T18:45:41.803Z"
   },
   {
    "duration": 6155,
    "start_time": "2021-07-12T18:46:51.705Z"
   },
   {
    "duration": 1123,
    "start_time": "2021-07-12T18:47:22.650Z"
   },
   {
    "duration": 8,
    "start_time": "2021-07-12T18:47:50.479Z"
   },
   {
    "duration": 1163,
    "start_time": "2021-07-12T18:49:36.999Z"
   },
   {
    "duration": 1185,
    "start_time": "2021-07-12T18:54:14.893Z"
   },
   {
    "duration": 1171,
    "start_time": "2021-07-12T18:54:43.192Z"
   },
   {
    "duration": 1128,
    "start_time": "2021-07-12T18:55:13.816Z"
   },
   {
    "duration": 1384,
    "start_time": "2021-07-12T19:02:32.872Z"
   },
   {
    "duration": 1202,
    "start_time": "2021-07-12T19:03:11.289Z"
   },
   {
    "duration": 1155,
    "start_time": "2021-07-12T19:03:25.503Z"
   },
   {
    "duration": 1150,
    "start_time": "2021-07-12T19:05:37.574Z"
   },
   {
    "duration": 1276,
    "start_time": "2021-07-12T19:06:45.667Z"
   },
   {
    "duration": 1598,
    "start_time": "2021-07-12T19:07:35.529Z"
   },
   {
    "duration": 129,
    "start_time": "2021-07-12T19:34:19.609Z"
   },
   {
    "duration": 1173,
    "start_time": "2021-07-12T19:34:35.638Z"
   },
   {
    "duration": 1299,
    "start_time": "2021-07-12T19:37:12.003Z"
   },
   {
    "duration": 1198,
    "start_time": "2021-07-12T19:37:34.169Z"
   },
   {
    "duration": 1181,
    "start_time": "2021-07-12T19:38:56.135Z"
   },
   {
    "duration": 1199,
    "start_time": "2021-07-12T19:39:20.847Z"
   },
   {
    "duration": 1233,
    "start_time": "2021-07-12T19:42:02.983Z"
   },
   {
    "duration": 1421,
    "start_time": "2021-07-13T14:09:43.279Z"
   },
   {
    "duration": 56,
    "start_time": "2021-07-13T14:09:46.427Z"
   },
   {
    "duration": 13,
    "start_time": "2021-07-13T14:09:47.312Z"
   },
   {
    "duration": 19,
    "start_time": "2021-07-13T14:09:48.195Z"
   },
   {
    "duration": 12,
    "start_time": "2021-07-13T14:09:49.111Z"
   },
   {
    "duration": 28,
    "start_time": "2021-07-13T14:09:49.813Z"
   },
   {
    "duration": 24,
    "start_time": "2021-07-13T14:09:50.838Z"
   },
   {
    "duration": 9,
    "start_time": "2021-07-13T14:09:53.615Z"
   },
   {
    "duration": 19,
    "start_time": "2021-07-13T14:09:54.344Z"
   },
   {
    "duration": 326,
    "start_time": "2021-07-13T14:09:55.506Z"
   },
   {
    "duration": 19,
    "start_time": "2021-07-13T14:09:57.931Z"
   },
   {
    "duration": 227,
    "start_time": "2021-07-13T14:09:58.970Z"
   },
   {
    "duration": 12,
    "start_time": "2021-07-13T14:10:00.678Z"
   },
   {
    "duration": 18,
    "start_time": "2021-07-13T14:10:01.644Z"
   },
   {
    "duration": 324,
    "start_time": "2021-07-13T14:10:02.470Z"
   },
   {
    "duration": 19,
    "start_time": "2021-07-13T14:10:04.031Z"
   },
   {
    "duration": 368,
    "start_time": "2021-07-13T14:10:04.849Z"
   },
   {
    "duration": 8,
    "start_time": "2021-07-13T14:10:07.591Z"
   },
   {
    "duration": 409,
    "start_time": "2021-07-13T14:10:08.709Z"
   },
   {
    "duration": 388,
    "start_time": "2021-07-13T14:10:09.611Z"
   },
   {
    "duration": 431,
    "start_time": "2021-07-13T14:10:11.081Z"
   },
   {
    "duration": 418,
    "start_time": "2021-07-13T14:10:12.366Z"
   },
   {
    "duration": 406,
    "start_time": "2021-07-13T14:10:13.361Z"
   },
   {
    "duration": 394,
    "start_time": "2021-07-13T14:10:14.645Z"
   },
   {
    "duration": 385,
    "start_time": "2021-07-13T14:10:16.094Z"
   },
   {
    "duration": 404,
    "start_time": "2021-07-13T14:10:17.460Z"
   },
   {
    "duration": 315,
    "start_time": "2021-07-13T14:10:18.988Z"
   },
   {
    "duration": 17,
    "start_time": "2021-07-13T14:10:20.761Z"
   },
   {
    "duration": 331,
    "start_time": "2021-07-13T14:10:21.745Z"
   },
   {
    "duration": 391,
    "start_time": "2021-07-13T14:13:35.620Z"
   },
   {
    "duration": 1246,
    "start_time": "2021-07-13T14:13:48.664Z"
   },
   {
    "duration": 96,
    "start_time": "2021-07-13T14:18:13.222Z"
   },
   {
    "duration": 16,
    "start_time": "2021-07-13T14:18:24.153Z"
   },
   {
    "duration": 37,
    "start_time": "2021-07-13T14:24:40.161Z"
   },
   {
    "duration": 261,
    "start_time": "2021-07-13T15:06:46.332Z"
   },
   {
    "duration": 815,
    "start_time": "2021-07-13T15:09:25.885Z"
   },
   {
    "duration": 961,
    "start_time": "2021-07-13T15:09:50.954Z"
   },
   {
    "duration": 3,
    "start_time": "2021-07-13T17:48:16.916Z"
   },
   {
    "duration": 4,
    "start_time": "2021-07-13T17:48:31.020Z"
   },
   {
    "duration": 4,
    "start_time": "2021-07-13T17:48:40.074Z"
   },
   {
    "duration": 3,
    "start_time": "2021-07-13T17:49:00.759Z"
   },
   {
    "duration": 6,
    "start_time": "2021-07-13T17:55:30.986Z"
   },
   {
    "duration": 60,
    "start_time": "2021-07-13T17:56:01.031Z"
   },
   {
    "duration": 14,
    "start_time": "2021-07-13T17:56:09.097Z"
   },
   {
    "duration": 13,
    "start_time": "2021-07-13T17:56:20.800Z"
   },
   {
    "duration": 12,
    "start_time": "2021-07-13T17:56:52.307Z"
   },
   {
    "duration": 30,
    "start_time": "2021-07-13T17:57:10.523Z"
   },
   {
    "duration": 26,
    "start_time": "2021-07-13T17:57:52.771Z"
   },
   {
    "duration": 10,
    "start_time": "2021-07-13T17:58:02.955Z"
   },
   {
    "duration": 23,
    "start_time": "2021-07-13T17:58:21.095Z"
   },
   {
    "duration": 339,
    "start_time": "2021-07-13T17:58:54.653Z"
   },
   {
    "duration": 19,
    "start_time": "2021-07-13T18:07:28.867Z"
   },
   {
    "duration": 18,
    "start_time": "2021-07-13T18:07:36.585Z"
   },
   {
    "duration": 246,
    "start_time": "2021-07-13T18:07:47.546Z"
   },
   {
    "duration": 272,
    "start_time": "2021-07-13T18:13:56.090Z"
   },
   {
    "duration": 8,
    "start_time": "2021-07-13T18:14:03.927Z"
   },
   {
    "duration": 19,
    "start_time": "2021-07-13T18:14:05.294Z"
   },
   {
    "duration": 493,
    "start_time": "2021-07-13T18:14:33.439Z"
   },
   {
    "duration": 20,
    "start_time": "2021-07-13T18:24:57.296Z"
   },
   {
    "duration": 364,
    "start_time": "2021-07-13T18:25:10.175Z"
   },
   {
    "duration": 7,
    "start_time": "2021-07-13T18:27:11.460Z"
   },
   {
    "duration": 509,
    "start_time": "2021-07-13T18:27:12.587Z"
   },
   {
    "duration": 410,
    "start_time": "2021-07-13T18:27:21.204Z"
   },
   {
    "duration": 398,
    "start_time": "2021-07-13T18:28:19.029Z"
   },
   {
    "duration": 408,
    "start_time": "2021-07-13T18:28:36.492Z"
   },
   {
    "duration": 334,
    "start_time": "2021-07-13T18:28:59.558Z"
   },
   {
    "duration": 418,
    "start_time": "2021-07-13T18:29:16.692Z"
   },
   {
    "duration": 401,
    "start_time": "2021-07-13T18:29:43.199Z"
   },
   {
    "duration": 389,
    "start_time": "2021-07-13T18:30:30.784Z"
   },
   {
    "duration": 400,
    "start_time": "2021-07-13T18:30:37.213Z"
   },
   {
    "duration": 304,
    "start_time": "2021-07-13T18:30:58.854Z"
   },
   {
    "duration": 261,
    "start_time": "2021-07-13T18:31:22.826Z"
   },
   {
    "duration": 16,
    "start_time": "2021-07-13T18:31:36.382Z"
   },
   {
    "duration": 329,
    "start_time": "2021-07-13T18:31:36.401Z"
   },
   {
    "duration": 22,
    "start_time": "2021-07-13T18:34:13.283Z"
   },
   {
    "duration": 45,
    "start_time": "2021-07-13T18:36:12.193Z"
   },
   {
    "duration": 31,
    "start_time": "2021-07-13T18:39:57.445Z"
   },
   {
    "duration": 168,
    "start_time": "2021-07-13T18:48:55.257Z"
   },
   {
    "duration": 36,
    "start_time": "2021-07-13T18:49:11.662Z"
   },
   {
    "duration": 1210,
    "start_time": "2021-07-13T18:49:18.130Z"
   },
   {
    "duration": 33,
    "start_time": "2021-07-13T18:49:25.068Z"
   },
   {
    "duration": 1216,
    "start_time": "2021-07-13T19:45:33.421Z"
   },
   {
    "duration": 1176,
    "start_time": "2021-07-13T19:45:41.768Z"
   },
   {
    "duration": 1189,
    "start_time": "2021-07-13T19:46:13.372Z"
   },
   {
    "duration": 32,
    "start_time": "2021-07-13T19:51:31.658Z"
   },
   {
    "duration": 148,
    "start_time": "2021-07-13T19:52:40.462Z"
   },
   {
    "duration": 1111,
    "start_time": "2021-07-13T19:54:06.471Z"
   },
   {
    "duration": 17,
    "start_time": "2021-07-13T19:54:27.510Z"
   },
   {
    "duration": 6744,
    "start_time": "2021-07-13T20:03:57.043Z"
   },
   {
    "duration": 6,
    "start_time": "2021-07-13T20:05:54.248Z"
   },
   {
    "duration": 277,
    "start_time": "2021-07-13T20:06:33.170Z"
   },
   {
    "duration": 287,
    "start_time": "2021-07-13T20:07:07.849Z"
   },
   {
    "duration": 331,
    "start_time": "2021-07-13T20:08:00.407Z"
   },
   {
    "duration": 23,
    "start_time": "2021-07-13T20:08:14.763Z"
   },
   {
    "duration": 20,
    "start_time": "2021-07-13T20:08:34.675Z"
   },
   {
    "duration": 260,
    "start_time": "2021-07-13T20:11:13.512Z"
   },
   {
    "duration": 55,
    "start_time": "2021-07-13T20:13:16.278Z"
   },
   {
    "duration": 21,
    "start_time": "2021-07-13T20:14:31.062Z"
   },
   {
    "duration": 22,
    "start_time": "2021-07-13T20:15:05.490Z"
   },
   {
    "duration": 49,
    "start_time": "2021-07-13T20:16:26.110Z"
   },
   {
    "duration": 1343,
    "start_time": "2021-07-13T20:21:17.137Z"
   },
   {
    "duration": 1217,
    "start_time": "2021-07-13T20:21:26.432Z"
   },
   {
    "duration": 1754,
    "start_time": "2021-07-13T20:21:38.811Z"
   },
   {
    "duration": 34,
    "start_time": "2021-07-13T20:21:47.575Z"
   },
   {
    "duration": 253,
    "start_time": "2021-07-13T20:25:37.535Z"
   },
   {
    "duration": 271,
    "start_time": "2021-07-13T20:25:54.679Z"
   },
   {
    "duration": 265,
    "start_time": "2021-07-13T20:26:14.772Z"
   },
   {
    "duration": 265,
    "start_time": "2021-07-13T20:26:45.940Z"
   },
   {
    "duration": 79,
    "start_time": "2021-07-13T20:27:48.656Z"
   },
   {
    "duration": 92,
    "start_time": "2021-07-13T20:27:55.029Z"
   },
   {
    "duration": 95,
    "start_time": "2021-07-13T20:28:05.274Z"
   },
   {
    "duration": 1177,
    "start_time": "2021-07-13T20:28:18.603Z"
   },
   {
    "duration": 1193,
    "start_time": "2021-07-13T20:28:40.842Z"
   },
   {
    "duration": 89,
    "start_time": "2021-07-13T20:32:20.569Z"
   },
   {
    "duration": 25,
    "start_time": "2021-07-13T20:32:26.356Z"
   },
   {
    "duration": 47,
    "start_time": "2021-07-13T20:32:40.661Z"
   },
   {
    "duration": 40,
    "start_time": "2021-07-13T20:33:01.012Z"
   },
   {
    "duration": 36,
    "start_time": "2021-07-13T20:33:18.959Z"
   },
   {
    "duration": 1284,
    "start_time": "2021-07-13T20:33:31.136Z"
   },
   {
    "duration": 33,
    "start_time": "2021-07-13T20:33:45.650Z"
   },
   {
    "duration": 4,
    "start_time": "2021-07-13T20:34:48.721Z"
   },
   {
    "duration": 4,
    "start_time": "2021-07-13T20:37:15.902Z"
   },
   {
    "duration": 37,
    "start_time": "2021-07-13T20:38:53.141Z"
   },
   {
    "duration": 42,
    "start_time": "2021-07-13T20:39:04.572Z"
   },
   {
    "duration": 45,
    "start_time": "2021-07-13T20:39:39.797Z"
   },
   {
    "duration": 43,
    "start_time": "2021-07-13T20:39:58.013Z"
   },
   {
    "duration": 1275,
    "start_time": "2021-07-13T20:40:14.954Z"
   },
   {
    "duration": 69,
    "start_time": "2021-07-13T20:40:26.303Z"
   },
   {
    "duration": 38,
    "start_time": "2021-07-13T20:41:10.011Z"
   },
   {
    "duration": 1240,
    "start_time": "2021-07-13T20:41:21.754Z"
   },
   {
    "duration": 1257,
    "start_time": "2021-07-13T20:41:28.605Z"
   },
   {
    "duration": 1224,
    "start_time": "2021-07-13T20:41:44.530Z"
   },
   {
    "duration": 1792,
    "start_time": "2021-07-13T20:41:51.663Z"
   },
   {
    "duration": 1194,
    "start_time": "2021-07-13T20:41:59.814Z"
   },
   {
    "duration": 1183,
    "start_time": "2021-07-13T20:42:07.525Z"
   },
   {
    "duration": 40,
    "start_time": "2021-07-13T20:43:13.932Z"
   },
   {
    "duration": 40,
    "start_time": "2021-07-13T20:43:21.798Z"
   },
   {
    "duration": 40,
    "start_time": "2021-07-13T20:43:34.299Z"
   },
   {
    "duration": 43,
    "start_time": "2021-07-13T20:43:39.276Z"
   },
   {
    "duration": 1226,
    "start_time": "2021-07-13T20:44:46.556Z"
   },
   {
    "duration": 1206,
    "start_time": "2021-07-13T20:45:08.777Z"
   },
   {
    "duration": 1176,
    "start_time": "2021-07-13T20:45:19.238Z"
   },
   {
    "duration": 1149,
    "start_time": "2021-07-13T20:47:25.976Z"
   },
   {
    "duration": 1458,
    "start_time": "2021-07-14T16:13:58.787Z"
   },
   {
    "duration": 59,
    "start_time": "2021-07-14T16:14:01.082Z"
   },
   {
    "duration": 13,
    "start_time": "2021-07-14T16:14:02.376Z"
   },
   {
    "duration": 16,
    "start_time": "2021-07-14T16:14:03.510Z"
   },
   {
    "duration": 12,
    "start_time": "2021-07-14T16:14:05.318Z"
   },
   {
    "duration": 31,
    "start_time": "2021-07-14T16:14:06.268Z"
   },
   {
    "duration": 26,
    "start_time": "2021-07-14T16:14:07.394Z"
   },
   {
    "duration": 10,
    "start_time": "2021-07-14T16:14:11.079Z"
   },
   {
    "duration": 22,
    "start_time": "2021-07-14T16:14:12.673Z"
   },
   {
    "duration": 346,
    "start_time": "2021-07-14T16:14:14.899Z"
   },
   {
    "duration": 20,
    "start_time": "2021-07-14T16:14:17.551Z"
   },
   {
    "duration": 238,
    "start_time": "2021-07-14T16:14:19.926Z"
   },
   {
    "duration": 13,
    "start_time": "2021-07-14T16:14:23.416Z"
   },
   {
    "duration": 19,
    "start_time": "2021-07-14T16:14:25.028Z"
   },
   {
    "duration": 502,
    "start_time": "2021-07-14T16:14:27.283Z"
   },
   {
    "duration": 22,
    "start_time": "2021-07-14T16:14:31.572Z"
   },
   {
    "duration": 397,
    "start_time": "2021-07-14T16:14:34.052Z"
   },
   {
    "duration": 8,
    "start_time": "2021-07-14T16:15:27.949Z"
   },
   {
    "duration": 428,
    "start_time": "2021-07-14T16:15:28.882Z"
   },
   {
    "duration": 427,
    "start_time": "2021-07-14T16:15:29.758Z"
   },
   {
    "duration": 459,
    "start_time": "2021-07-14T16:15:31.158Z"
   },
   {
    "duration": 415,
    "start_time": "2021-07-14T16:15:32.100Z"
   },
   {
    "duration": 429,
    "start_time": "2021-07-14T16:15:32.974Z"
   },
   {
    "duration": 431,
    "start_time": "2021-07-14T16:15:33.809Z"
   },
   {
    "duration": 406,
    "start_time": "2021-07-14T16:15:35.013Z"
   },
   {
    "duration": 401,
    "start_time": "2021-07-14T16:15:36.203Z"
   },
   {
    "duration": 324,
    "start_time": "2021-07-14T16:15:37.328Z"
   },
   {
    "duration": 22,
    "start_time": "2021-07-14T16:15:39.074Z"
   },
   {
    "duration": 345,
    "start_time": "2021-07-14T16:15:49.997Z"
   },
   {
    "duration": 135,
    "start_time": "2021-07-14T16:20:38.014Z"
   },
   {
    "duration": 6925,
    "start_time": "2021-07-14T16:20:39.283Z"
   },
   {
    "duration": -267,
    "start_time": "2021-07-14T16:20:46.477Z"
   },
   {
    "duration": 13364,
    "start_time": "2021-07-14T16:26:15.060Z"
   },
   {
    "duration": 296,
    "start_time": "2021-07-14T16:33:48.202Z"
   },
   {
    "duration": 10,
    "start_time": "2021-07-14T16:33:53.655Z"
   },
   {
    "duration": 1042,
    "start_time": "2021-07-14T16:35:25.056Z"
   },
   {
    "duration": 17,
    "start_time": "2021-07-14T16:35:27.440Z"
   },
   {
    "duration": 479,
    "start_time": "2021-07-14T16:40:22.751Z"
   },
   {
    "duration": 22,
    "start_time": "2021-07-14T16:40:42.715Z"
   },
   {
    "duration": 29,
    "start_time": "2021-07-14T16:41:00.126Z"
   },
   {
    "duration": 24,
    "start_time": "2021-07-14T16:41:54.098Z"
   },
   {
    "duration": 862,
    "start_time": "2021-07-14T16:42:38.250Z"
   },
   {
    "duration": 18,
    "start_time": "2021-07-14T16:42:40.969Z"
   },
   {
    "duration": 5,
    "start_time": "2021-07-14T16:42:47.293Z"
   },
   {
    "duration": 55,
    "start_time": "2021-07-14T16:42:50.626Z"
   },
   {
    "duration": 47,
    "start_time": "2021-07-14T16:43:35.135Z"
   },
   {
    "duration": 10,
    "start_time": "2021-07-14T16:44:57.581Z"
   },
   {
    "duration": 33,
    "start_time": "2021-07-14T16:45:42.610Z"
   },
   {
    "duration": 336,
    "start_time": "2021-07-14T16:46:06.623Z"
   },
   {
    "duration": 27,
    "start_time": "2021-07-14T16:46:44.312Z"
   },
   {
    "duration": 28,
    "start_time": "2021-07-14T16:47:01.230Z"
   },
   {
    "duration": 361,
    "start_time": "2021-07-14T16:47:02.469Z"
   },
   {
    "duration": 66,
    "start_time": "2021-07-14T16:47:19.570Z"
   },
   {
    "duration": 46,
    "start_time": "2021-07-14T16:47:38.948Z"
   },
   {
    "duration": 362,
    "start_time": "2021-07-14T16:47:59.552Z"
   },
   {
    "duration": 353,
    "start_time": "2021-07-14T16:57:47.979Z"
   },
   {
    "duration": 37,
    "start_time": "2021-07-14T16:58:49.643Z"
   },
   {
    "duration": 27,
    "start_time": "2021-07-14T17:01:28.230Z"
   },
   {
    "duration": 28,
    "start_time": "2021-07-14T17:01:38.968Z"
   },
   {
    "duration": 4,
    "start_time": "2021-07-14T17:02:30.301Z"
   },
   {
    "duration": 61,
    "start_time": "2021-07-14T17:02:31.858Z"
   },
   {
    "duration": 12,
    "start_time": "2021-07-14T17:02:32.617Z"
   },
   {
    "duration": 15,
    "start_time": "2021-07-14T17:02:33.473Z"
   },
   {
    "duration": 14,
    "start_time": "2021-07-14T17:02:34.255Z"
   },
   {
    "duration": 31,
    "start_time": "2021-07-14T17:02:34.881Z"
   },
   {
    "duration": 27,
    "start_time": "2021-07-14T17:02:35.537Z"
   },
   {
    "duration": 10,
    "start_time": "2021-07-14T17:02:37.638Z"
   },
   {
    "duration": 20,
    "start_time": "2021-07-14T17:02:38.201Z"
   },
   {
    "duration": 415,
    "start_time": "2021-07-14T17:02:38.838Z"
   },
   {
    "duration": 26,
    "start_time": "2021-07-14T17:02:40.752Z"
   },
   {
    "duration": 247,
    "start_time": "2021-07-14T17:02:41.653Z"
   },
   {
    "duration": 8,
    "start_time": "2021-07-14T17:02:44.735Z"
   },
   {
    "duration": 26,
    "start_time": "2021-07-14T17:02:45.443Z"
   },
   {
    "duration": 350,
    "start_time": "2021-07-14T17:02:46.376Z"
   },
   {
    "duration": 20,
    "start_time": "2021-07-14T17:02:49.467Z"
   },
   {
    "duration": 414,
    "start_time": "2021-07-14T17:02:50.901Z"
   },
   {
    "duration": 8,
    "start_time": "2021-07-14T17:02:54.432Z"
   },
   {
    "duration": 648,
    "start_time": "2021-07-14T17:02:55.072Z"
   },
   {
    "duration": 438,
    "start_time": "2021-07-14T17:02:55.812Z"
   },
   {
    "duration": 428,
    "start_time": "2021-07-14T17:02:56.583Z"
   },
   {
    "duration": 366,
    "start_time": "2021-07-14T17:02:57.491Z"
   },
   {
    "duration": 454,
    "start_time": "2021-07-14T17:02:58.391Z"
   },
   {
    "duration": 420,
    "start_time": "2021-07-14T17:03:00.235Z"
   },
   {
    "duration": 412,
    "start_time": "2021-07-14T17:03:01.124Z"
   },
   {
    "duration": 564,
    "start_time": "2021-07-14T17:03:02.092Z"
   },
   {
    "duration": 339,
    "start_time": "2021-07-14T17:03:02.975Z"
   },
   {
    "duration": 21,
    "start_time": "2021-07-14T17:03:04.442Z"
   },
   {
    "duration": 382,
    "start_time": "2021-07-14T17:03:06.239Z"
   },
   {
    "duration": 321,
    "start_time": "2021-07-14T17:03:09.655Z"
   },
   {
    "duration": 17,
    "start_time": "2021-07-14T17:03:10.721Z"
   },
   {
    "duration": 29,
    "start_time": "2021-07-14T17:03:29.369Z"
   },
   {
    "duration": 285,
    "start_time": "2021-07-14T17:04:55.957Z"
   },
   {
    "duration": 61228,
    "start_time": "2021-07-14T17:05:18.358Z"
   },
   {
    "duration": 20,
    "start_time": "2021-07-14T17:06:50.224Z"
   },
   {
    "duration": 375,
    "start_time": "2021-07-14T17:06:52.245Z"
   },
   {
    "duration": 375,
    "start_time": "2021-07-14T17:07:55.841Z"
   },
   {
    "duration": 373,
    "start_time": "2021-07-14T17:09:46.893Z"
   },
   {
    "duration": 384,
    "start_time": "2021-07-14T17:10:57.992Z"
   },
   {
    "duration": 381,
    "start_time": "2021-07-14T17:11:18.226Z"
   },
   {
    "duration": 40,
    "start_time": "2021-07-14T17:11:30.548Z"
   },
   {
    "duration": 315,
    "start_time": "2021-07-14T17:17:05.477Z"
   },
   {
    "duration": 29,
    "start_time": "2021-07-14T17:17:18.646Z"
   },
   {
    "duration": 102,
    "start_time": "2021-07-14T17:18:37.383Z"
   },
   {
    "duration": 25,
    "start_time": "2021-07-14T17:18:42.077Z"
   },
   {
    "duration": 315,
    "start_time": "2021-07-14T17:19:00.519Z"
   },
   {
    "duration": 22,
    "start_time": "2021-07-14T17:19:16.934Z"
   },
   {
    "duration": 105,
    "start_time": "2021-07-14T17:20:35.849Z"
   },
   {
    "duration": 19,
    "start_time": "2021-07-14T17:24:14.996Z"
   },
   {
    "duration": 108,
    "start_time": "2021-07-14T17:27:57.237Z"
   },
   {
    "duration": 441,
    "start_time": "2021-07-14T17:28:12.741Z"
   },
   {
    "duration": 94,
    "start_time": "2021-07-14T17:29:56.783Z"
   },
   {
    "duration": 92,
    "start_time": "2021-07-14T17:31:02.732Z"
   },
   {
    "duration": 98,
    "start_time": "2021-07-14T17:31:27.461Z"
   },
   {
    "duration": 164,
    "start_time": "2021-07-14T17:32:04.408Z"
   },
   {
    "duration": 11,
    "start_time": "2021-07-14T17:32:17.176Z"
   },
   {
    "duration": 329,
    "start_time": "2021-07-14T17:33:06.925Z"
   },
   {
    "duration": 289,
    "start_time": "2021-07-14T17:33:20.135Z"
   },
   {
    "duration": 6,
    "start_time": "2021-07-14T17:33:30.839Z"
   },
   {
    "duration": 7,
    "start_time": "2021-07-14T17:33:51.930Z"
   },
   {
    "duration": 27,
    "start_time": "2021-07-14T17:34:05.037Z"
   },
   {
    "duration": 40,
    "start_time": "2021-07-14T17:34:37.335Z"
   },
   {
    "duration": 31,
    "start_time": "2021-07-14T17:35:23.508Z"
   },
   {
    "duration": 85,
    "start_time": "2021-07-14T17:35:58.934Z"
   },
   {
    "duration": 8233,
    "start_time": "2021-07-14T17:37:51.123Z"
   },
   {
    "duration": 7,
    "start_time": "2021-07-14T17:38:22.716Z"
   },
   {
    "duration": 7,
    "start_time": "2021-07-14T17:41:04.646Z"
   },
   {
    "duration": 6,
    "start_time": "2021-07-14T17:41:23.231Z"
   },
   {
    "duration": 36,
    "start_time": "2021-07-14T17:43:39.717Z"
   },
   {
    "duration": 35,
    "start_time": "2021-07-14T17:44:31.931Z"
   },
   {
    "duration": 23,
    "start_time": "2021-07-14T17:45:21.720Z"
   },
   {
    "duration": 29,
    "start_time": "2021-07-14T17:45:53.676Z"
   },
   {
    "duration": 25,
    "start_time": "2021-07-14T17:46:14.393Z"
   },
   {
    "duration": 21,
    "start_time": "2021-07-14T17:47:21.946Z"
   },
   {
    "duration": 25,
    "start_time": "2021-07-14T17:47:43.032Z"
   },
   {
    "duration": 35,
    "start_time": "2021-07-14T17:49:34.370Z"
   },
   {
    "duration": 35,
    "start_time": "2021-07-14T17:50:04.852Z"
   },
   {
    "duration": 26,
    "start_time": "2021-07-14T17:50:33.139Z"
   },
   {
    "duration": 19,
    "start_time": "2021-07-14T17:59:30.628Z"
   },
   {
    "duration": 27,
    "start_time": "2021-07-14T17:59:54.794Z"
   },
   {
    "duration": 101,
    "start_time": "2021-07-14T18:01:17.521Z"
   },
   {
    "duration": 92,
    "start_time": "2021-07-14T18:01:22.496Z"
   },
   {
    "duration": 99,
    "start_time": "2021-07-14T18:01:36.478Z"
   },
   {
    "duration": 22,
    "start_time": "2021-07-14T18:01:48.601Z"
   },
   {
    "duration": 32,
    "start_time": "2021-07-14T18:03:13.708Z"
   },
   {
    "duration": 335,
    "start_time": "2021-07-14T18:03:28.819Z"
   },
   {
    "duration": 15,
    "start_time": "2021-07-14T18:03:53.390Z"
   },
   {
    "duration": 31,
    "start_time": "2021-07-14T18:04:59.478Z"
   },
   {
    "duration": 17,
    "start_time": "2021-07-14T18:05:02.562Z"
   },
   {
    "duration": 7706,
    "start_time": "2021-07-14T18:06:17.747Z"
   },
   {
    "duration": 18,
    "start_time": "2021-07-14T18:06:43.065Z"
   },
   {
    "duration": 23,
    "start_time": "2021-07-14T18:08:00.316Z"
   },
   {
    "duration": 8065,
    "start_time": "2021-07-14T18:09:14.682Z"
   },
   {
    "duration": 22,
    "start_time": "2021-07-14T18:09:37.457Z"
   },
   {
    "duration": 17,
    "start_time": "2021-07-14T18:10:44.114Z"
   },
   {
    "duration": 21,
    "start_time": "2021-07-14T18:13:03.377Z"
   },
   {
    "duration": 27,
    "start_time": "2021-07-14T18:15:27.029Z"
   },
   {
    "duration": 10,
    "start_time": "2021-07-14T18:15:48.992Z"
   },
   {
    "duration": 12,
    "start_time": "2021-07-14T18:17:24.927Z"
   },
   {
    "duration": 28,
    "start_time": "2021-07-14T18:17:26.347Z"
   },
   {
    "duration": 29,
    "start_time": "2021-07-14T18:17:31.006Z"
   },
   {
    "duration": 22,
    "start_time": "2021-07-14T18:17:32.096Z"
   },
   {
    "duration": 11,
    "start_time": "2021-07-14T18:17:36.721Z"
   },
   {
    "duration": 36,
    "start_time": "2021-07-14T18:18:38.763Z"
   },
   {
    "duration": 374,
    "start_time": "2021-07-14T18:19:59.209Z"
   },
   {
    "duration": 383,
    "start_time": "2021-07-14T18:24:54.950Z"
   },
   {
    "duration": 419,
    "start_time": "2021-07-14T18:24:56.563Z"
   },
   {
    "duration": 411,
    "start_time": "2021-07-14T18:24:58.917Z"
   },
   {
    "duration": 356,
    "start_time": "2021-07-14T18:25:00.655Z"
   },
   {
    "duration": 434,
    "start_time": "2021-07-14T18:25:02.213Z"
   },
   {
    "duration": 432,
    "start_time": "2021-07-14T18:25:12.039Z"
   },
   {
    "duration": 388,
    "start_time": "2021-07-14T18:25:14.266Z"
   },
   {
    "duration": 337,
    "start_time": "2021-07-14T18:25:21.754Z"
   },
   {
    "duration": 410,
    "start_time": "2021-07-14T18:25:23.789Z"
   },
   {
    "duration": 446,
    "start_time": "2021-07-14T18:25:42.402Z"
   },
   {
    "duration": 357,
    "start_time": "2021-07-14T18:26:08.718Z"
   },
   {
    "duration": 349,
    "start_time": "2021-07-14T18:26:15.671Z"
   },
   {
    "duration": 313,
    "start_time": "2021-07-14T18:26:25.999Z"
   },
   {
    "duration": 334,
    "start_time": "2021-07-14T18:26:33.480Z"
   },
   {
    "duration": 12,
    "start_time": "2021-07-14T18:30:35.103Z"
   },
   {
    "duration": 430,
    "start_time": "2021-07-14T18:39:46.322Z"
   },
   {
    "duration": 994,
    "start_time": "2021-07-14T18:41:20.234Z"
   },
   {
    "duration": 460,
    "start_time": "2021-07-14T18:41:36.902Z"
   },
   {
    "duration": 451,
    "start_time": "2021-07-14T18:41:47.645Z"
   },
   {
    "duration": 407,
    "start_time": "2021-07-14T18:42:40.005Z"
   },
   {
    "duration": 354,
    "start_time": "2021-07-14T18:43:19.775Z"
   },
   {
    "duration": 384,
    "start_time": "2021-07-14T18:43:47.126Z"
   },
   {
    "duration": 411,
    "start_time": "2021-07-14T18:44:17.040Z"
   },
   {
    "duration": 449,
    "start_time": "2021-07-14T18:44:50.458Z"
   },
   {
    "duration": 466,
    "start_time": "2021-07-14T18:45:26.072Z"
   },
   {
    "duration": 377,
    "start_time": "2021-07-14T18:45:56.301Z"
   },
   {
    "duration": 431,
    "start_time": "2021-07-14T18:46:33.515Z"
   },
   {
    "duration": 428,
    "start_time": "2021-07-14T18:46:59.196Z"
   },
   {
    "duration": 393,
    "start_time": "2021-07-14T18:47:23.937Z"
   },
   {
    "duration": 1619,
    "start_time": "2021-07-15T16:41:21.700Z"
   },
   {
    "duration": 64,
    "start_time": "2021-07-15T16:41:25.908Z"
   },
   {
    "duration": 13,
    "start_time": "2021-07-15T16:41:26.902Z"
   },
   {
    "duration": 17,
    "start_time": "2021-07-15T16:41:27.900Z"
   },
   {
    "duration": 11,
    "start_time": "2021-07-15T16:41:31.431Z"
   },
   {
    "duration": 32,
    "start_time": "2021-07-15T16:41:33.202Z"
   },
   {
    "duration": 25,
    "start_time": "2021-07-15T16:41:34.487Z"
   },
   {
    "duration": 11,
    "start_time": "2021-07-15T16:42:20.832Z"
   },
   {
    "duration": 33,
    "start_time": "2021-07-15T16:42:53.964Z"
   },
   {
    "duration": 24,
    "start_time": "2021-07-15T16:42:55.496Z"
   },
   {
    "duration": 9,
    "start_time": "2021-07-15T16:43:11.850Z"
   },
   {
    "duration": 19,
    "start_time": "2021-07-15T16:43:37.494Z"
   },
   {
    "duration": 20,
    "start_time": "2021-07-15T16:44:23.884Z"
   },
   {
    "duration": 361,
    "start_time": "2021-07-15T16:44:27.849Z"
   },
   {
    "duration": 26,
    "start_time": "2021-07-15T16:46:17.004Z"
   },
   {
    "duration": 238,
    "start_time": "2021-07-15T16:46:18.529Z"
   },
   {
    "duration": 12,
    "start_time": "2021-07-15T16:47:52.487Z"
   },
   {
    "duration": 8,
    "start_time": "2021-07-15T16:48:27.826Z"
   },
   {
    "duration": 20,
    "start_time": "2021-07-15T16:48:29.955Z"
   },
   {
    "duration": 359,
    "start_time": "2021-07-15T16:48:48.073Z"
   },
   {
    "duration": 490,
    "start_time": "2021-07-15T16:53:53.021Z"
   },
   {
    "duration": 21,
    "start_time": "2021-07-15T16:54:05.945Z"
   },
   {
    "duration": 400,
    "start_time": "2021-07-15T16:54:43.845Z"
   },
   {
    "duration": 12,
    "start_time": "2021-07-15T16:54:46.287Z"
   },
   {
    "duration": 24,
    "start_time": "2021-07-15T16:56:33.564Z"
   },
   {
    "duration": 8,
    "start_time": "2021-07-15T16:57:30.453Z"
   },
   {
    "duration": 19,
    "start_time": "2021-07-15T16:57:32.197Z"
   },
   {
    "duration": 414,
    "start_time": "2021-07-15T16:57:33.546Z"
   },
   {
    "duration": 20,
    "start_time": "2021-07-15T16:59:04.908Z"
   },
   {
    "duration": 384,
    "start_time": "2021-07-15T16:59:06.311Z"
   },
   {
    "duration": 12,
    "start_time": "2021-07-15T16:59:07.960Z"
   },
   {
    "duration": 8473,
    "start_time": "2021-07-15T17:00:12.232Z"
   },
   {
    "duration": 390,
    "start_time": "2021-07-15T17:00:33.495Z"
   },
   {
    "duration": 23,
    "start_time": "2021-07-15T17:05:22.395Z"
   },
   {
    "duration": 576,
    "start_time": "2021-07-15T17:12:11.784Z"
   },
   {
    "duration": 693,
    "start_time": "2021-07-15T17:13:05.298Z"
   },
   {
    "duration": 156,
    "start_time": "2021-07-15T17:14:11.409Z"
   },
   {
    "duration": 536,
    "start_time": "2021-07-15T17:14:17.780Z"
   },
   {
    "duration": 566,
    "start_time": "2021-07-15T17:14:30.483Z"
   },
   {
    "duration": 616,
    "start_time": "2021-07-15T17:14:38.530Z"
   },
   {
    "duration": 20,
    "start_time": "2021-07-15T17:16:44.152Z"
   },
   {
    "duration": 398,
    "start_time": "2021-07-15T17:16:45.260Z"
   },
   {
    "duration": 12,
    "start_time": "2021-07-15T17:16:47.025Z"
   },
   {
    "duration": 7,
    "start_time": "2021-07-15T17:16:57.005Z"
   },
   {
    "duration": 439,
    "start_time": "2021-07-15T17:17:03.391Z"
   },
   {
    "duration": 415,
    "start_time": "2021-07-15T17:17:07.915Z"
   },
   {
    "duration": 423,
    "start_time": "2021-07-15T17:17:09.484Z"
   },
   {
    "duration": 350,
    "start_time": "2021-07-15T17:17:10.637Z"
   },
   {
    "duration": 463,
    "start_time": "2021-07-15T17:17:12.618Z"
   },
   {
    "duration": 423,
    "start_time": "2021-07-15T17:17:14.360Z"
   },
   {
    "duration": 426,
    "start_time": "2021-07-15T17:17:16.366Z"
   },
   {
    "duration": 419,
    "start_time": "2021-07-15T17:17:22.159Z"
   },
   {
    "duration": 339,
    "start_time": "2021-07-15T17:17:23.540Z"
   },
   {
    "duration": 21,
    "start_time": "2021-07-15T17:17:25.677Z"
   },
   {
    "duration": 454,
    "start_time": "2021-07-15T17:17:42.140Z"
   },
   {
    "duration": 209,
    "start_time": "2021-07-15T17:18:10.025Z"
   },
   {
    "duration": 17,
    "start_time": "2021-07-15T17:18:14.122Z"
   },
   {
    "duration": 23,
    "start_time": "2021-07-15T17:18:53.942Z"
   },
   {
    "duration": 403,
    "start_time": "2021-07-15T17:18:56.699Z"
   },
   {
    "duration": 1188,
    "start_time": "2021-07-15T17:19:32.891Z"
   },
   {
    "duration": 17,
    "start_time": "2021-07-15T17:19:35.630Z"
   },
   {
    "duration": 6,
    "start_time": "2021-07-15T17:19:37.779Z"
   },
   {
    "duration": 42,
    "start_time": "2021-07-15T17:21:07.575Z"
   },
   {
    "duration": 22,
    "start_time": "2021-07-15T17:21:53.713Z"
   },
   {
    "duration": 26,
    "start_time": "2021-07-15T17:21:54.849Z"
   },
   {
    "duration": 33,
    "start_time": "2021-07-15T17:56:12.106Z"
   },
   {
    "duration": 29,
    "start_time": "2021-07-15T17:56:55.878Z"
   },
   {
    "duration": 21,
    "start_time": "2021-07-15T17:57:22.799Z"
   },
   {
    "duration": 387,
    "start_time": "2021-07-15T18:02:58.945Z"
   },
   {
    "duration": 426,
    "start_time": "2021-07-15T18:03:00.527Z"
   },
   {
    "duration": 433,
    "start_time": "2021-07-15T18:03:02.057Z"
   },
   {
    "duration": 354,
    "start_time": "2021-07-15T18:03:03.400Z"
   },
   {
    "duration": 459,
    "start_time": "2021-07-15T18:03:05.929Z"
   },
   {
    "duration": 447,
    "start_time": "2021-07-15T18:03:07.503Z"
   },
   {
    "duration": 416,
    "start_time": "2021-07-15T18:03:11.385Z"
   },
   {
    "duration": 389,
    "start_time": "2021-07-15T18:03:14.639Z"
   },
   {
    "duration": 366,
    "start_time": "2021-07-15T18:03:18.258Z"
   },
   {
    "duration": 567,
    "start_time": "2021-07-15T18:03:44.703Z"
   },
   {
    "duration": 463,
    "start_time": "2021-07-15T18:03:46.998Z"
   },
   {
    "duration": 10,
    "start_time": "2021-07-15T18:33:21.654Z"
   },
   {
    "duration": 10,
    "start_time": "2021-07-15T18:36:45.017Z"
   },
   {
    "duration": 11,
    "start_time": "2021-07-15T18:37:07.388Z"
   },
   {
    "duration": 426,
    "start_time": "2021-07-15T18:37:09.887Z"
   },
   {
    "duration": 11,
    "start_time": "2021-07-15T18:37:12.235Z"
   },
   {
    "duration": 11,
    "start_time": "2021-07-15T18:37:30.885Z"
   },
   {
    "duration": 10,
    "start_time": "2021-07-15T18:37:56.595Z"
   },
   {
    "duration": 14,
    "start_time": "2021-07-15T18:38:16.921Z"
   },
   {
    "duration": 11,
    "start_time": "2021-07-15T18:38:37.776Z"
   },
   {
    "duration": 11,
    "start_time": "2021-07-15T18:39:08.555Z"
   },
   {
    "duration": 11,
    "start_time": "2021-07-15T18:39:37.438Z"
   },
   {
    "duration": 251,
    "start_time": "2021-07-16T12:36:38.828Z"
   },
   {
    "duration": 1059,
    "start_time": "2021-07-16T12:59:12.336Z"
   },
   {
    "duration": 42,
    "start_time": "2021-07-16T12:59:13.397Z"
   },
   {
    "duration": 7,
    "start_time": "2021-07-16T12:59:13.441Z"
   },
   {
    "duration": 16,
    "start_time": "2021-07-16T12:59:13.450Z"
   },
   {
    "duration": 11,
    "start_time": "2021-07-16T12:59:13.468Z"
   },
   {
    "duration": 31,
    "start_time": "2021-07-16T12:59:13.480Z"
   },
   {
    "duration": 16,
    "start_time": "2021-07-16T12:59:13.513Z"
   },
   {
    "duration": 11,
    "start_time": "2021-07-16T12:59:13.531Z"
   },
   {
    "duration": 193,
    "start_time": "2021-07-16T12:59:13.543Z"
   },
   {
    "duration": 11,
    "start_time": "2021-07-16T12:59:13.738Z"
   },
   {
    "duration": 135,
    "start_time": "2021-07-16T12:59:13.750Z"
   },
   {
    "duration": 18,
    "start_time": "2021-07-16T12:59:13.887Z"
   },
   {
    "duration": 11,
    "start_time": "2021-07-16T12:59:13.907Z"
   },
   {
    "duration": 207,
    "start_time": "2021-07-16T12:59:13.919Z"
   },
   {
    "duration": 13,
    "start_time": "2021-07-16T12:59:14.127Z"
   },
   {
    "duration": 221,
    "start_time": "2021-07-16T12:59:14.141Z"
   },
   {
    "duration": 7,
    "start_time": "2021-07-16T12:59:14.363Z"
   },
   {
    "duration": 7,
    "start_time": "2021-07-16T12:59:14.371Z"
   },
   {
    "duration": 297,
    "start_time": "2021-07-16T12:59:14.379Z"
   },
   {
    "duration": 6,
    "start_time": "2021-07-16T12:59:14.677Z"
   },
   {
    "duration": 221,
    "start_time": "2021-07-16T12:59:14.691Z"
   },
   {
    "duration": 7,
    "start_time": "2021-07-16T12:59:14.914Z"
   },
   {
    "duration": 243,
    "start_time": "2021-07-16T12:59:14.924Z"
   },
   {
    "duration": 7,
    "start_time": "2021-07-16T12:59:15.169Z"
   },
   {
    "duration": 209,
    "start_time": "2021-07-16T12:59:15.178Z"
   },
   {
    "duration": 7,
    "start_time": "2021-07-16T12:59:15.389Z"
   },
   {
    "duration": 233,
    "start_time": "2021-07-16T12:59:15.398Z"
   },
   {
    "duration": 7,
    "start_time": "2021-07-16T12:59:15.632Z"
   },
   {
    "duration": 320,
    "start_time": "2021-07-16T12:59:15.640Z"
   },
   {
    "duration": 7,
    "start_time": "2021-07-16T12:59:15.961Z"
   },
   {
    "duration": 216,
    "start_time": "2021-07-16T12:59:15.969Z"
   },
   {
    "duration": 8,
    "start_time": "2021-07-16T12:59:16.187Z"
   },
   {
    "duration": 226,
    "start_time": "2021-07-16T12:59:16.197Z"
   },
   {
    "duration": 8,
    "start_time": "2021-07-16T12:59:16.425Z"
   },
   {
    "duration": 186,
    "start_time": "2021-07-16T12:59:16.435Z"
   },
   {
    "duration": 8,
    "start_time": "2021-07-16T12:59:16.623Z"
   },
   {
    "duration": 14,
    "start_time": "2021-07-16T12:59:16.632Z"
   },
   {
    "duration": 208,
    "start_time": "2021-07-16T12:59:16.647Z"
   },
   {
    "duration": 231,
    "start_time": "2021-07-16T12:59:16.857Z"
   },
   {
    "duration": 6,
    "start_time": "2021-07-16T12:59:17.089Z"
   },
   {
    "duration": 12,
    "start_time": "2021-07-16T12:59:17.096Z"
   },
   {
    "duration": 14,
    "start_time": "2021-07-16T12:59:17.109Z"
   },
   {
    "duration": 218,
    "start_time": "2021-07-16T12:59:17.124Z"
   },
   {
    "duration": 1203,
    "start_time": "2021-07-16T12:59:17.344Z"
   },
   {
    "duration": 11,
    "start_time": "2021-07-16T12:59:18.548Z"
   },
   {
    "duration": 10,
    "start_time": "2021-07-16T12:59:18.560Z"
   },
   {
    "duration": 38,
    "start_time": "2021-07-16T12:59:18.572Z"
   },
   {
    "duration": 13,
    "start_time": "2021-07-16T12:59:18.612Z"
   },
   {
    "duration": 15,
    "start_time": "2021-07-16T12:59:18.627Z"
   },
   {
    "duration": 19,
    "start_time": "2021-07-16T12:59:18.643Z"
   },
   {
    "duration": 32,
    "start_time": "2021-07-16T12:59:18.664Z"
   },
   {
    "duration": 218,
    "start_time": "2021-07-16T12:59:18.697Z"
   },
   {
    "duration": 337,
    "start_time": "2021-07-16T12:59:18.916Z"
   },
   {
    "duration": 236,
    "start_time": "2021-07-16T12:59:19.255Z"
   },
   {
    "duration": 196,
    "start_time": "2021-07-16T12:59:19.493Z"
   },
   {
    "duration": 249,
    "start_time": "2021-07-16T12:59:19.691Z"
   },
   {
    "duration": 237,
    "start_time": "2021-07-16T12:59:19.942Z"
   },
   {
    "duration": 215,
    "start_time": "2021-07-16T12:59:20.180Z"
   },
   {
    "duration": 210,
    "start_time": "2021-07-16T12:59:20.396Z"
   },
   {
    "duration": 194,
    "start_time": "2021-07-16T12:59:20.608Z"
   },
   {
    "duration": 216,
    "start_time": "2021-07-16T12:59:20.804Z"
   },
   {
    "duration": 353,
    "start_time": "2021-07-16T12:59:21.022Z"
   },
   {
    "duration": 15,
    "start_time": "2021-07-16T12:59:21.377Z"
   },
   {
    "duration": 1131,
    "start_time": "2021-07-17T09:21:18.876Z"
   },
   {
    "duration": 45,
    "start_time": "2021-07-17T09:21:27.905Z"
   },
   {
    "duration": 9,
    "start_time": "2021-07-17T09:21:29.471Z"
   },
   {
    "duration": 12,
    "start_time": "2021-07-17T09:21:30.772Z"
   },
   {
    "duration": 8,
    "start_time": "2021-07-17T09:21:33.173Z"
   },
   {
    "duration": 20,
    "start_time": "2021-07-17T09:21:48.142Z"
   },
   {
    "duration": 17,
    "start_time": "2021-07-17T09:21:50.422Z"
   },
   {
    "duration": 13,
    "start_time": "2021-07-17T09:27:57.426Z"
   },
   {
    "duration": 13,
    "start_time": "2021-07-17T09:28:13.298Z"
   },
   {
    "duration": 14,
    "start_time": "2021-07-17T09:29:10.350Z"
   },
   {
    "duration": 9,
    "start_time": "2021-07-17T09:29:36.472Z"
   },
   {
    "duration": 15,
    "start_time": "2021-07-17T09:32:23.760Z"
   },
   {
    "duration": 214,
    "start_time": "2021-07-17T09:32:25.097Z"
   },
   {
    "duration": 14,
    "start_time": "2021-07-17T09:32:30.891Z"
   },
   {
    "duration": 144,
    "start_time": "2021-07-17T09:32:31.956Z"
   },
   {
    "duration": 16,
    "start_time": "2021-07-17T09:32:42.537Z"
   },
   {
    "duration": 12,
    "start_time": "2021-07-17T09:32:44.809Z"
   },
   {
    "duration": 4,
    "start_time": "2021-07-17T09:34:39.731Z"
   },
   {
    "duration": 6,
    "start_time": "2021-07-17T09:34:51.334Z"
   },
   {
    "duration": 6,
    "start_time": "2021-07-17T09:35:10.139Z"
   },
   {
    "duration": 7,
    "start_time": "2021-07-17T09:43:29.061Z"
   },
   {
    "duration": 4,
    "start_time": "2021-07-17T09:51:07.769Z"
   },
   {
    "duration": 7,
    "start_time": "2021-07-17T09:51:20.188Z"
   },
   {
    "duration": 8,
    "start_time": "2021-07-17T09:55:16.317Z"
   },
   {
    "duration": 283,
    "start_time": "2021-07-17T09:56:10.772Z"
   },
   {
    "duration": 7,
    "start_time": "2021-07-17T09:56:54.238Z"
   },
   {
    "duration": 180,
    "start_time": "2021-07-17T09:58:30.880Z"
   },
   {
    "duration": 5,
    "start_time": "2021-07-17T09:59:05.028Z"
   },
   {
    "duration": 9,
    "start_time": "2021-07-17T09:59:16.878Z"
   },
   {
    "duration": 182,
    "start_time": "2021-07-17T10:00:21.926Z"
   },
   {
    "duration": 9,
    "start_time": "2021-07-17T10:00:36.537Z"
   },
   {
    "duration": 9,
    "start_time": "2021-07-17T10:02:28.763Z"
   },
   {
    "duration": 5,
    "start_time": "2021-07-17T10:05:12.829Z"
   },
   {
    "duration": 4,
    "start_time": "2021-07-17T10:05:29.585Z"
   },
   {
    "duration": 63,
    "start_time": "2021-07-17T10:06:12.330Z"
   },
   {
    "duration": 180,
    "start_time": "2021-07-17T10:06:21.274Z"
   },
   {
    "duration": 227,
    "start_time": "2021-07-17T10:06:39.484Z"
   },
   {
    "duration": 54,
    "start_time": "2021-07-17T10:28:07.424Z"
   },
   {
    "duration": 195,
    "start_time": "2021-07-17T10:31:45.601Z"
   },
   {
    "duration": 4,
    "start_time": "2021-07-17T10:32:29.631Z"
   },
   {
    "duration": 6,
    "start_time": "2021-07-17T10:32:50.704Z"
   },
   {
    "duration": 5,
    "start_time": "2021-07-17T10:43:29.677Z"
   },
   {
    "duration": 4,
    "start_time": "2021-07-17T10:46:15.000Z"
   },
   {
    "duration": 6,
    "start_time": "2021-07-17T10:46:34.224Z"
   },
   {
    "duration": 5,
    "start_time": "2021-07-17T10:47:00.145Z"
   },
   {
    "duration": 177,
    "start_time": "2021-07-17T10:50:36.864Z"
   },
   {
    "duration": 12,
    "start_time": "2021-07-17T10:51:37.231Z"
   },
   {
    "duration": 267,
    "start_time": "2021-07-17T11:08:28.825Z"
   },
   {
    "duration": 184,
    "start_time": "2021-07-17T11:13:24.779Z"
   },
   {
    "duration": 183,
    "start_time": "2021-07-17T11:14:09.994Z"
   },
   {
    "duration": 186,
    "start_time": "2021-07-17T11:14:37.593Z"
   },
   {
    "duration": 340,
    "start_time": "2021-07-17T11:14:56.168Z"
   },
   {
    "duration": 334,
    "start_time": "2021-07-17T11:25:49.368Z"
   },
   {
    "duration": 309,
    "start_time": "2021-07-17T11:26:13.704Z"
   },
   {
    "duration": 277,
    "start_time": "2021-07-17T11:26:33.732Z"
   },
   {
    "duration": 8,
    "start_time": "2021-07-17T11:29:32.683Z"
   },
   {
    "duration": 260,
    "start_time": "2021-07-17T11:33:05.728Z"
   },
   {
    "duration": 276,
    "start_time": "2021-07-17T11:33:24.530Z"
   },
   {
    "duration": 9,
    "start_time": "2021-07-17T11:35:00.958Z"
   },
   {
    "duration": 343,
    "start_time": "2021-07-17T12:11:14.072Z"
   },
   {
    "duration": 328,
    "start_time": "2021-07-17T12:11:34.478Z"
   },
   {
    "duration": 323,
    "start_time": "2021-07-17T12:12:02.539Z"
   },
   {
    "duration": 304,
    "start_time": "2021-07-17T12:12:48.295Z"
   },
   {
    "duration": 310,
    "start_time": "2021-07-17T12:13:04.206Z"
   },
   {
    "duration": 300,
    "start_time": "2021-07-17T12:13:18.429Z"
   },
   {
    "duration": 330,
    "start_time": "2021-07-17T12:13:27.492Z"
   },
   {
    "duration": 387,
    "start_time": "2021-07-17T12:20:20.731Z"
   },
   {
    "duration": 313,
    "start_time": "2021-07-17T12:20:39.805Z"
   },
   {
    "duration": 8,
    "start_time": "2021-07-17T12:21:47.089Z"
   },
   {
    "duration": 346,
    "start_time": "2021-07-17T12:23:09.349Z"
   },
   {
    "duration": 9,
    "start_time": "2021-07-17T12:26:01.269Z"
   },
   {
    "duration": 305,
    "start_time": "2021-07-17T12:27:11.019Z"
   },
   {
    "duration": 323,
    "start_time": "2021-07-17T12:27:49.593Z"
   },
   {
    "duration": 319,
    "start_time": "2021-07-17T12:28:48.243Z"
   },
   {
    "duration": 331,
    "start_time": "2021-07-17T12:30:07.443Z"
   },
   {
    "duration": 323,
    "start_time": "2021-07-17T12:30:26.592Z"
   },
   {
    "duration": 329,
    "start_time": "2021-07-17T12:35:34.508Z"
   },
   {
    "duration": 340,
    "start_time": "2021-07-17T12:35:42.583Z"
   },
   {
    "duration": 211,
    "start_time": "2021-07-17T12:42:44.096Z"
   },
   {
    "duration": 204,
    "start_time": "2021-07-17T12:43:04.534Z"
   },
   {
    "duration": 251,
    "start_time": "2021-07-17T12:43:27.885Z"
   },
   {
    "duration": 255,
    "start_time": "2021-07-17T12:43:46.075Z"
   },
   {
    "duration": 342,
    "start_time": "2021-07-17T12:44:21.310Z"
   },
   {
    "duration": 262,
    "start_time": "2021-07-17T12:44:39.873Z"
   },
   {
    "duration": 228,
    "start_time": "2021-07-17T12:44:57.574Z"
   },
   {
    "duration": 248,
    "start_time": "2021-07-17T12:45:13.219Z"
   },
   {
    "duration": 260,
    "start_time": "2021-07-17T12:45:31.158Z"
   },
   {
    "duration": 189,
    "start_time": "2021-07-17T12:45:46.618Z"
   },
   {
    "duration": 6,
    "start_time": "2021-07-17T12:45:52.790Z"
   },
   {
    "duration": 277,
    "start_time": "2021-07-17T12:45:53.685Z"
   },
   {
    "duration": 160,
    "start_time": "2021-07-17T12:51:03.719Z"
   },
   {
    "duration": 5,
    "start_time": "2021-07-17T12:51:06.781Z"
   },
   {
    "duration": 10,
    "start_time": "2021-07-17T12:51:41.228Z"
   },
   {
    "duration": 15,
    "start_time": "2021-07-17T12:51:47.818Z"
   },
   {
    "duration": 235,
    "start_time": "2021-07-17T12:51:49.217Z"
   },
   {
    "duration": 1554,
    "start_time": "2021-07-17T12:51:50.586Z"
   },
   {
    "duration": 61,
    "start_time": "2021-07-17T12:52:34.770Z"
   },
   {
    "duration": 57,
    "start_time": "2021-07-17T12:52:48.623Z"
   },
   {
    "duration": 609,
    "start_time": "2021-07-17T12:53:25.803Z"
   },
   {
    "duration": 26,
    "start_time": "2021-07-17T12:53:34.344Z"
   },
   {
    "duration": 187,
    "start_time": "2021-07-17T12:56:03.935Z"
   },
   {
    "duration": 166,
    "start_time": "2021-07-17T12:56:27.657Z"
   },
   {
    "duration": 2258,
    "start_time": "2021-07-17T12:57:07.873Z"
   },
   {
    "duration": 1107,
    "start_time": "2021-07-17T12:57:50.770Z"
   },
   {
    "duration": 922,
    "start_time": "2021-07-17T12:58:16.464Z"
   },
   {
    "duration": 10,
    "start_time": "2021-07-17T12:58:44.406Z"
   },
   {
    "duration": 4,
    "start_time": "2021-07-17T12:58:53.100Z"
   },
   {
    "duration": 27,
    "start_time": "2021-07-17T12:58:55.609Z"
   },
   {
    "duration": 18,
    "start_time": "2021-07-17T12:59:11.650Z"
   },
   {
    "duration": 17,
    "start_time": "2021-07-17T12:59:13.005Z"
   },
   {
    "duration": 269,
    "start_time": "2021-07-17T13:03:37.644Z"
   },
   {
    "duration": 170,
    "start_time": "2021-07-17T13:05:19.087Z"
   },
   {
    "duration": 12,
    "start_time": "2021-07-17T13:05:23.731Z"
   },
   {
    "duration": 199,
    "start_time": "2021-07-17T13:05:25.538Z"
   },
   {
    "duration": 16,
    "start_time": "2021-07-17T13:05:41.609Z"
   },
   {
    "duration": 62,
    "start_time": "2021-07-17T14:38:29.150Z"
   },
   {
    "duration": 3,
    "start_time": "2021-07-17T14:39:51.490Z"
   },
   {
    "duration": 172,
    "start_time": "2021-07-17T14:42:37.176Z"
   },
   {
    "duration": 181,
    "start_time": "2021-07-17T14:42:53.944Z"
   },
   {
    "duration": 58,
    "start_time": "2021-07-17T14:46:06.340Z"
   },
   {
    "duration": 340,
    "start_time": "2021-07-17T14:46:30.067Z"
   },
   {
    "duration": 62,
    "start_time": "2021-07-17T14:49:51.601Z"
   },
   {
    "duration": 6,
    "start_time": "2021-07-17T14:50:10.345Z"
   },
   {
    "duration": 9,
    "start_time": "2021-07-17T14:50:38.975Z"
   },
   {
    "duration": 10,
    "start_time": "2021-07-17T14:52:28.844Z"
   },
   {
    "duration": 12,
    "start_time": "2021-07-17T14:53:18.011Z"
   },
   {
    "duration": 10,
    "start_time": "2021-07-17T14:54:03.917Z"
   },
   {
    "duration": 189,
    "start_time": "2021-07-17T14:54:38.164Z"
   },
   {
    "duration": 13,
    "start_time": "2021-07-17T14:54:54.412Z"
   },
   {
    "duration": 13,
    "start_time": "2021-07-17T14:55:12.411Z"
   },
   {
    "duration": 13,
    "start_time": "2021-07-17T14:55:30.946Z"
   },
   {
    "duration": 13,
    "start_time": "2021-07-17T14:55:42.880Z"
   },
   {
    "duration": 12,
    "start_time": "2021-07-17T14:55:52.419Z"
   },
   {
    "duration": 14,
    "start_time": "2021-07-17T15:00:14.555Z"
   },
   {
    "duration": 24,
    "start_time": "2021-07-17T15:03:18.985Z"
   },
   {
    "duration": 15,
    "start_time": "2021-07-17T15:03:22.065Z"
   },
   {
    "duration": 262,
    "start_time": "2021-07-17T15:03:41.881Z"
   },
   {
    "duration": 262,
    "start_time": "2021-07-17T15:03:42.769Z"
   },
   {
    "duration": 286,
    "start_time": "2021-07-17T15:03:43.780Z"
   },
   {
    "duration": 239,
    "start_time": "2021-07-17T15:03:44.632Z"
   },
   {
    "duration": 315,
    "start_time": "2021-07-17T15:03:45.731Z"
   },
   {
    "duration": 289,
    "start_time": "2021-07-17T15:03:46.778Z"
   },
   {
    "duration": 271,
    "start_time": "2021-07-17T15:03:47.935Z"
   },
   {
    "duration": 255,
    "start_time": "2021-07-17T15:03:49.202Z"
   },
   {
    "duration": 239,
    "start_time": "2021-07-17T15:03:51.074Z"
   },
   {
    "duration": 257,
    "start_time": "2021-07-17T15:03:52.399Z"
   },
   {
    "duration": 278,
    "start_time": "2021-07-17T15:03:53.636Z"
   },
   {
    "duration": 417,
    "start_time": "2021-07-17T15:07:32.217Z"
   },
   {
    "duration": 472,
    "start_time": "2021-07-17T15:18:40.439Z"
   },
   {
    "duration": 477,
    "start_time": "2021-07-17T15:19:02.600Z"
   },
   {
    "duration": 458,
    "start_time": "2021-07-17T15:19:09.121Z"
   },
   {
    "duration": 474,
    "start_time": "2021-07-17T15:21:00.089Z"
   },
   {
    "duration": 475,
    "start_time": "2021-07-17T15:21:20.131Z"
   },
   {
    "duration": 465,
    "start_time": "2021-07-17T15:21:45.980Z"
   },
   {
    "duration": 309,
    "start_time": "2021-07-17T15:23:20.558Z"
   },
   {
    "duration": 294,
    "start_time": "2021-07-17T15:23:32.873Z"
   },
   {
    "duration": 491,
    "start_time": "2021-07-17T15:25:04.555Z"
   },
   {
    "duration": 632,
    "start_time": "2021-07-17T15:25:46.508Z"
   },
   {
    "duration": 444,
    "start_time": "2021-07-17T15:26:53.431Z"
   },
   {
    "duration": 304,
    "start_time": "2021-07-17T15:27:51.851Z"
   },
   {
    "duration": 294,
    "start_time": "2021-07-17T15:28:41.249Z"
   },
   {
    "duration": 298,
    "start_time": "2021-07-17T15:28:57.101Z"
   },
   {
    "duration": 316,
    "start_time": "2021-07-17T15:30:01.657Z"
   },
   {
    "duration": 65,
    "start_time": "2021-07-17T15:33:53.157Z"
   },
   {
    "duration": 321,
    "start_time": "2021-07-17T15:34:02.259Z"
   },
   {
    "duration": 338,
    "start_time": "2021-07-17T15:34:16.105Z"
   },
   {
    "duration": 4,
    "start_time": "2021-07-17T15:41:51.287Z"
   },
   {
    "duration": 47,
    "start_time": "2021-07-17T15:41:52.905Z"
   },
   {
    "duration": 9,
    "start_time": "2021-07-17T15:41:54.639Z"
   },
   {
    "duration": 9,
    "start_time": "2021-07-17T15:41:56.120Z"
   },
   {
    "duration": 21,
    "start_time": "2021-07-17T15:43:35.311Z"
   },
   {
    "duration": 19,
    "start_time": "2021-07-17T15:43:42.006Z"
   },
   {
    "duration": 13,
    "start_time": "2021-07-17T15:43:43.408Z"
   },
   {
    "duration": 12,
    "start_time": "2021-07-17T15:44:04.662Z"
   },
   {
    "duration": 228,
    "start_time": "2021-07-17T15:44:06.037Z"
   },
   {
    "duration": 13,
    "start_time": "2021-07-17T15:44:11.299Z"
   },
   {
    "duration": 156,
    "start_time": "2021-07-17T15:44:12.480Z"
   },
   {
    "duration": 14,
    "start_time": "2021-07-17T15:44:21.372Z"
   },
   {
    "duration": 6,
    "start_time": "2021-07-17T15:44:23.572Z"
   },
   {
    "duration": 8,
    "start_time": "2021-07-17T15:44:38.803Z"
   },
   {
    "duration": 9,
    "start_time": "2021-07-17T15:44:46.734Z"
   },
   {
    "duration": 4,
    "start_time": "2021-07-17T15:44:48.107Z"
   },
   {
    "duration": 229,
    "start_time": "2021-07-17T15:45:26.290Z"
   },
   {
    "duration": 7,
    "start_time": "2021-07-17T15:48:22.857Z"
   },
   {
    "duration": 270,
    "start_time": "2021-07-17T15:48:24.582Z"
   },
   {
    "duration": 7,
    "start_time": "2021-07-17T15:48:25.902Z"
   },
   {
    "duration": 456,
    "start_time": "2021-07-17T15:48:27.140Z"
   },
   {
    "duration": 8,
    "start_time": "2021-07-17T15:48:28.248Z"
   },
   {
    "duration": 258,
    "start_time": "2021-07-17T15:48:29.317Z"
   },
   {
    "duration": 8,
    "start_time": "2021-07-17T15:48:30.163Z"
   },
   {
    "duration": 218,
    "start_time": "2021-07-17T15:48:31.218Z"
   },
   {
    "duration": 8,
    "start_time": "2021-07-17T15:48:32.204Z"
   },
   {
    "duration": 257,
    "start_time": "2021-07-17T15:48:33.216Z"
   },
   {
    "duration": 8,
    "start_time": "2021-07-17T15:48:34.196Z"
   },
   {
    "duration": 240,
    "start_time": "2021-07-17T15:48:35.600Z"
   },
   {
    "duration": 9,
    "start_time": "2021-07-17T15:48:37.229Z"
   },
   {
    "duration": 235,
    "start_time": "2021-07-17T15:48:38.629Z"
   },
   {
    "duration": 8,
    "start_time": "2021-07-17T15:48:39.838Z"
   },
   {
    "duration": 243,
    "start_time": "2021-07-17T15:48:40.849Z"
   },
   {
    "duration": 8,
    "start_time": "2021-07-17T15:48:42.051Z"
   },
   {
    "duration": 215,
    "start_time": "2021-07-17T15:48:43.183Z"
   },
   {
    "duration": 8,
    "start_time": "2021-07-17T15:48:44.222Z"
   },
   {
    "duration": 15,
    "start_time": "2021-07-17T15:49:05.298Z"
   },
   {
    "duration": 214,
    "start_time": "2021-07-17T15:49:07.114Z"
   },
   {
    "duration": 158,
    "start_time": "2021-07-17T15:49:28.690Z"
   },
   {
    "duration": 4,
    "start_time": "2021-07-17T15:50:14.840Z"
   },
   {
    "duration": 11,
    "start_time": "2021-07-17T15:50:17.289Z"
   },
   {
    "duration": 17,
    "start_time": "2021-07-17T15:50:34.909Z"
   },
   {
    "duration": 225,
    "start_time": "2021-07-17T15:50:37.617Z"
   },
   {
    "duration": 1235,
    "start_time": "2021-07-17T15:50:38.862Z"
   },
   {
    "duration": 11,
    "start_time": "2021-07-17T15:51:22.092Z"
   },
   {
    "duration": 5,
    "start_time": "2021-07-17T15:51:23.812Z"
   },
   {
    "duration": 29,
    "start_time": "2021-07-17T15:51:26.027Z"
   },
   {
    "duration": 16,
    "start_time": "2021-07-17T15:51:27.198Z"
   },
   {
    "duration": 17,
    "start_time": "2021-07-17T15:51:28.652Z"
   },
   {
    "duration": 13,
    "start_time": "2021-07-17T15:52:07.395Z"
   },
   {
    "duration": 23,
    "start_time": "2021-07-17T15:54:10.105Z"
   },
   {
    "duration": 15,
    "start_time": "2021-07-17T15:54:11.231Z"
   },
   {
    "duration": 330,
    "start_time": "2021-07-17T15:54:15.289Z"
   },
   {
    "duration": 4,
    "start_time": "2021-07-17T16:03:44.646Z"
   },
   {
    "duration": 12,
    "start_time": "2021-07-17T16:03:45.659Z"
   },
   {
    "duration": 16,
    "start_time": "2021-07-17T16:03:50.063Z"
   },
   {
    "duration": 232,
    "start_time": "2021-07-17T16:03:51.302Z"
   },
   {
    "duration": 1210,
    "start_time": "2021-07-17T16:03:54.755Z"
   },
   {
    "duration": 12,
    "start_time": "2021-07-17T16:03:58.028Z"
   },
   {
    "duration": 4,
    "start_time": "2021-07-17T16:03:59.251Z"
   },
   {
    "duration": 34,
    "start_time": "2021-07-17T16:04:00.193Z"
   },
   {
    "duration": 18,
    "start_time": "2021-07-17T16:04:09.191Z"
   },
   {
    "duration": 16,
    "start_time": "2021-07-17T16:04:12.294Z"
   },
   {
    "duration": 19,
    "start_time": "2021-07-17T16:27:44.169Z"
   },
   {
    "duration": 22,
    "start_time": "2021-07-17T16:27:55.012Z"
   },
   {
    "duration": 14,
    "start_time": "2021-07-17T16:27:56.273Z"
   },
   {
    "duration": 329,
    "start_time": "2021-07-17T16:27:58.857Z"
   },
   {
    "duration": 8,
    "start_time": "2021-07-17T16:28:12.478Z"
   },
   {
    "duration": 329,
    "start_time": "2021-07-17T17:01:27.809Z"
   },
   {
    "duration": 575,
    "start_time": "2021-07-17T17:02:15.629Z"
   },
   {
    "duration": 342,
    "start_time": "2021-07-17T17:02:36.939Z"
   },
   {
    "duration": 346,
    "start_time": "2021-07-17T17:05:20.469Z"
   },
   {
    "duration": 91,
    "start_time": "2021-07-17T22:11:46.130Z"
   },
   {
    "duration": 96,
    "start_time": "2021-07-17T22:14:36.815Z"
   },
   {
    "duration": 87,
    "start_time": "2021-07-17T22:16:43.754Z"
   },
   {
    "duration": 95,
    "start_time": "2021-07-17T22:19:22.285Z"
   },
   {
    "duration": 1601,
    "start_time": "2021-08-16T20:48:57.947Z"
   }
  ],
  "kernelspec": {
   "display_name": "Python 3",
   "language": "python",
   "name": "python3"
  },
  "language_info": {
   "codemirror_mode": {
    "name": "ipython",
    "version": 3
   },
   "file_extension": ".py",
   "mimetype": "text/x-python",
   "name": "python",
   "nbconvert_exporter": "python",
   "pygments_lexer": "ipython3",
   "version": "3.7.8"
  },
  "toc": {
   "base_numbering": 1,
   "nav_menu": {},
   "number_sections": true,
   "sideBar": true,
   "skip_h1_title": true,
   "title_cell": "Table of Contents",
   "title_sidebar": "Contents",
   "toc_cell": false,
   "toc_position": {},
   "toc_section_display": true,
   "toc_window_display": false
  }
 },
 "nbformat": 4,
 "nbformat_minor": 2
}
